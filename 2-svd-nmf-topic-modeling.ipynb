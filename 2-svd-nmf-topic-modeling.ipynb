{
 "cells": [
  {
   "cell_type": "markdown",
   "metadata": {},
   "source": [
    "# Topic Modeling with NMF and SVD"
   ]
  },
  {
   "cell_type": "markdown",
   "metadata": {},
   "source": [
    "## The problem"
   ]
  },
  {
   "cell_type": "markdown",
   "metadata": {},
   "source": [
    "Topic modeling is a fun way to start our study of NLP. We will use two popular **matrix decomposition techniques**. \n",
    "\n",
    "We start with a **term-document matrix**:\n",
    "\n",
    "<img src=\"images/document_term.png\" alt=\"term-document matrix\" style=\"width: 80%\"/>\n",
    "\n",
    "source: [Introduction to Information Retrieval](http://player.slideplayer.com/15/4528582/#)\n",
    "\n",
    "We can decompose this into one tall thin matrix times one wide short matrix (possibly with a diagonal matrix in between).\n",
    "\n",
    "Notice that this representation does not take into account word order or sentence structure.  It's an example of a **bag of words** approach."
   ]
  },
  {
   "cell_type": "markdown",
   "metadata": {},
   "source": [
    "Latent Semantic Analysis (LSA) uses Singular Value Decomposition (SVD)."
   ]
  },
  {
   "cell_type": "markdown",
   "metadata": {},
   "source": [
    "### Motivation"
   ]
  },
  {
   "cell_type": "markdown",
   "metadata": {},
   "source": [
    "Consider the most extreme case - reconstructing the matrix using an outer product of two vectors. Clearly, in most cases we won't be able to reconstruct the matrix exactly. But if we had one vector with the relative frequency of each vocabulary word out of the total word count, and one with the average number of words per document, then that outer product would be as close as we can get.\n",
    "\n",
    "Now consider increasing that matrices to two columns and two rows. The optimal decomposition would now be to cluster the documents into two groups, each of which has as different a distribution of words as possible to each other, but as similar as possible amongst the documents in the cluster. We will call those two groups \"topics\". And we would cluster the words into two groups, based on those which most frequently appear in each of the topics. "
   ]
  },
  {
   "cell_type": "markdown",
   "metadata": {},
   "source": [
    "## Getting started"
   ]
  },
  {
   "cell_type": "markdown",
   "metadata": {},
   "source": [
    "We'll take a dataset of documents in several different categories, and find topics (consisting of groups of words) for them.  Knowing the actual categories helps us evaluate if the topics we find make sense.\n",
    "\n",
    "We will try this with two different matrix factorizations: **Singular Value Decomposition (SVD)** and **Non-negative Matrix Factorization (NMF)**"
   ]
  },
  {
   "cell_type": "code",
   "execution_count": 3,
   "metadata": {},
   "outputs": [],
   "source": [
    "import numpy as np\n",
    "from sklearn.datasets import fetch_20newsgroups\n",
    "from sklearn import decomposition\n",
    "from scipy import linalg\n",
    "import matplotlib.pyplot as plt"
   ]
  },
  {
   "cell_type": "code",
   "execution_count": 4,
   "metadata": {},
   "outputs": [],
   "source": [
    "%matplotlib inline\n",
    "np.set_printoptions(suppress=True)"
   ]
  },
  {
   "cell_type": "markdown",
   "metadata": {},
   "source": [
    "### Additional Resources"
   ]
  },
  {
   "cell_type": "markdown",
   "metadata": {},
   "source": [
    "- [Data source](http://scikit-learn.org/stable/datasets/twenty_newsgroups.html): Newsgroups are discussion groups on Usenet, which was popular in the 80s and 90s before the web really took off.  This dataset includes 18,000 newsgroups posts with 20 topics.\n",
    "- [Chris Manning's book chapter](https://nlp.stanford.edu/IR-book/pdf/18lsi.pdf) on matrix factorization and LSI \n",
    "- Scikit learn [truncated SVD LSI details](http://scikit-learn.org/stable/modules/decomposition.html#lsa)\n",
    "\n",
    "### Other Tutorials\n",
    "- [Scikit-Learn: Out-of-core classification of text documents](http://scikit-learn.org/stable/auto_examples/applications/plot_out_of_core_classification.html): uses [Reuters-21578](https://archive.ics.uci.edu/ml/datasets/reuters-21578+text+categorization+collection) dataset (Reuters articles labeled with ~100 categories), HashingVectorizer\n",
    "- [Text Analysis with Topic Models for the Humanities and Social Sciences](https://de.dariah.eu/tatom/index.html): uses [British and French Literature dataset](https://de.dariah.eu/tatom/datasets.html) of Jane Austen, Charlotte Bronte, Victor Hugo, and more"
   ]
  },
  {
   "cell_type": "markdown",
   "metadata": {},
   "source": [
    "## Look at our data"
   ]
  },
  {
   "cell_type": "markdown",
   "metadata": {},
   "source": [
    "Scikit Learn comes with a number of built-in datasets, as well as loading utilities to load several standard external datasets. This is a [great resource](http://scikit-learn.org/stable/datasets/), and the datasets include Boston housing prices, face images, patches of forest, diabetes, breast cancer, and more.  We will be using the newsgroups dataset.\n",
    "\n",
    "Newsgroups are discussion groups on Usenet, which was popular in the 80s and 90s before the web really took off.  This dataset includes 18,000 newsgroups posts with 20 topics.  "
   ]
  },
  {
   "cell_type": "code",
   "execution_count": 5,
   "metadata": {},
   "outputs": [],
   "source": [
    "categories = ['alt.atheism', 'talk.religion.misc', 'comp.graphics', 'sci.space']\n",
    "remove = ('headers', 'footers', 'quotes')\n",
    "newsgroups_train = fetch_20newsgroups(subset='train', categories=categories, remove=remove)\n",
    "newsgroups_test = fetch_20newsgroups(subset='test', categories=categories, remove=remove)"
   ]
  },
  {
   "cell_type": "code",
   "execution_count": 6,
   "metadata": {},
   "outputs": [
    {
     "output_type": "execute_result",
     "data": {
      "text/plain": [
       "((2034,), (2034,))"
      ]
     },
     "metadata": {},
     "execution_count": 6
    }
   ],
   "source": [
    "newsgroups_train.filenames.shape, newsgroups_train.target.shape"
   ]
  },
  {
   "cell_type": "markdown",
   "metadata": {},
   "source": [
    "Let's look at some of the data.  Can you guess which category these messages are in?"
   ]
  },
  {
   "cell_type": "code",
   "execution_count": 7,
   "metadata": {},
   "outputs": [
    {
     "output_type": "stream",
     "name": "stdout",
     "text": [
      "Hi,\n\nI've noticed that if you only save a model (with all your mapping planes\npositioned carefully) to a .3DS file that when you reload it after restarting\n3DS, they are given a default position and orientation.  But if you save\nto a .PRJ file their positions/orientation are preserved.  Does anyone\nknow why this information is not stored in the .3DS file?  Nothing is\nexplicitly said in the manual about saving texture rules in the .PRJ file. \nI'd like to be able to read the texture rule information, does anyone have \nthe format for the .PRJ file?\n\nIs the .CEL file format available from somewhere?\n\nRych\n\n\nSeems to be, barring evidence to the contrary, that Koresh was simply\nanother deranged fanatic who thought it neccessary to take a whole bunch of\nfolks with him, children and all, to satisfy his delusional mania. Jim\nJones, circa 1993.\n\n\nNope - fruitcakes like Koresh have been demonstrating such evil corruption\nfor centuries.\n\n >In article <1993Apr19.020359.26996@sq.sq.com>, msb@sq.sq.com (Mark Brader) \n\nMB>                                                             So the\nMB> 1970 figure seems unlikely to actually be anything but a perijove.\n\nJG>Sorry, _perijoves_...I'm not used to talking this language.\n\nCouldn't we just say periapsis or apoapsis?\n\n \n"
     ]
    }
   ],
   "source": [
    "print(\"\\n\".join(newsgroups_train.data[:3]))"
   ]
  },
  {
   "cell_type": "markdown",
   "metadata": {},
   "source": [
    "hint: definition of *perijove* is the point in the orbit of a satellite of Jupiter nearest the planet's center "
   ]
  },
  {
   "cell_type": "code",
   "execution_count": 8,
   "metadata": {},
   "outputs": [
    {
     "output_type": "execute_result",
     "data": {
      "text/plain": [
       "array(['comp.graphics', 'talk.religion.misc', 'sci.space'], dtype='<U18')"
      ]
     },
     "metadata": {},
     "execution_count": 8
    }
   ],
   "source": [
    "np.array(newsgroups_train.target_names)[newsgroups_train.target[:3]]"
   ]
  },
  {
   "cell_type": "markdown",
   "metadata": {},
   "source": [
    "The target attribute is the integer index of the category."
   ]
  },
  {
   "cell_type": "code",
   "execution_count": 9,
   "metadata": {},
   "outputs": [
    {
     "output_type": "execute_result",
     "data": {
      "text/plain": [
       "array([1, 3, 2, 0, 2, 0, 2, 1, 2, 1], dtype=int64)"
      ]
     },
     "metadata": {},
     "execution_count": 9
    }
   ],
   "source": [
    "newsgroups_train.target[:10]"
   ]
  },
  {
   "cell_type": "code",
   "execution_count": 10,
   "metadata": {},
   "outputs": [],
   "source": [
    "num_topics, num_top_words = 6, 8"
   ]
  },
  {
   "cell_type": "markdown",
   "metadata": {},
   "source": [
    "## Stop words, stemming, lemmatization"
   ]
  },
  {
   "cell_type": "markdown",
   "metadata": {},
   "source": [
    "### Stop words"
   ]
  },
  {
   "cell_type": "markdown",
   "metadata": {},
   "source": [
    "From [Intro to Information Retrieval](https://nlp.stanford.edu/IR-book/html/htmledition/dropping-common-terms-stop-words-1.html):\n",
    "\n",
    "*Some extremely common words which would appear to be of little value in helping select documents matching a user need are excluded from the vocabulary entirely. These words are called stop words.*\n",
    "\n",
    "*The general trend in IR systems over time has been from standard use of quite large stop lists (200-300 terms) to very small stop lists (7-12 terms) to no stop list whatsoever. Web search engines generally do not use stop lists.*"
   ]
  },
  {
   "cell_type": "markdown",
   "metadata": {},
   "source": [
    "#### NLTK"
   ]
  },
  {
   "cell_type": "code",
   "execution_count": 11,
   "metadata": {},
   "outputs": [
    {
     "output_type": "execute_result",
     "data": {
      "text/plain": [
       "['a',\n",
       " 'about',\n",
       " 'above',\n",
       " 'across',\n",
       " 'after',\n",
       " 'afterwards',\n",
       " 'again',\n",
       " 'against',\n",
       " 'all',\n",
       " 'almost',\n",
       " 'alone',\n",
       " 'along',\n",
       " 'already',\n",
       " 'also',\n",
       " 'although',\n",
       " 'always',\n",
       " 'am',\n",
       " 'among',\n",
       " 'amongst',\n",
       " 'amoungst']"
      ]
     },
     "metadata": {},
     "execution_count": 11
    }
   ],
   "source": [
    "from sklearn.feature_extraction import stop_words\n",
    "\n",
    "sorted(list(stop_words.ENGLISH_STOP_WORDS))[:20]"
   ]
  },
  {
   "cell_type": "markdown",
   "metadata": {},
   "source": [
    "There is no single universal list of stop words."
   ]
  },
  {
   "cell_type": "markdown",
   "metadata": {},
   "source": [
    "### Stemming and Lemmatization"
   ]
  },
  {
   "cell_type": "markdown",
   "metadata": {},
   "source": [
    "from [Information Retrieval](https://nlp.stanford.edu/IR-book/html/htmledition/stemming-and-lemmatization-1.html) textbook:\n",
    "\n",
    "Are the below words the same?\n",
    "\n",
    "*organize, organizes, and organizing*\n",
    "\n",
    "*democracy, democratic, and democratization*"
   ]
  },
  {
   "cell_type": "markdown",
   "metadata": {},
   "source": [
    "Stemming and Lemmatization both generate the root form of the words. \n",
    "\n",
    "Lemmatization uses the rules about a language.  The resulting tokens are all actual words\n",
    "\n",
    "\"Stemming is the poor-man’s lemmatization.\" (Noah Smith, 2011) Stemming is a crude heuristic that chops the ends off of words.  The resulting tokens may not be actual words. Stemming is faster."
   ]
  },
  {
   "cell_type": "code",
   "execution_count": 12,
   "metadata": {},
   "outputs": [
    {
     "output_type": "stream",
     "name": "stderr",
     "text": [
      "[nltk_data] Downloading package wordnet to C:\\Users\\war-\n[nltk_data]     machine\\AppData\\Roaming\\nltk_data...\n[nltk_data]   Package wordnet is already up-to-date!\n"
     ]
    },
    {
     "output_type": "execute_result",
     "data": {
      "text/plain": [
       "True"
      ]
     },
     "metadata": {},
     "execution_count": 12
    }
   ],
   "source": [
    "import nltk\n",
    "nltk.download('wordnet')"
   ]
  },
  {
   "cell_type": "code",
   "execution_count": 13,
   "metadata": {},
   "outputs": [],
   "source": [
    "from nltk import stem"
   ]
  },
  {
   "cell_type": "code",
   "execution_count": 14,
   "metadata": {},
   "outputs": [],
   "source": [
    "wnl = stem.WordNetLemmatizer()\n",
    "porter = stem.porter.PorterStemmer()"
   ]
  },
  {
   "cell_type": "code",
   "execution_count": 15,
   "metadata": {},
   "outputs": [],
   "source": [
    "word_list = ['feet', 'foot', 'foots', 'footing']"
   ]
  },
  {
   "cell_type": "code",
   "execution_count": 16,
   "metadata": {},
   "outputs": [
    {
     "output_type": "execute_result",
     "data": {
      "text/plain": [
       "['foot', 'foot', 'foot', 'footing']"
      ]
     },
     "metadata": {},
     "execution_count": 16
    }
   ],
   "source": [
    "[wnl.lemmatize(word) for word in word_list]"
   ]
  },
  {
   "cell_type": "code",
   "execution_count": 17,
   "metadata": {},
   "outputs": [
    {
     "output_type": "execute_result",
     "data": {
      "text/plain": [
       "['feet', 'foot', 'foot', 'foot']"
      ]
     },
     "metadata": {},
     "execution_count": 17
    }
   ],
   "source": [
    "[porter.stem(word) for word in word_list]"
   ]
  },
  {
   "cell_type": "markdown",
   "metadata": {},
   "source": [
    "Your turn!  Now, try lemmatizing and stemming the following collections of words:\n",
    "\n",
    "- fly, flies, flying\n",
    "- organize, organizes, organizing\n",
    "- universe, university"
   ]
  },
  {
   "cell_type": "markdown",
   "metadata": {},
   "source": [
    "fastai/course-nlp"
   ]
  },
  {
   "cell_type": "markdown",
   "metadata": {},
   "source": [
    "Stemming and lemmatization are language dependent.  Languages with more complex morphologies may show bigger benefits.  For example, Sanskrit has a very [large number of verb forms](https://en.wikipedia.org/wiki/Sanskrit_verbs). "
   ]
  },
  {
   "cell_type": "markdown",
   "metadata": {},
   "source": [
    "### Spacy"
   ]
  },
  {
   "cell_type": "markdown",
   "metadata": {},
   "source": [
    "Stemming and lemmatization are implementation dependent."
   ]
  },
  {
   "cell_type": "markdown",
   "metadata": {},
   "source": [
    "Spacy is a very modern & fast nlp library. Spacy is opinionated, in that it typically offers one highly optimized way to do something (whereas nltk offers a huge variety of ways, although they are usually not as optimized).\n",
    "\n",
    "You will need to install it.\n",
    "\n",
    "if you use conda:\n",
    "```\n",
    "conda install -c conda-forge spacy\n",
    "```\n",
    "if you use pip:\n",
    "```\n",
    "pip install -U spacy\n",
    "```\n",
    "\n",
    "You will then need to download the English model:\n",
    "```\n",
    "spacy -m download en_core_web_sm\n",
    "```"
   ]
  },
  {
   "cell_type": "code",
   "execution_count": 18,
   "metadata": {},
   "outputs": [],
   "source": [
    "import spacy"
   ]
  },
  {
   "cell_type": "code",
   "execution_count": 19,
   "metadata": {},
   "outputs": [],
   "source": [
    "nlp = spacy.load(\"en_core_web_sm\")\n",
    "lemmatizer = nlp.Defaults.create_lemmatizer()"
   ]
  },
  {
   "cell_type": "code",
   "execution_count": 20,
   "metadata": {},
   "outputs": [
    {
     "output_type": "execute_result",
     "data": {
      "text/plain": [
       "['feet', 'foot', 'foots', 'footing']"
      ]
     },
     "metadata": {},
     "execution_count": 20
    }
   ],
   "source": [
    "[lemmatizer.lookup(word) for word in word_list]"
   ]
  },
  {
   "cell_type": "markdown",
   "metadata": {},
   "source": [
    "Spacy doesn't offer a stemmer (since lemmatization is considered better-- this is an example of being opinionated!)"
   ]
  },
  {
   "cell_type": "markdown",
   "metadata": {},
   "source": [
    "Stop words vary from library to library"
   ]
  },
  {
   "cell_type": "code",
   "execution_count": 21,
   "metadata": {},
   "outputs": [],
   "source": [
    "nlp = spacy.load(\"en_core_web_sm\")"
   ]
  },
  {
   "cell_type": "code",
   "execution_count": 22,
   "metadata": {},
   "outputs": [
    {
     "output_type": "execute_result",
     "data": {
      "text/plain": [
       "[\"'d\",\n",
       " \"'ll\",\n",
       " \"'m\",\n",
       " \"'re\",\n",
       " \"'s\",\n",
       " \"'ve\",\n",
       " 'a',\n",
       " 'about',\n",
       " 'above',\n",
       " 'across',\n",
       " 'after',\n",
       " 'afterwards',\n",
       " 'again',\n",
       " 'against',\n",
       " 'all',\n",
       " 'almost',\n",
       " 'alone',\n",
       " 'along',\n",
       " 'already',\n",
       " 'also']"
      ]
     },
     "metadata": {},
     "execution_count": 22
    }
   ],
   "source": [
    "sorted(list(nlp.Defaults.stop_words))[:20]"
   ]
  },
  {
   "cell_type": "markdown",
   "metadata": {},
   "source": [
    "#### Exercise: What stop words appear in spacy but not in sklearn?"
   ]
  },
  {
   "cell_type": "code",
   "execution_count": 23,
   "metadata": {},
   "outputs": [],
   "source": [
    "#Exercise:\n"
   ]
  },
  {
   "cell_type": "markdown",
   "metadata": {
    "heading_collapsed": true
   },
   "source": [
    "#### Exercise: And what stop words are in sklearn but not spacy?"
   ]
  },
  {
   "cell_type": "code",
   "execution_count": 24,
   "metadata": {
    "hidden": true
   },
   "outputs": [],
   "source": [
    "#Exercise:\n"
   ]
  },
  {
   "cell_type": "markdown",
   "metadata": {
    "heading_collapsed": true
   },
   "source": [
    "### When to use these?"
   ]
  },
  {
   "cell_type": "markdown",
   "metadata": {
    "hidden": true
   },
   "source": [
    "<img src=\"images/skomoroch.png\" alt=\"\" style=\"width: 65%\"/>"
   ]
  },
  {
   "cell_type": "markdown",
   "metadata": {
    "hidden": true
   },
   "source": [
    "These were long considered standard techniques, but they can often **hurt** your performance **if using deep learning**. Stemming, lemmatization, and removing stop words all involve throwing away information.\n",
    "\n",
    "However, they can still be useful when working with simpler models."
   ]
  },
  {
   "cell_type": "markdown",
   "metadata": {
    "heading_collapsed": true
   },
   "source": [
    "### Another approach: sub-word units"
   ]
  },
  {
   "cell_type": "markdown",
   "metadata": {
    "hidden": true
   },
   "source": [
    "[SentencePiece](https://github.com/google/sentencepiece) library from Google"
   ]
  },
  {
   "cell_type": "markdown",
   "metadata": {},
   "source": [
    "## Data Processing"
   ]
  },
  {
   "cell_type": "markdown",
   "metadata": {},
   "source": [
    "Next, scikit learn has a method that will extract all the word counts for us.  In the next lesson, we'll learn how to write our own version of CountVectorizer, to see what's happening underneath the hood."
   ]
  },
  {
   "cell_type": "code",
   "execution_count": 25,
   "metadata": {},
   "outputs": [],
   "source": [
    "from sklearn.feature_extraction.text import CountVectorizer, TfidfVectorizer"
   ]
  },
  {
   "cell_type": "code",
   "execution_count": 26,
   "metadata": {},
   "outputs": [],
   "source": [
    "import nltk\n",
    "# nltk.download('punkt')"
   ]
  },
  {
   "cell_type": "code",
   "execution_count": 27,
   "metadata": {},
   "outputs": [],
   "source": [
    "# from nltk import word_tokenize\n",
    "\n",
    "# class LemmaTokenizer(object):\n",
    "#     def __init__(self):\n",
    "#         self.wnl = stem.WordNetLemmatizer()\n",
    "#     def __call__(self, doc):\n",
    "#         return [self.wnl.lemmatize(t) for t in word_tokenize(doc)]"
   ]
  },
  {
   "cell_type": "code",
   "execution_count": 28,
   "metadata": {},
   "outputs": [],
   "source": [
    "vectorizer = CountVectorizer(stop_words='english') #, tokenizer=LemmaTokenizer())"
   ]
  },
  {
   "cell_type": "code",
   "execution_count": 29,
   "metadata": {},
   "outputs": [
    {
     "output_type": "execute_result",
     "data": {
      "text/plain": [
       "(2034, 26576)"
      ]
     },
     "metadata": {},
     "execution_count": 29
    }
   ],
   "source": [
    "vectors = vectorizer.fit_transform(newsgroups_train.data).todense() # (documents, vocab)\n",
    "vectors.shape #, vectors.nnz / vectors.shape[0], row_means.shape"
   ]
  },
  {
   "cell_type": "code",
   "execution_count": 30,
   "metadata": {
    "scrolled": true
   },
   "outputs": [
    {
     "output_type": "stream",
     "name": "stdout",
     "text": [
      "2034 (2034, 26576)\n"
     ]
    }
   ],
   "source": [
    "print(len(newsgroups_train.data), vectors.shape)"
   ]
  },
  {
   "cell_type": "code",
   "execution_count": 31,
   "metadata": {},
   "outputs": [],
   "source": [
    "vocab = np.array(vectorizer.get_feature_names())"
   ]
  },
  {
   "cell_type": "code",
   "execution_count": 32,
   "metadata": {},
   "outputs": [
    {
     "output_type": "execute_result",
     "data": {
      "text/plain": [
       "(26576,)"
      ]
     },
     "metadata": {},
     "execution_count": 32
    }
   ],
   "source": [
    "vocab.shape"
   ]
  },
  {
   "cell_type": "code",
   "execution_count": 33,
   "metadata": {},
   "outputs": [
    {
     "output_type": "execute_result",
     "data": {
      "text/plain": [
       "array(['cosmonauts', 'cosmos', 'cosponsored', 'cost', 'costa', 'costar',\n",
       "       'costing', 'costly', 'costruction', 'costs', 'cosy', 'cote',\n",
       "       'couched', 'couldn', 'council', 'councils', 'counsel',\n",
       "       'counselees', 'counselor', 'count'], dtype='<U80')"
      ]
     },
     "metadata": {},
     "execution_count": 33
    }
   ],
   "source": [
    "vocab[7000:7020]"
   ]
  },
  {
   "cell_type": "markdown",
   "metadata": {},
   "source": [
    "## Singular Value Decomposition (SVD)"
   ]
  },
  {
   "cell_type": "markdown",
   "metadata": {},
   "source": [
    "\"SVD is not nearly as famous as it should be.\" - Gilbert Strang"
   ]
  },
  {
   "cell_type": "markdown",
   "metadata": {},
   "source": [
    "We would clearly expect that the words that appear most frequently in one topic would appear less frequently in the other - otherwise that word wouldn't make a good choice to separate out the two topics. Therefore, we expect the topics to be **orthogonal**.\n",
    "\n",
    "The SVD algorithm factorizes a matrix into one matrix with **orthogonal columns** and one with **orthogonal rows** (along with a diagonal matrix, which contains the **relative importance** of each factor).\n",
    "\n",
    "<img src=\"images/svd_fb.png\" alt=\"\" style=\"width: 80%\"/>\n",
    "(source: [Facebook Research: Fast Randomized SVD](https://research.fb.com/fast-randomized-svd/))\n",
    "\n",
    "SVD is an **exact decomposition**, since the matrices it creates are big enough to fully cover the original matrix. SVD is extremely widely used in linear algebra, and specifically in data science, including:\n",
    "\n",
    "- semantic analysis\n",
    "- collaborative filtering/recommendations ([winning entry for Netflix Prize](https://datajobs.com/data-science-repo/Recommender-Systems-%5BNetflix%5D.pdf))\n",
    "- calculate Moore-Penrose pseudoinverse\n",
    "- data compression\n",
    "- principal component analysis"
   ]
  },
  {
   "source": [
    "Latent Semantic Analysis (LSA) uses SVD.  You will sometimes hear topic modelling referred to as LSA."
   ],
   "cell_type": "markdown",
   "metadata": {}
  },
  {
   "cell_type": "code",
   "execution_count": 37,
   "metadata": {},
   "outputs": [
    {
     "output_type": "stream",
     "name": "stdout",
     "text": [
      "Wall time: 1min 11s\n"
     ]
    }
   ],
   "source": [
    "%time U, s, Vh = linalg.svd(vectors, full_matrices=False)"
   ]
  },
  {
   "cell_type": "code",
   "execution_count": 38,
   "metadata": {},
   "outputs": [
    {
     "output_type": "stream",
     "name": "stdout",
     "text": [
      "(2034, 2034) (2034,) (2034, 26576)\n"
     ]
    }
   ],
   "source": [
    "print(U.shape, s.shape, Vh.shape)"
   ]
  },
  {
   "source": [
    "Confirm this is a decomposition of the input."
   ],
   "cell_type": "markdown",
   "metadata": {}
  },
  {
   "cell_type": "code",
   "execution_count": 41,
   "metadata": {},
   "outputs": [
    {
     "output_type": "execute_result",
     "data": {
      "text/plain": [
       "array([433.92698542, 291.51012741, 240.71137677, 220.00048043])"
      ]
     },
     "metadata": {},
     "execution_count": 41
    }
   ],
   "source": [
    "s[:4]"
   ]
  },
  {
   "cell_type": "code",
   "execution_count": 42,
   "metadata": {},
   "outputs": [
    {
     "output_type": "execute_result",
     "data": {
      "text/plain": [
       "array([[433.92698542,   0.        ,   0.        ,   0.        ],\n",
       "       [  0.        , 291.51012741,   0.        ,   0.        ],\n",
       "       [  0.        ,   0.        , 240.71137677,   0.        ],\n",
       "       [  0.        ,   0.        ,   0.        , 220.00048043]])"
      ]
     },
     "metadata": {},
     "execution_count": 42
    }
   ],
   "source": [
    "np.diag(s[:4])"
   ]
  },
  {
   "cell_type": "code",
   "execution_count": 43,
   "metadata": {},
   "outputs": [
    {
     "output_type": "execute_result",
     "data": {
      "text/plain": [
       "array([433.92698542, 291.51012741, 240.71137677, 220.00048043])"
      ]
     },
     "metadata": {},
     "execution_count": 43
    }
   ],
   "source": [
    "np.diag(np.diag(s[:4]))"
   ]
  },
  {
   "source": [
    "#### Answer"
   ],
   "cell_type": "markdown",
   "metadata": {}
  },
  {
   "cell_type": "code",
   "execution_count": 44,
   "metadata": {},
   "outputs": [
    {
     "output_type": "execute_result",
     "data": {
      "text/plain": [
       "7.094705919177192e-12"
      ]
     },
     "metadata": {},
     "execution_count": 44
    }
   ],
   "source": [
    "#Exercise: confrim that U, s, Vh is a decomposition of `vectors`\n",
    "reconstructed_vector = U @ np.diag(s) @ Vh\n",
    "np.linalg.norm(reconstructed_vector - vectors)"
   ]
  },
  {
   "cell_type": "code",
   "execution_count": 45,
   "metadata": {},
   "outputs": [
    {
     "output_type": "execute_result",
     "data": {
      "text/plain": [
       "True"
      ]
     },
     "metadata": {},
     "execution_count": 45
    }
   ],
   "source": [
    "reconstructed_vector = U @ np.diag(s) @ Vh\n",
    "np.allclose(reconstructed_vector, vectors)"
   ]
  },
  {
   "source": [
    "Confirm that U, V are orthonormal"
   ],
   "cell_type": "markdown",
   "metadata": {}
  },
  {
   "source": [
    "#### Answer"
   ],
   "cell_type": "markdown",
   "metadata": {
    "heading_collapsed": true
   }
  },
  {
   "cell_type": "code",
   "execution_count": 49,
   "metadata": {
    "hidden": true
   },
   "outputs": [
    {
     "output_type": "execute_result",
     "data": {
      "text/plain": [
       "True"
      ]
     },
     "metadata": {},
     "execution_count": 49
    }
   ],
   "source": [
    "#Exercise: Confirm that U, Vh are orthonormal\n",
    "np.allclose(U.T @ U, np.eye(U.shape[0]))"
   ]
  },
  {
   "cell_type": "code",
   "execution_count": 50,
   "metadata": {},
   "outputs": [
    {
     "output_type": "execute_result",
     "data": {
      "text/plain": [
       "True"
      ]
     },
     "metadata": {},
     "execution_count": 50
    }
   ],
   "source": [
    "np.allclose(Vh @ Vh.T, np.eye(Vh.shape[0]))"
   ]
  },
  {
   "source": [
    "#### Topics"
   ],
   "cell_type": "markdown",
   "metadata": {
    "heading_collapsed": true
   }
  },
  {
   "source": [
    "What can we say about the singular values s?"
   ],
   "cell_type": "markdown",
   "metadata": {
    "hidden": true
   }
  },
  {
   "cell_type": "code",
   "execution_count": 51,
   "metadata": {
    "hidden": true
   },
   "outputs": [
    {
     "output_type": "display_data",
     "data": {
      "text/plain": "<Figure size 432x288 with 1 Axes>",
      "image/svg+xml": "<?xml version=\"1.0\" encoding=\"utf-8\" standalone=\"no\"?>\r\n<!DOCTYPE svg PUBLIC \"-//W3C//DTD SVG 1.1//EN\"\r\n  \"http://www.w3.org/Graphics/SVG/1.1/DTD/svg11.dtd\">\r\n<!-- Created with matplotlib (https://matplotlib.org/) -->\r\n<svg height=\"248.518125pt\" version=\"1.1\" viewBox=\"0 0 375.2875 248.518125\" width=\"375.2875pt\" xmlns=\"http://www.w3.org/2000/svg\" xmlns:xlink=\"http://www.w3.org/1999/xlink\">\r\n <defs>\r\n  <style type=\"text/css\">\r\n*{stroke-linecap:butt;stroke-linejoin:round;}\r\n  </style>\r\n </defs>\r\n <g id=\"figure_1\">\r\n  <g id=\"patch_1\">\r\n   <path d=\"M 0 248.518125 \r\nL 375.2875 248.518125 \r\nL 375.2875 0 \r\nL 0 0 \r\nz\r\n\" style=\"fill:none;\"/>\r\n  </g>\r\n  <g id=\"axes_1\">\r\n   <g id=\"patch_2\">\r\n    <path d=\"M 33.2875 224.64 \r\nL 368.0875 224.64 \r\nL 368.0875 7.2 \r\nL 33.2875 7.2 \r\nz\r\n\" style=\"fill:#ffffff;\"/>\r\n   </g>\r\n   <g id=\"matplotlib.axis_1\">\r\n    <g id=\"xtick_1\">\r\n     <g id=\"line2d_1\">\r\n      <defs>\r\n       <path d=\"M 0 0 \r\nL 0 3.5 \r\n\" id=\"me50aaa0ff4\" style=\"stroke:#000000;stroke-width:0.8;\"/>\r\n      </defs>\r\n      <g>\r\n       <use style=\"stroke:#000000;stroke-width:0.8;\" x=\"48.505682\" xlink:href=\"#me50aaa0ff4\" y=\"224.64\"/>\r\n      </g>\r\n     </g>\r\n     <g id=\"text_1\">\r\n      <!-- 0 -->\r\n      <defs>\r\n       <path d=\"M 31.78125 66.40625 \r\nQ 24.171875 66.40625 20.328125 58.90625 \r\nQ 16.5 51.421875 16.5 36.375 \r\nQ 16.5 21.390625 20.328125 13.890625 \r\nQ 24.171875 6.390625 31.78125 6.390625 \r\nQ 39.453125 6.390625 43.28125 13.890625 \r\nQ 47.125 21.390625 47.125 36.375 \r\nQ 47.125 51.421875 43.28125 58.90625 \r\nQ 39.453125 66.40625 31.78125 66.40625 \r\nz\r\nM 31.78125 74.21875 \r\nQ 44.046875 74.21875 50.515625 64.515625 \r\nQ 56.984375 54.828125 56.984375 36.375 \r\nQ 56.984375 17.96875 50.515625 8.265625 \r\nQ 44.046875 -1.421875 31.78125 -1.421875 \r\nQ 19.53125 -1.421875 13.0625 8.265625 \r\nQ 6.59375 17.96875 6.59375 36.375 \r\nQ 6.59375 54.828125 13.0625 64.515625 \r\nQ 19.53125 74.21875 31.78125 74.21875 \r\nz\r\n\" id=\"DejaVuSans-48\"/>\r\n      </defs>\r\n      <g transform=\"translate(45.324432 239.238437)scale(0.1 -0.1)\">\r\n       <use xlink:href=\"#DejaVuSans-48\"/>\r\n      </g>\r\n     </g>\r\n    </g>\r\n    <g id=\"xtick_2\">\r\n     <g id=\"line2d_2\">\r\n      <g>\r\n       <use style=\"stroke:#000000;stroke-width:0.8;\" x=\"85.933576\" xlink:href=\"#me50aaa0ff4\" y=\"224.64\"/>\r\n      </g>\r\n     </g>\r\n     <g id=\"text_2\">\r\n      <!-- 250 -->\r\n      <defs>\r\n       <path d=\"M 19.1875 8.296875 \r\nL 53.609375 8.296875 \r\nL 53.609375 0 \r\nL 7.328125 0 \r\nL 7.328125 8.296875 \r\nQ 12.9375 14.109375 22.625 23.890625 \r\nQ 32.328125 33.6875 34.8125 36.53125 \r\nQ 39.546875 41.84375 41.421875 45.53125 \r\nQ 43.3125 49.21875 43.3125 52.78125 \r\nQ 43.3125 58.59375 39.234375 62.25 \r\nQ 35.15625 65.921875 28.609375 65.921875 \r\nQ 23.96875 65.921875 18.8125 64.3125 \r\nQ 13.671875 62.703125 7.8125 59.421875 \r\nL 7.8125 69.390625 \r\nQ 13.765625 71.78125 18.9375 73 \r\nQ 24.125 74.21875 28.421875 74.21875 \r\nQ 39.75 74.21875 46.484375 68.546875 \r\nQ 53.21875 62.890625 53.21875 53.421875 \r\nQ 53.21875 48.921875 51.53125 44.890625 \r\nQ 49.859375 40.875 45.40625 35.40625 \r\nQ 44.1875 33.984375 37.640625 27.21875 \r\nQ 31.109375 20.453125 19.1875 8.296875 \r\nz\r\n\" id=\"DejaVuSans-50\"/>\r\n       <path d=\"M 10.796875 72.90625 \r\nL 49.515625 72.90625 \r\nL 49.515625 64.59375 \r\nL 19.828125 64.59375 \r\nL 19.828125 46.734375 \r\nQ 21.96875 47.46875 24.109375 47.828125 \r\nQ 26.265625 48.1875 28.421875 48.1875 \r\nQ 40.625 48.1875 47.75 41.5 \r\nQ 54.890625 34.8125 54.890625 23.390625 \r\nQ 54.890625 11.625 47.5625 5.09375 \r\nQ 40.234375 -1.421875 26.90625 -1.421875 \r\nQ 22.3125 -1.421875 17.546875 -0.640625 \r\nQ 12.796875 0.140625 7.71875 1.703125 \r\nL 7.71875 11.625 \r\nQ 12.109375 9.234375 16.796875 8.0625 \r\nQ 21.484375 6.890625 26.703125 6.890625 \r\nQ 35.15625 6.890625 40.078125 11.328125 \r\nQ 45.015625 15.765625 45.015625 23.390625 \r\nQ 45.015625 31 40.078125 35.4375 \r\nQ 35.15625 39.890625 26.703125 39.890625 \r\nQ 22.75 39.890625 18.8125 39.015625 \r\nQ 14.890625 38.140625 10.796875 36.28125 \r\nz\r\n\" id=\"DejaVuSans-53\"/>\r\n      </defs>\r\n      <g transform=\"translate(76.389826 239.238437)scale(0.1 -0.1)\">\r\n       <use xlink:href=\"#DejaVuSans-50\"/>\r\n       <use x=\"63.623047\" xlink:href=\"#DejaVuSans-53\"/>\r\n       <use x=\"127.246094\" xlink:href=\"#DejaVuSans-48\"/>\r\n      </g>\r\n     </g>\r\n    </g>\r\n    <g id=\"xtick_3\">\r\n     <g id=\"line2d_3\">\r\n      <g>\r\n       <use style=\"stroke:#000000;stroke-width:0.8;\" x=\"123.36147\" xlink:href=\"#me50aaa0ff4\" y=\"224.64\"/>\r\n      </g>\r\n     </g>\r\n     <g id=\"text_3\">\r\n      <!-- 500 -->\r\n      <g transform=\"translate(113.81772 239.238437)scale(0.1 -0.1)\">\r\n       <use xlink:href=\"#DejaVuSans-53\"/>\r\n       <use x=\"63.623047\" xlink:href=\"#DejaVuSans-48\"/>\r\n       <use x=\"127.246094\" xlink:href=\"#DejaVuSans-48\"/>\r\n      </g>\r\n     </g>\r\n    </g>\r\n    <g id=\"xtick_4\">\r\n     <g id=\"line2d_4\">\r\n      <g>\r\n       <use style=\"stroke:#000000;stroke-width:0.8;\" x=\"160.789365\" xlink:href=\"#me50aaa0ff4\" y=\"224.64\"/>\r\n      </g>\r\n     </g>\r\n     <g id=\"text_4\">\r\n      <!-- 750 -->\r\n      <defs>\r\n       <path d=\"M 8.203125 72.90625 \r\nL 55.078125 72.90625 \r\nL 55.078125 68.703125 \r\nL 28.609375 0 \r\nL 18.3125 0 \r\nL 43.21875 64.59375 \r\nL 8.203125 64.59375 \r\nz\r\n\" id=\"DejaVuSans-55\"/>\r\n      </defs>\r\n      <g transform=\"translate(151.245615 239.238437)scale(0.1 -0.1)\">\r\n       <use xlink:href=\"#DejaVuSans-55\"/>\r\n       <use x=\"63.623047\" xlink:href=\"#DejaVuSans-53\"/>\r\n       <use x=\"127.246094\" xlink:href=\"#DejaVuSans-48\"/>\r\n      </g>\r\n     </g>\r\n    </g>\r\n    <g id=\"xtick_5\">\r\n     <g id=\"line2d_5\">\r\n      <g>\r\n       <use style=\"stroke:#000000;stroke-width:0.8;\" x=\"198.217259\" xlink:href=\"#me50aaa0ff4\" y=\"224.64\"/>\r\n      </g>\r\n     </g>\r\n     <g id=\"text_5\">\r\n      <!-- 1000 -->\r\n      <defs>\r\n       <path d=\"M 12.40625 8.296875 \r\nL 28.515625 8.296875 \r\nL 28.515625 63.921875 \r\nL 10.984375 60.40625 \r\nL 10.984375 69.390625 \r\nL 28.421875 72.90625 \r\nL 38.28125 72.90625 \r\nL 38.28125 8.296875 \r\nL 54.390625 8.296875 \r\nL 54.390625 0 \r\nL 12.40625 0 \r\nz\r\n\" id=\"DejaVuSans-49\"/>\r\n      </defs>\r\n      <g transform=\"translate(185.492259 239.238437)scale(0.1 -0.1)\">\r\n       <use xlink:href=\"#DejaVuSans-49\"/>\r\n       <use x=\"63.623047\" xlink:href=\"#DejaVuSans-48\"/>\r\n       <use x=\"127.246094\" xlink:href=\"#DejaVuSans-48\"/>\r\n       <use x=\"190.869141\" xlink:href=\"#DejaVuSans-48\"/>\r\n      </g>\r\n     </g>\r\n    </g>\r\n    <g id=\"xtick_6\">\r\n     <g id=\"line2d_6\">\r\n      <g>\r\n       <use style=\"stroke:#000000;stroke-width:0.8;\" x=\"235.645153\" xlink:href=\"#me50aaa0ff4\" y=\"224.64\"/>\r\n      </g>\r\n     </g>\r\n     <g id=\"text_6\">\r\n      <!-- 1250 -->\r\n      <g transform=\"translate(222.920153 239.238437)scale(0.1 -0.1)\">\r\n       <use xlink:href=\"#DejaVuSans-49\"/>\r\n       <use x=\"63.623047\" xlink:href=\"#DejaVuSans-50\"/>\r\n       <use x=\"127.246094\" xlink:href=\"#DejaVuSans-53\"/>\r\n       <use x=\"190.869141\" xlink:href=\"#DejaVuSans-48\"/>\r\n      </g>\r\n     </g>\r\n    </g>\r\n    <g id=\"xtick_7\">\r\n     <g id=\"line2d_7\">\r\n      <g>\r\n       <use style=\"stroke:#000000;stroke-width:0.8;\" x=\"273.073048\" xlink:href=\"#me50aaa0ff4\" y=\"224.64\"/>\r\n      </g>\r\n     </g>\r\n     <g id=\"text_7\">\r\n      <!-- 1500 -->\r\n      <g transform=\"translate(260.348048 239.238437)scale(0.1 -0.1)\">\r\n       <use xlink:href=\"#DejaVuSans-49\"/>\r\n       <use x=\"63.623047\" xlink:href=\"#DejaVuSans-53\"/>\r\n       <use x=\"127.246094\" xlink:href=\"#DejaVuSans-48\"/>\r\n       <use x=\"190.869141\" xlink:href=\"#DejaVuSans-48\"/>\r\n      </g>\r\n     </g>\r\n    </g>\r\n    <g id=\"xtick_8\">\r\n     <g id=\"line2d_8\">\r\n      <g>\r\n       <use style=\"stroke:#000000;stroke-width:0.8;\" x=\"310.500942\" xlink:href=\"#me50aaa0ff4\" y=\"224.64\"/>\r\n      </g>\r\n     </g>\r\n     <g id=\"text_8\">\r\n      <!-- 1750 -->\r\n      <g transform=\"translate(297.775942 239.238437)scale(0.1 -0.1)\">\r\n       <use xlink:href=\"#DejaVuSans-49\"/>\r\n       <use x=\"63.623047\" xlink:href=\"#DejaVuSans-55\"/>\r\n       <use x=\"127.246094\" xlink:href=\"#DejaVuSans-53\"/>\r\n       <use x=\"190.869141\" xlink:href=\"#DejaVuSans-48\"/>\r\n      </g>\r\n     </g>\r\n    </g>\r\n    <g id=\"xtick_9\">\r\n     <g id=\"line2d_9\">\r\n      <g>\r\n       <use style=\"stroke:#000000;stroke-width:0.8;\" x=\"347.928836\" xlink:href=\"#me50aaa0ff4\" y=\"224.64\"/>\r\n      </g>\r\n     </g>\r\n     <g id=\"text_9\">\r\n      <!-- 2000 -->\r\n      <g transform=\"translate(335.203836 239.238437)scale(0.1 -0.1)\">\r\n       <use xlink:href=\"#DejaVuSans-50\"/>\r\n       <use x=\"63.623047\" xlink:href=\"#DejaVuSans-48\"/>\r\n       <use x=\"127.246094\" xlink:href=\"#DejaVuSans-48\"/>\r\n       <use x=\"190.869141\" xlink:href=\"#DejaVuSans-48\"/>\r\n      </g>\r\n     </g>\r\n    </g>\r\n   </g>\r\n   <g id=\"matplotlib.axis_2\">\r\n    <g id=\"ytick_1\">\r\n     <g id=\"line2d_10\">\r\n      <defs>\r\n       <path d=\"M 0 0 \r\nL -3.5 0 \r\n\" id=\"m8e1479595e\" style=\"stroke:#000000;stroke-width:0.8;\"/>\r\n      </defs>\r\n      <g>\r\n       <use style=\"stroke:#000000;stroke-width:0.8;\" x=\"33.2875\" xlink:href=\"#m8e1479595e\" y=\"214.756364\"/>\r\n      </g>\r\n     </g>\r\n     <g id=\"text_10\">\r\n      <!-- 0 -->\r\n      <g transform=\"translate(19.925 218.555582)scale(0.1 -0.1)\">\r\n       <use xlink:href=\"#DejaVuSans-48\"/>\r\n      </g>\r\n     </g>\r\n    </g>\r\n    <g id=\"ytick_2\">\r\n     <g id=\"line2d_11\">\r\n      <g>\r\n       <use style=\"stroke:#000000;stroke-width:0.8;\" x=\"33.2875\" xlink:href=\"#m8e1479595e\" y=\"169.201988\"/>\r\n      </g>\r\n     </g>\r\n     <g id=\"text_11\">\r\n      <!-- 100 -->\r\n      <g transform=\"translate(7.2 173.001207)scale(0.1 -0.1)\">\r\n       <use xlink:href=\"#DejaVuSans-49\"/>\r\n       <use x=\"63.623047\" xlink:href=\"#DejaVuSans-48\"/>\r\n       <use x=\"127.246094\" xlink:href=\"#DejaVuSans-48\"/>\r\n      </g>\r\n     </g>\r\n    </g>\r\n    <g id=\"ytick_3\">\r\n     <g id=\"line2d_12\">\r\n      <g>\r\n       <use style=\"stroke:#000000;stroke-width:0.8;\" x=\"33.2875\" xlink:href=\"#m8e1479595e\" y=\"123.647613\"/>\r\n      </g>\r\n     </g>\r\n     <g id=\"text_12\">\r\n      <!-- 200 -->\r\n      <g transform=\"translate(7.2 127.446832)scale(0.1 -0.1)\">\r\n       <use xlink:href=\"#DejaVuSans-50\"/>\r\n       <use x=\"63.623047\" xlink:href=\"#DejaVuSans-48\"/>\r\n       <use x=\"127.246094\" xlink:href=\"#DejaVuSans-48\"/>\r\n      </g>\r\n     </g>\r\n    </g>\r\n    <g id=\"ytick_4\">\r\n     <g id=\"line2d_13\">\r\n      <g>\r\n       <use style=\"stroke:#000000;stroke-width:0.8;\" x=\"33.2875\" xlink:href=\"#m8e1479595e\" y=\"78.093238\"/>\r\n      </g>\r\n     </g>\r\n     <g id=\"text_13\">\r\n      <!-- 300 -->\r\n      <defs>\r\n       <path d=\"M 40.578125 39.3125 \r\nQ 47.65625 37.796875 51.625 33 \r\nQ 55.609375 28.21875 55.609375 21.1875 \r\nQ 55.609375 10.40625 48.1875 4.484375 \r\nQ 40.765625 -1.421875 27.09375 -1.421875 \r\nQ 22.515625 -1.421875 17.65625 -0.515625 \r\nQ 12.796875 0.390625 7.625 2.203125 \r\nL 7.625 11.71875 \r\nQ 11.71875 9.328125 16.59375 8.109375 \r\nQ 21.484375 6.890625 26.8125 6.890625 \r\nQ 36.078125 6.890625 40.9375 10.546875 \r\nQ 45.796875 14.203125 45.796875 21.1875 \r\nQ 45.796875 27.640625 41.28125 31.265625 \r\nQ 36.765625 34.90625 28.71875 34.90625 \r\nL 20.21875 34.90625 \r\nL 20.21875 43.015625 \r\nL 29.109375 43.015625 \r\nQ 36.375 43.015625 40.234375 45.921875 \r\nQ 44.09375 48.828125 44.09375 54.296875 \r\nQ 44.09375 59.90625 40.109375 62.90625 \r\nQ 36.140625 65.921875 28.71875 65.921875 \r\nQ 24.65625 65.921875 20.015625 65.03125 \r\nQ 15.375 64.15625 9.8125 62.3125 \r\nL 9.8125 71.09375 \r\nQ 15.4375 72.65625 20.34375 73.4375 \r\nQ 25.25 74.21875 29.59375 74.21875 \r\nQ 40.828125 74.21875 47.359375 69.109375 \r\nQ 53.90625 64.015625 53.90625 55.328125 \r\nQ 53.90625 49.265625 50.4375 45.09375 \r\nQ 46.96875 40.921875 40.578125 39.3125 \r\nz\r\n\" id=\"DejaVuSans-51\"/>\r\n      </defs>\r\n      <g transform=\"translate(7.2 81.892457)scale(0.1 -0.1)\">\r\n       <use xlink:href=\"#DejaVuSans-51\"/>\r\n       <use x=\"63.623047\" xlink:href=\"#DejaVuSans-48\"/>\r\n       <use x=\"127.246094\" xlink:href=\"#DejaVuSans-48\"/>\r\n      </g>\r\n     </g>\r\n    </g>\r\n    <g id=\"ytick_5\">\r\n     <g id=\"line2d_14\">\r\n      <g>\r\n       <use style=\"stroke:#000000;stroke-width:0.8;\" x=\"33.2875\" xlink:href=\"#m8e1479595e\" y=\"32.538863\"/>\r\n      </g>\r\n     </g>\r\n     <g id=\"text_14\">\r\n      <!-- 400 -->\r\n      <defs>\r\n       <path d=\"M 37.796875 64.3125 \r\nL 12.890625 25.390625 \r\nL 37.796875 25.390625 \r\nz\r\nM 35.203125 72.90625 \r\nL 47.609375 72.90625 \r\nL 47.609375 25.390625 \r\nL 58.015625 25.390625 \r\nL 58.015625 17.1875 \r\nL 47.609375 17.1875 \r\nL 47.609375 0 \r\nL 37.796875 0 \r\nL 37.796875 17.1875 \r\nL 4.890625 17.1875 \r\nL 4.890625 26.703125 \r\nz\r\n\" id=\"DejaVuSans-52\"/>\r\n      </defs>\r\n      <g transform=\"translate(7.2 36.338081)scale(0.1 -0.1)\">\r\n       <use xlink:href=\"#DejaVuSans-52\"/>\r\n       <use x=\"63.623047\" xlink:href=\"#DejaVuSans-48\"/>\r\n       <use x=\"127.246094\" xlink:href=\"#DejaVuSans-48\"/>\r\n      </g>\r\n     </g>\r\n    </g>\r\n   </g>\r\n   <g id=\"line2d_15\">\r\n    <path clip-path=\"url(#pc20a67e6fb)\" d=\"M 48.505682 17.083636 \r\nL 48.805105 105.1018 \r\nL 48.954817 114.536519 \r\nL 49.25424 138.155609 \r\nL 49.553663 156.088515 \r\nL 49.703374 157.134382 \r\nL 50.002798 163.076081 \r\nL 50.152509 163.43556 \r\nL 50.751355 176.536377 \r\nL 51.20049 179.83513 \r\nL 51.350202 183.141878 \r\nL 51.799337 184.548172 \r\nL 52.248471 188.009863 \r\nL 52.398183 188.302771 \r\nL 52.547894 189.195965 \r\nL 52.697606 189.311604 \r\nL 52.997029 190.839095 \r\nL 53.745587 192.486355 \r\nL 53.895299 192.659751 \r\nL 54.344433 193.536022 \r\nL 54.494145 193.687257 \r\nL 54.793568 194.339594 \r\nL 55.092991 194.541329 \r\nL 55.392414 195.064472 \r\nL 55.691838 195.506886 \r\nL 56.140972 196.189227 \r\nL 56.290684 196.276924 \r\nL 56.590107 196.603828 \r\nL 56.88953 196.799638 \r\nL 57.188953 197.053261 \r\nL 57.937511 197.952268 \r\nL 58.686069 198.421232 \r\nL 59.284915 199.084247 \r\nL 59.434627 199.120485 \r\nL 60.183185 199.916357 \r\nL 65.872225 203.069846 \r\nL 66.171648 203.229104 \r\nL 66.620783 203.348328 \r\nL 67.818475 203.738144 \r\nL 69.615014 204.443229 \r\nL 70.513284 204.646924 \r\nL 71.710976 205.054981 \r\nL 72.459534 205.173481 \r\nL 73.05838 205.354994 \r\nL 73.95665 205.545367 \r\nL 74.705208 205.69786 \r\nL 81.292517 206.893232 \r\nL 83.538191 207.172168 \r\nL 87.131269 207.620948 \r\nL 89.077519 207.833111 \r\nL 90.874058 208.021196 \r\nL 94.317424 208.364007 \r\nL 95.664829 208.494781 \r\nL 102.40185 209.054422 \r\nL 104.198389 209.18743 \r\nL 107.941178 209.439538 \r\nL 110.635986 209.610915 \r\nL 114.528487 209.826039 \r\nL 119.019835 210.065224 \r\nL 132.044742 210.620309 \r\nL 135.188685 210.737836 \r\nL 187.438025 212.104677 \r\nL 203.606876 212.382994 \r\nL 250.316888 213.050084 \r\nL 298.97315 213.624122 \r\nL 307.356999 213.727937 \r\nL 320.681329 213.907447 \r\nL 336.850179 214.227534 \r\nL 342.988354 214.524754 \r\nL 343.5872 214.756364 \r\nL 352.869318 214.756364 \r\nL 352.869318 214.756364 \r\n\" style=\"fill:none;stroke:#1f77b4;stroke-linecap:square;stroke-width:1.5;\"/>\r\n   </g>\r\n   <g id=\"patch_3\">\r\n    <path d=\"M 33.2875 224.64 \r\nL 33.2875 7.2 \r\n\" style=\"fill:none;stroke:#000000;stroke-linecap:square;stroke-linejoin:miter;stroke-width:0.8;\"/>\r\n   </g>\r\n   <g id=\"patch_4\">\r\n    <path d=\"M 368.0875 224.64 \r\nL 368.0875 7.2 \r\n\" style=\"fill:none;stroke:#000000;stroke-linecap:square;stroke-linejoin:miter;stroke-width:0.8;\"/>\r\n   </g>\r\n   <g id=\"patch_5\">\r\n    <path d=\"M 33.2875 224.64 \r\nL 368.0875 224.64 \r\n\" style=\"fill:none;stroke:#000000;stroke-linecap:square;stroke-linejoin:miter;stroke-width:0.8;\"/>\r\n   </g>\r\n   <g id=\"patch_6\">\r\n    <path d=\"M 33.2875 7.2 \r\nL 368.0875 7.2 \r\n\" style=\"fill:none;stroke:#000000;stroke-linecap:square;stroke-linejoin:miter;stroke-width:0.8;\"/>\r\n   </g>\r\n  </g>\r\n </g>\r\n <defs>\r\n  <clipPath id=\"pc20a67e6fb\">\r\n   <rect height=\"217.44\" width=\"334.8\" x=\"33.2875\" y=\"7.2\"/>\r\n  </clipPath>\r\n </defs>\r\n</svg>\r\n",
      "image/png": "[encoded data removed]"
     },
     "metadata": {
      "needs_background": "light"
     }
    }
   ],
   "source": [
    "plt.plot(s);"
   ]
  },
  {
   "cell_type": "code",
   "execution_count": 52,
   "metadata": {
    "hidden": true
   },
   "outputs": [
    {
     "output_type": "execute_result",
     "data": {
      "text/plain": [
       "[<matplotlib.lines.Line2D at 0x2ed3287ca08>]"
      ]
     },
     "metadata": {},
     "execution_count": 52
    },
    {
     "output_type": "display_data",
     "data": {
      "text/plain": "<Figure size 432x288 with 1 Axes>",
      "image/svg+xml": "<?xml version=\"1.0\" encoding=\"utf-8\" standalone=\"no\"?>\r\n<!DOCTYPE svg PUBLIC \"-//W3C//DTD SVG 1.1//EN\"\r\n  \"http://www.w3.org/Graphics/SVG/1.1/DTD/svg11.dtd\">\r\n<!-- Created with matplotlib (https://matplotlib.org/) -->\r\n<svg height=\"248.518125pt\" version=\"1.1\" viewBox=\"0 0 375.2875 248.518125\" width=\"375.2875pt\" xmlns=\"http://www.w3.org/2000/svg\" xmlns:xlink=\"http://www.w3.org/1999/xlink\">\r\n <defs>\r\n  <style type=\"text/css\">\r\n*{stroke-linecap:butt;stroke-linejoin:round;}\r\n  </style>\r\n </defs>\r\n <g id=\"figure_1\">\r\n  <g id=\"patch_1\">\r\n   <path d=\"M 0 248.518125 \r\nL 375.2875 248.518125 \r\nL 375.2875 0 \r\nL 0 0 \r\nz\r\n\" style=\"fill:none;\"/>\r\n  </g>\r\n  <g id=\"axes_1\">\r\n   <g id=\"patch_2\">\r\n    <path d=\"M 33.2875 224.64 \r\nL 368.0875 224.64 \r\nL 368.0875 7.2 \r\nL 33.2875 7.2 \r\nz\r\n\" style=\"fill:#ffffff;\"/>\r\n   </g>\r\n   <g id=\"matplotlib.axis_1\">\r\n    <g id=\"xtick_1\">\r\n     <g id=\"line2d_1\">\r\n      <defs>\r\n       <path d=\"M 0 0 \r\nL 0 3.5 \r\n\" id=\"m741265b804\" style=\"stroke:#000000;stroke-width:0.8;\"/>\r\n      </defs>\r\n      <g>\r\n       <use style=\"stroke:#000000;stroke-width:0.8;\" x=\"48.505682\" xlink:href=\"#m741265b804\" y=\"224.64\"/>\r\n      </g>\r\n     </g>\r\n     <g id=\"text_1\">\r\n      <!-- 0 -->\r\n      <defs>\r\n       <path d=\"M 31.78125 66.40625 \r\nQ 24.171875 66.40625 20.328125 58.90625 \r\nQ 16.5 51.421875 16.5 36.375 \r\nQ 16.5 21.390625 20.328125 13.890625 \r\nQ 24.171875 6.390625 31.78125 6.390625 \r\nQ 39.453125 6.390625 43.28125 13.890625 \r\nQ 47.125 21.390625 47.125 36.375 \r\nQ 47.125 51.421875 43.28125 58.90625 \r\nQ 39.453125 66.40625 31.78125 66.40625 \r\nz\r\nM 31.78125 74.21875 \r\nQ 44.046875 74.21875 50.515625 64.515625 \r\nQ 56.984375 54.828125 56.984375 36.375 \r\nQ 56.984375 17.96875 50.515625 8.265625 \r\nQ 44.046875 -1.421875 31.78125 -1.421875 \r\nQ 19.53125 -1.421875 13.0625 8.265625 \r\nQ 6.59375 17.96875 6.59375 36.375 \r\nQ 6.59375 54.828125 13.0625 64.515625 \r\nQ 19.53125 74.21875 31.78125 74.21875 \r\nz\r\n\" id=\"DejaVuSans-48\"/>\r\n      </defs>\r\n      <g transform=\"translate(45.324432 239.238437)scale(0.1 -0.1)\">\r\n       <use xlink:href=\"#DejaVuSans-48\"/>\r\n      </g>\r\n     </g>\r\n    </g>\r\n    <g id=\"xtick_2\">\r\n     <g id=\"line2d_2\">\r\n      <g>\r\n       <use style=\"stroke:#000000;stroke-width:0.8;\" x=\"116.142045\" xlink:href=\"#m741265b804\" y=\"224.64\"/>\r\n      </g>\r\n     </g>\r\n     <g id=\"text_2\">\r\n      <!-- 2 -->\r\n      <defs>\r\n       <path d=\"M 19.1875 8.296875 \r\nL 53.609375 8.296875 \r\nL 53.609375 0 \r\nL 7.328125 0 \r\nL 7.328125 8.296875 \r\nQ 12.9375 14.109375 22.625 23.890625 \r\nQ 32.328125 33.6875 34.8125 36.53125 \r\nQ 39.546875 41.84375 41.421875 45.53125 \r\nQ 43.3125 49.21875 43.3125 52.78125 \r\nQ 43.3125 58.59375 39.234375 62.25 \r\nQ 35.15625 65.921875 28.609375 65.921875 \r\nQ 23.96875 65.921875 18.8125 64.3125 \r\nQ 13.671875 62.703125 7.8125 59.421875 \r\nL 7.8125 69.390625 \r\nQ 13.765625 71.78125 18.9375 73 \r\nQ 24.125 74.21875 28.421875 74.21875 \r\nQ 39.75 74.21875 46.484375 68.546875 \r\nQ 53.21875 62.890625 53.21875 53.421875 \r\nQ 53.21875 48.921875 51.53125 44.890625 \r\nQ 49.859375 40.875 45.40625 35.40625 \r\nQ 44.1875 33.984375 37.640625 27.21875 \r\nQ 31.109375 20.453125 19.1875 8.296875 \r\nz\r\n\" id=\"DejaVuSans-50\"/>\r\n      </defs>\r\n      <g transform=\"translate(112.960795 239.238437)scale(0.1 -0.1)\">\r\n       <use xlink:href=\"#DejaVuSans-50\"/>\r\n      </g>\r\n     </g>\r\n    </g>\r\n    <g id=\"xtick_3\">\r\n     <g id=\"line2d_3\">\r\n      <g>\r\n       <use style=\"stroke:#000000;stroke-width:0.8;\" x=\"183.778409\" xlink:href=\"#m741265b804\" y=\"224.64\"/>\r\n      </g>\r\n     </g>\r\n     <g id=\"text_3\">\r\n      <!-- 4 -->\r\n      <defs>\r\n       <path d=\"M 37.796875 64.3125 \r\nL 12.890625 25.390625 \r\nL 37.796875 25.390625 \r\nz\r\nM 35.203125 72.90625 \r\nL 47.609375 72.90625 \r\nL 47.609375 25.390625 \r\nL 58.015625 25.390625 \r\nL 58.015625 17.1875 \r\nL 47.609375 17.1875 \r\nL 47.609375 0 \r\nL 37.796875 0 \r\nL 37.796875 17.1875 \r\nL 4.890625 17.1875 \r\nL 4.890625 26.703125 \r\nz\r\n\" id=\"DejaVuSans-52\"/>\r\n      </defs>\r\n      <g transform=\"translate(180.597159 239.238437)scale(0.1 -0.1)\">\r\n       <use xlink:href=\"#DejaVuSans-52\"/>\r\n      </g>\r\n     </g>\r\n    </g>\r\n    <g id=\"xtick_4\">\r\n     <g id=\"line2d_4\">\r\n      <g>\r\n       <use style=\"stroke:#000000;stroke-width:0.8;\" x=\"251.414773\" xlink:href=\"#m741265b804\" y=\"224.64\"/>\r\n      </g>\r\n     </g>\r\n     <g id=\"text_4\">\r\n      <!-- 6 -->\r\n      <defs>\r\n       <path d=\"M 33.015625 40.375 \r\nQ 26.375 40.375 22.484375 35.828125 \r\nQ 18.609375 31.296875 18.609375 23.390625 \r\nQ 18.609375 15.53125 22.484375 10.953125 \r\nQ 26.375 6.390625 33.015625 6.390625 \r\nQ 39.65625 6.390625 43.53125 10.953125 \r\nQ 47.40625 15.53125 47.40625 23.390625 \r\nQ 47.40625 31.296875 43.53125 35.828125 \r\nQ 39.65625 40.375 33.015625 40.375 \r\nz\r\nM 52.59375 71.296875 \r\nL 52.59375 62.3125 \r\nQ 48.875 64.0625 45.09375 64.984375 \r\nQ 41.3125 65.921875 37.59375 65.921875 \r\nQ 27.828125 65.921875 22.671875 59.328125 \r\nQ 17.53125 52.734375 16.796875 39.40625 \r\nQ 19.671875 43.65625 24.015625 45.921875 \r\nQ 28.375 48.1875 33.59375 48.1875 \r\nQ 44.578125 48.1875 50.953125 41.515625 \r\nQ 57.328125 34.859375 57.328125 23.390625 \r\nQ 57.328125 12.15625 50.6875 5.359375 \r\nQ 44.046875 -1.421875 33.015625 -1.421875 \r\nQ 20.359375 -1.421875 13.671875 8.265625 \r\nQ 6.984375 17.96875 6.984375 36.375 \r\nQ 6.984375 53.65625 15.1875 63.9375 \r\nQ 23.390625 74.21875 37.203125 74.21875 \r\nQ 40.921875 74.21875 44.703125 73.484375 \r\nQ 48.484375 72.75 52.59375 71.296875 \r\nz\r\n\" id=\"DejaVuSans-54\"/>\r\n      </defs>\r\n      <g transform=\"translate(248.233523 239.238437)scale(0.1 -0.1)\">\r\n       <use xlink:href=\"#DejaVuSans-54\"/>\r\n      </g>\r\n     </g>\r\n    </g>\r\n    <g id=\"xtick_5\">\r\n     <g id=\"line2d_5\">\r\n      <g>\r\n       <use style=\"stroke:#000000;stroke-width:0.8;\" x=\"319.051136\" xlink:href=\"#m741265b804\" y=\"224.64\"/>\r\n      </g>\r\n     </g>\r\n     <g id=\"text_5\">\r\n      <!-- 8 -->\r\n      <defs>\r\n       <path d=\"M 31.78125 34.625 \r\nQ 24.75 34.625 20.71875 30.859375 \r\nQ 16.703125 27.09375 16.703125 20.515625 \r\nQ 16.703125 13.921875 20.71875 10.15625 \r\nQ 24.75 6.390625 31.78125 6.390625 \r\nQ 38.8125 6.390625 42.859375 10.171875 \r\nQ 46.921875 13.96875 46.921875 20.515625 \r\nQ 46.921875 27.09375 42.890625 30.859375 \r\nQ 38.875 34.625 31.78125 34.625 \r\nz\r\nM 21.921875 38.8125 \r\nQ 15.578125 40.375 12.03125 44.71875 \r\nQ 8.5 49.078125 8.5 55.328125 \r\nQ 8.5 64.0625 14.71875 69.140625 \r\nQ 20.953125 74.21875 31.78125 74.21875 \r\nQ 42.671875 74.21875 48.875 69.140625 \r\nQ 55.078125 64.0625 55.078125 55.328125 \r\nQ 55.078125 49.078125 51.53125 44.71875 \r\nQ 48 40.375 41.703125 38.8125 \r\nQ 48.828125 37.15625 52.796875 32.3125 \r\nQ 56.78125 27.484375 56.78125 20.515625 \r\nQ 56.78125 9.90625 50.3125 4.234375 \r\nQ 43.84375 -1.421875 31.78125 -1.421875 \r\nQ 19.734375 -1.421875 13.25 4.234375 \r\nQ 6.78125 9.90625 6.78125 20.515625 \r\nQ 6.78125 27.484375 10.78125 32.3125 \r\nQ 14.796875 37.15625 21.921875 38.8125 \r\nz\r\nM 18.3125 54.390625 \r\nQ 18.3125 48.734375 21.84375 45.5625 \r\nQ 25.390625 42.390625 31.78125 42.390625 \r\nQ 38.140625 42.390625 41.71875 45.5625 \r\nQ 45.3125 48.734375 45.3125 54.390625 \r\nQ 45.3125 60.0625 41.71875 63.234375 \r\nQ 38.140625 66.40625 31.78125 66.40625 \r\nQ 25.390625 66.40625 21.84375 63.234375 \r\nQ 18.3125 60.0625 18.3125 54.390625 \r\nz\r\n\" id=\"DejaVuSans-56\"/>\r\n      </defs>\r\n      <g transform=\"translate(315.869886 239.238437)scale(0.1 -0.1)\">\r\n       <use xlink:href=\"#DejaVuSans-56\"/>\r\n      </g>\r\n     </g>\r\n    </g>\r\n   </g>\r\n   <g id=\"matplotlib.axis_2\">\r\n    <g id=\"ytick_1\">\r\n     <g id=\"line2d_6\">\r\n      <defs>\r\n       <path d=\"M 0 0 \r\nL -3.5 0 \r\n\" id=\"m6da7a08466\" style=\"stroke:#000000;stroke-width:0.8;\"/>\r\n      </defs>\r\n      <g>\r\n       <use style=\"stroke:#000000;stroke-width:0.8;\" x=\"33.2875\" xlink:href=\"#m6da7a08466\" y=\"194.929688\"/>\r\n      </g>\r\n     </g>\r\n     <g id=\"text_6\">\r\n      <!-- 150 -->\r\n      <defs>\r\n       <path d=\"M 12.40625 8.296875 \r\nL 28.515625 8.296875 \r\nL 28.515625 63.921875 \r\nL 10.984375 60.40625 \r\nL 10.984375 69.390625 \r\nL 28.421875 72.90625 \r\nL 38.28125 72.90625 \r\nL 38.28125 8.296875 \r\nL 54.390625 8.296875 \r\nL 54.390625 0 \r\nL 12.40625 0 \r\nz\r\n\" id=\"DejaVuSans-49\"/>\r\n       <path d=\"M 10.796875 72.90625 \r\nL 49.515625 72.90625 \r\nL 49.515625 64.59375 \r\nL 19.828125 64.59375 \r\nL 19.828125 46.734375 \r\nQ 21.96875 47.46875 24.109375 47.828125 \r\nQ 26.265625 48.1875 28.421875 48.1875 \r\nQ 40.625 48.1875 47.75 41.5 \r\nQ 54.890625 34.8125 54.890625 23.390625 \r\nQ 54.890625 11.625 47.5625 5.09375 \r\nQ 40.234375 -1.421875 26.90625 -1.421875 \r\nQ 22.3125 -1.421875 17.546875 -0.640625 \r\nQ 12.796875 0.140625 7.71875 1.703125 \r\nL 7.71875 11.625 \r\nQ 12.109375 9.234375 16.796875 8.0625 \r\nQ 21.484375 6.890625 26.703125 6.890625 \r\nQ 35.15625 6.890625 40.078125 11.328125 \r\nQ 45.015625 15.765625 45.015625 23.390625 \r\nQ 45.015625 31 40.078125 35.4375 \r\nQ 35.15625 39.890625 26.703125 39.890625 \r\nQ 22.75 39.890625 18.8125 39.015625 \r\nQ 14.890625 38.140625 10.796875 36.28125 \r\nz\r\n\" id=\"DejaVuSans-53\"/>\r\n      </defs>\r\n      <g transform=\"translate(7.2 198.728907)scale(0.1 -0.1)\">\r\n       <use xlink:href=\"#DejaVuSans-49\"/>\r\n       <use x=\"63.623047\" xlink:href=\"#DejaVuSans-53\"/>\r\n       <use x=\"127.246094\" xlink:href=\"#DejaVuSans-48\"/>\r\n      </g>\r\n     </g>\r\n    </g>\r\n    <g id=\"ytick_2\">\r\n     <g id=\"line2d_7\">\r\n      <g>\r\n       <use style=\"stroke:#000000;stroke-width:0.8;\" x=\"33.2875\" xlink:href=\"#m6da7a08466\" y=\"163.610712\"/>\r\n      </g>\r\n     </g>\r\n     <g id=\"text_7\">\r\n      <!-- 200 -->\r\n      <g transform=\"translate(7.2 167.40993)scale(0.1 -0.1)\">\r\n       <use xlink:href=\"#DejaVuSans-50\"/>\r\n       <use x=\"63.623047\" xlink:href=\"#DejaVuSans-48\"/>\r\n       <use x=\"127.246094\" xlink:href=\"#DejaVuSans-48\"/>\r\n      </g>\r\n     </g>\r\n    </g>\r\n    <g id=\"ytick_3\">\r\n     <g id=\"line2d_8\">\r\n      <g>\r\n       <use style=\"stroke:#000000;stroke-width:0.8;\" x=\"33.2875\" xlink:href=\"#m6da7a08466\" y=\"132.291735\"/>\r\n      </g>\r\n     </g>\r\n     <g id=\"text_8\">\r\n      <!-- 250 -->\r\n      <g transform=\"translate(7.2 136.090954)scale(0.1 -0.1)\">\r\n       <use xlink:href=\"#DejaVuSans-50\"/>\r\n       <use x=\"63.623047\" xlink:href=\"#DejaVuSans-53\"/>\r\n       <use x=\"127.246094\" xlink:href=\"#DejaVuSans-48\"/>\r\n      </g>\r\n     </g>\r\n    </g>\r\n    <g id=\"ytick_4\">\r\n     <g id=\"line2d_9\">\r\n      <g>\r\n       <use style=\"stroke:#000000;stroke-width:0.8;\" x=\"33.2875\" xlink:href=\"#m6da7a08466\" y=\"100.972759\"/>\r\n      </g>\r\n     </g>\r\n     <g id=\"text_9\">\r\n      <!-- 300 -->\r\n      <defs>\r\n       <path d=\"M 40.578125 39.3125 \r\nQ 47.65625 37.796875 51.625 33 \r\nQ 55.609375 28.21875 55.609375 21.1875 \r\nQ 55.609375 10.40625 48.1875 4.484375 \r\nQ 40.765625 -1.421875 27.09375 -1.421875 \r\nQ 22.515625 -1.421875 17.65625 -0.515625 \r\nQ 12.796875 0.390625 7.625 2.203125 \r\nL 7.625 11.71875 \r\nQ 11.71875 9.328125 16.59375 8.109375 \r\nQ 21.484375 6.890625 26.8125 6.890625 \r\nQ 36.078125 6.890625 40.9375 10.546875 \r\nQ 45.796875 14.203125 45.796875 21.1875 \r\nQ 45.796875 27.640625 41.28125 31.265625 \r\nQ 36.765625 34.90625 28.71875 34.90625 \r\nL 20.21875 34.90625 \r\nL 20.21875 43.015625 \r\nL 29.109375 43.015625 \r\nQ 36.375 43.015625 40.234375 45.921875 \r\nQ 44.09375 48.828125 44.09375 54.296875 \r\nQ 44.09375 59.90625 40.109375 62.90625 \r\nQ 36.140625 65.921875 28.71875 65.921875 \r\nQ 24.65625 65.921875 20.015625 65.03125 \r\nQ 15.375 64.15625 9.8125 62.3125 \r\nL 9.8125 71.09375 \r\nQ 15.4375 72.65625 20.34375 73.4375 \r\nQ 25.25 74.21875 29.59375 74.21875 \r\nQ 40.828125 74.21875 47.359375 69.109375 \r\nQ 53.90625 64.015625 53.90625 55.328125 \r\nQ 53.90625 49.265625 50.4375 45.09375 \r\nQ 46.96875 40.921875 40.578125 39.3125 \r\nz\r\n\" id=\"DejaVuSans-51\"/>\r\n      </defs>\r\n      <g transform=\"translate(7.2 104.771977)scale(0.1 -0.1)\">\r\n       <use xlink:href=\"#DejaVuSans-51\"/>\r\n       <use x=\"63.623047\" xlink:href=\"#DejaVuSans-48\"/>\r\n       <use x=\"127.246094\" xlink:href=\"#DejaVuSans-48\"/>\r\n      </g>\r\n     </g>\r\n    </g>\r\n    <g id=\"ytick_5\">\r\n     <g id=\"line2d_10\">\r\n      <g>\r\n       <use style=\"stroke:#000000;stroke-width:0.8;\" x=\"33.2875\" xlink:href=\"#m6da7a08466\" y=\"69.653782\"/>\r\n      </g>\r\n     </g>\r\n     <g id=\"text_10\">\r\n      <!-- 350 -->\r\n      <g transform=\"translate(7.2 73.453001)scale(0.1 -0.1)\">\r\n       <use xlink:href=\"#DejaVuSans-51\"/>\r\n       <use x=\"63.623047\" xlink:href=\"#DejaVuSans-53\"/>\r\n       <use x=\"127.246094\" xlink:href=\"#DejaVuSans-48\"/>\r\n      </g>\r\n     </g>\r\n    </g>\r\n    <g id=\"ytick_6\">\r\n     <g id=\"line2d_11\">\r\n      <g>\r\n       <use style=\"stroke:#000000;stroke-width:0.8;\" x=\"33.2875\" xlink:href=\"#m6da7a08466\" y=\"38.334806\"/>\r\n      </g>\r\n     </g>\r\n     <g id=\"text_11\">\r\n      <!-- 400 -->\r\n      <g transform=\"translate(7.2 42.134024)scale(0.1 -0.1)\">\r\n       <use xlink:href=\"#DejaVuSans-52\"/>\r\n       <use x=\"63.623047\" xlink:href=\"#DejaVuSans-48\"/>\r\n       <use x=\"127.246094\" xlink:href=\"#DejaVuSans-48\"/>\r\n      </g>\r\n     </g>\r\n    </g>\r\n   </g>\r\n   <g id=\"line2d_12\">\r\n    <path clip-path=\"url(#p047ba4cf7f)\" d=\"M 48.505682 17.083636 \r\nL 82.323864 106.290641 \r\nL 116.142045 138.109938 \r\nL 149.960227 151.08282 \r\nL 183.778409 174.419045 \r\nL 217.596591 183.559425 \r\nL 251.414773 196.083967 \r\nL 285.232955 208.21744 \r\nL 319.051136 209.655524 \r\nL 352.869318 214.756364 \r\n\" style=\"fill:none;stroke:#1f77b4;stroke-linecap:square;stroke-width:1.5;\"/>\r\n   </g>\r\n   <g id=\"patch_3\">\r\n    <path d=\"M 33.2875 224.64 \r\nL 33.2875 7.2 \r\n\" style=\"fill:none;stroke:#000000;stroke-linecap:square;stroke-linejoin:miter;stroke-width:0.8;\"/>\r\n   </g>\r\n   <g id=\"patch_4\">\r\n    <path d=\"M 368.0875 224.64 \r\nL 368.0875 7.2 \r\n\" style=\"fill:none;stroke:#000000;stroke-linecap:square;stroke-linejoin:miter;stroke-width:0.8;\"/>\r\n   </g>\r\n   <g id=\"patch_5\">\r\n    <path d=\"M 33.2875 224.64 \r\nL 368.0875 224.64 \r\n\" style=\"fill:none;stroke:#000000;stroke-linecap:square;stroke-linejoin:miter;stroke-width:0.8;\"/>\r\n   </g>\r\n   <g id=\"patch_6\">\r\n    <path d=\"M 33.2875 7.2 \r\nL 368.0875 7.2 \r\n\" style=\"fill:none;stroke:#000000;stroke-linecap:square;stroke-linejoin:miter;stroke-width:0.8;\"/>\r\n   </g>\r\n  </g>\r\n </g>\r\n <defs>\r\n  <clipPath id=\"p047ba4cf7f\">\r\n   <rect height=\"217.44\" width=\"334.8\" x=\"33.2875\" y=\"7.2\"/>\r\n  </clipPath>\r\n </defs>\r\n</svg>\r\n",
      "image/png": "[encoded data removed]"
     },
     "metadata": {
      "needs_background": "light"
     }
    }
   ],
   "source": [
    "plt.plot(s[:10])"
   ]
  },
  {
   "cell_type": "code",
   "execution_count": 53,
   "metadata": {
    "hidden": true
   },
   "outputs": [],
   "source": [
    "num_top_words=8\n",
    "\n",
    "def show_topics(a):\n",
    "    top_words = lambda t: [vocab[i] for i in np.argsort(t)[:-num_top_words-1:-1]]\n",
    "    topic_words = ([top_words(t) for t in a])\n",
    "    return [' '.join(t) for t in topic_words]"
   ]
  },
  {
   "cell_type": "code",
   "execution_count": 54,
   "metadata": {
    "hidden": true
   },
   "outputs": [
    {
     "output_type": "execute_result",
     "data": {
      "text/plain": [
       "['ditto critus propagandist surname galacticentric kindergarten surreal imaginative',\n",
       " 'jpeg gif file color quality image jfif format',\n",
       " 'graphics edu pub mail 128 3d ray ftp',\n",
       " 'jesus god matthew people atheists atheism does graphics',\n",
       " 'image data processing analysis software available tools display',\n",
       " 'god atheists atheism religious believe religion argument true',\n",
       " 'space nasa lunar mars probe moon missions probes',\n",
       " 'image probe surface lunar mars probes moon orbit',\n",
       " 'argument fallacy conclusion example true ad argumentum premises',\n",
       " 'space larson image theory universe physical nasa material']"
      ]
     },
     "metadata": {},
     "execution_count": 54
    }
   ],
   "source": [
    "show_topics(Vh[:10])"
   ]
  },
  {
   "cell_type": "markdown",
   "metadata": {
    "hidden": true
   },
   "source": [
    "We get topics that match the kinds of clusters we would expect! This is despite the fact that this is an **unsupervised algorithm** - which is to say, we never actually told the algorithm how our documents are grouped."
   ]
  },
  {
   "cell_type": "markdown",
   "metadata": {
    "hidden": true
   },
   "source": [
    "We will return to SVD in **much more detail** later.  For now, the important takeaway is that we have a tool that allows us to exactly factor a matrix into orthogonal columns and orthogonal rows."
   ]
  },
  {
   "cell_type": "markdown",
   "metadata": {},
   "source": [
    "## Non-negative Matrix Factorization (NMF)"
   ]
  },
  {
   "cell_type": "markdown",
   "metadata": {},
   "source": [
    "#### Motivation"
   ]
  },
  {
   "cell_type": "markdown",
   "metadata": {},
   "source": [
    "<img src=\"images/face_pca.png\" alt=\"PCA on faces\" style=\"width: 80%\"/>\n",
    "\n",
    "(source: [NMF Tutorial](http://perso.telecom-paristech.fr/~essid/teach/NMF_tutorial_ICME-2014.pdf))\n",
    "\n",
    "A more interpretable approach:\n",
    "\n",
    "<img src=\"images/face_outputs.png\" alt=\"NMF on Faces\" style=\"width: 80%\"/>\n",
    "\n",
    "(source: [NMF Tutorial](http://perso.telecom-paristech.fr/~essid/teach/NMF_tutorial_ICME-2014.pdf))"
   ]
  },
  {
   "cell_type": "markdown",
   "metadata": {},
   "source": [
    "#### Idea"
   ]
  },
  {
   "cell_type": "markdown",
   "metadata": {},
   "source": [
    "Rather than constraining our factors to be *orthogonal*, another idea would to constrain them to be *non-negative*. NMF is a factorization of a non-negative data set $V$: $$ V = W H$$ into non-negative matrices $W,\\; H$. Often positive factors will be **more easily interpretable** (and this is the reason behind NMF's popularity). \n",
    "\n",
    "<img src=\"images/face_nmf.png\" alt=\"NMF on faces\" style=\"width: 80%\"/>\n",
    "\n",
    "(source: [NMF Tutorial](http://perso.telecom-paristech.fr/~essid/teach/NMF_tutorial_ICME-2014.pdf))\n",
    "\n",
    "Nonnegative matrix factorization (NMF) is a non-exact factorization that factors into one skinny positive matrix and one short positive matrix.  NMF is NP-hard and non-unique.  There are a number of variations on it, created by adding different constraints. "
   ]
  },
  {
   "cell_type": "markdown",
   "metadata": {},
   "source": [
    "#### Applications of NMF"
   ]
  },
  {
   "cell_type": "markdown",
   "metadata": {},
   "source": [
    "- [Face Decompositions](http://scikit-learn.org/stable/auto_examples/decomposition/plot_faces_decomposition.html#sphx-glr-auto-examples-decomposition-plot-faces-decomposition-py)\n",
    "- [Collaborative Filtering, eg movie recommendations](http://www.quuxlabs.com/blog/2010/09/matrix-factorization-a-simple-tutorial-and-implementation-in-python/)\n",
    "- [Audio source separation](https://pdfs.semanticscholar.org/cc88/0b24791349df39c5d9b8c352911a0417df34.pdf)\n",
    "- [Chemistry](http://ieeexplore.ieee.org/document/1532909/)\n",
    "- [Bioinformatics](https://bmcbioinformatics.biomedcentral.com/articles/10.1186/s12859-015-0485-4) and [Gene Expression](https://www.ncbi.nlm.nih.gov/pmc/articles/PMC2623306/)\n",
    "- Topic Modeling (our problem!)\n",
    "\n",
    "<img src=\"images/nmf_doc.png\" alt=\"NMF on documents\" style=\"width: 80%\"/>\n",
    "\n",
    "(source: [NMF Tutorial](http://perso.telecom-paristech.fr/~essid/teach/NMF_tutorial_ICME-2014.pdf))"
   ]
  },
  {
   "cell_type": "markdown",
   "metadata": {},
   "source": [
    "**More Reading**:\n",
    "\n",
    "- [The Why and How of Nonnegative Matrix Factorization](https://arxiv.org/pdf/1401.5226.pdf)"
   ]
  },
  {
   "cell_type": "markdown",
   "metadata": {},
   "source": [
    "### NMF from sklearn"
   ]
  },
  {
   "cell_type": "markdown",
   "metadata": {},
   "source": [
    "We will use [scikit-learn's implementation of NMF](http://scikit-learn.org/stable/modules/generated/sklearn.decomposition.NMF.html):"
   ]
  },
  {
   "cell_type": "code",
   "execution_count": 55,
   "metadata": {},
   "outputs": [],
   "source": [
    "m,n=vectors.shape\n",
    "d=5  # num topics"
   ]
  },
  {
   "cell_type": "code",
   "execution_count": 56,
   "metadata": {},
   "outputs": [],
   "source": [
    "clf = decomposition.NMF(n_components=d, random_state=1)\n",
    "\n",
    "W1 = clf.fit_transform(vectors)\n",
    "H1 = clf.components_"
   ]
  },
  {
   "cell_type": "code",
   "execution_count": 57,
   "metadata": {},
   "outputs": [
    {
     "output_type": "execute_result",
     "data": {
      "text/plain": [
       "['jpeg image gif file color images format quality',\n",
       " 'edu graphics pub mail 128 ray ftp send',\n",
       " 'space launch satellite nasa commercial satellites year market',\n",
       " 'jesus god people matthew atheists does atheism said',\n",
       " 'image data available software processing ftp edu analysis']"
      ]
     },
     "metadata": {},
     "execution_count": 57
    }
   ],
   "source": [
    "show_topics(H1)"
   ]
  },
  {
   "cell_type": "markdown",
   "metadata": {},
   "source": [
    "### TF-IDF"
   ]
  },
  {
   "cell_type": "markdown",
   "metadata": {},
   "source": [
    "[Topic Frequency-Inverse Document Frequency](http://www.tfidf.com/) (TF-IDF) is a way to normalize term counts by taking into account how often they appear in a document, how long the document is, and how commmon/rare the term is.\n",
    "\n",
    "TF = (# occurrences of term t in document) / (# of words in documents)\n",
    "\n",
    "IDF = log(# of documents / # documents with term t in it)"
   ]
  },
  {
   "cell_type": "code",
   "execution_count": 58,
   "metadata": {},
   "outputs": [],
   "source": [
    "vectorizer_tfidf = TfidfVectorizer(stop_words='english')\n",
    "vectors_tfidf = vectorizer_tfidf.fit_transform(newsgroups_train.data) # (documents, vocab)"
   ]
  },
  {
   "cell_type": "code",
   "execution_count": 62,
   "metadata": {},
   "outputs": [
    {
     "output_type": "execute_result",
     "data": {
      "text/plain": [
       "[\"a\\n\\nWhat about positional uncertainties in S-L 1993e?   I assume we know where\\nand what Galileo is doing within a few meters.   But without the\\nHGA,  don't we have to have some pretty good ideas, of where to look\\nbefore imaging?  If the HGA was working,  they could slew around\\nin near real time (Less speed of light delay).  But when they were\\nimaging toutatis????  didn't someone have to get lucky on a guess to\\nfind the first images?   \\n\\nAlso, I imagine S-L 1993e will be mostly a visual image.  so how will\\nthat affect the other imaging missions.  with the LGA,  there is a real\\ntight allocation of bandwidth.   It may be premature to hope for answers,\\nbut I thought i'd throw it on the floor.\",\n",
       " \"I would like to program Tseng ET4000 to nonstandard 1024x768 mode by\\nswitching to standard 1024x768 mode using BIOS and than changing some\\ntiming details (0x3D4 registers 0x00-0x1F) but I don't know how to\\nselect 36 MHz pixel clock I need. The BIOS function selects 40 MHz.\\n\\nIs there anybody who knows where to obtain technical info about this.\\nI am also interested in any other technical information about Tseng ET4000\\nand Trident 8900 and 9000 chipsets.\\n\\n\\t\\t\\tthanks very much\",\n",
       " 'In-Reply-To: <20APR199312262902@rigel.tamu.edu> lmp8913@rigel.tamu.edu (PRESTON, LISA M)',\n",
       " \"\\n\\n\\n\\nI'm not sure, but it almost sounds like they can't figure out where the \\n_nucleus_ is within the coma. If they're off by a couple hundred\\nmiles, well, you can imagine the rest...\\n\",\n",
       " \"Hello,\\n     I am looking to add voice input capability to a user interface I am\\ndeveloping on an HP730 (UNIX) workstation.  I would greatly appreciate \\ninformation anyone would care to offer about voice input systems that are \\neasily accessible from the UNIX environment. \\n\\n     The names or adresses of applicable vendors, as well as any \\nexperiences you have had with specific systems, would be very helpful.\\n\\n     Please respond via email; I will post a summary if there is \\nsufficient interest.\\n\\n\\nThanks,\\nKen\\n\\n\\nP.S.  I have found several impressive systems for IBM PC's, but I would \\nlike to avoid the hassle of purchasing and maintaining a separate PC if \\nat all possible.\\n\\n-------------------------------------------------------------------------------\\nKen Hinckley (kph2q@virginia.edu)\\nUniversity of Virginia \\nNeurosurgical Visualization Laboratory\",\n",
       " '\\nIt was a test of the first reusable tool.\\n\\n\\nPointy so they can find them or so they will stick into their pants better, and\\nbe closer to their brains?',\n",
       " '\\nSize of armies, duration, numbers of casualties both absolute and as a\\npercentage of those involved, geographical area and numbers of countries\\ntoo, are all measures of size.  In this case I\\'d say the relevant\\nstatistic would be the number of combatants (total troops) compared to\\ntotal casualties from among the total civilian population in the\\naffected geographical area.\\n\\n\\nVietnam and Korea might make good comparisons.\\n\\n\\nWestern news in general, but in particular the American \"mass media\":\\nCBS, NBC, ABC, etc.  The general tone of the news during the whole\\nwar was one of \"those poor, poor Iraqis\" along with \"look how precisely\\nthis cruise missile blew this building to bits\".\\n\\n\\nI agree.\\n\\n\\nPerhaps so.  And maybe the atomic bomb was a mistake too.  But that\\'s easy\\nto say from our \"enlightened\" viewpoint here in the 90\\'s, right?  Back\\nthen, it was *all-out* war, and Germany and Japan had to be squashed.\\nAfter all, a million or more British had already died, hundreds of \\nthousands of French, a couple hundread thousand or so Americans, and \\nmillions of Russians, not to mention a few million Jews, Poles, and \\nother people of slavic descent in German concentration camps.  All \\nthings considered, the fire-bombings and the atomic bomb were\\nessential (and therefore justified) in bringing the war to a quick\\nend to avoid even greater allied losses.\\n\\nI, for one, don\\'t regret it.\\n\\n\\nSure.  And it\\'s the people who suffer because of them.  All the more\\nreason to depose these \"entrenched political rulers operating in their\\nown selfish interests\"!  Or do you mean that this applies to the allies\\nas well??\\n\\n\\nI make no claim or effort to justify the misguided foreign policy of the\\nWest before the war.  It is evident that the West, especially America,\\nmisjudged Hussein drastically.  But once Hussein invaded Kuwait and \\nthreatened to militarily corner a significant portion of the world\\'s\\noil supply, he had to be stopped.  Sure the war could have been\\nprevented by judicious and concerted effort on the part of the West\\nbefore Hussein invaded Kuwait, but it is still *Hussein* who is\\nresponsible for his decision to invade.  And once he did so, a\\nstrong response from the West was required.\\n\\n\\nWell, it\\'s not very \"loving\" to allow a Hussein or a Hitler to gobble up\\nnearby countries and keep them.  Or to allow them to continue with mass\\nslaughter of certain peoples under their dominion.  So, I\\'d have to\\nsay yes, stopping Hussein was the most \"loving\" thing to do for the\\nmost people involved once he set his mind on military conquest.\\n\\nI mentioned it.\\n\\nIf we hadn\\'t intervened, allowing Hussein to keep Kuwait, then it would\\nhave been appeasement.  It is precisely the lessons the world learned\\nin WW2 that motivated the Western alliance to war.  Letting Hitler take\\nAustria and Czechoslavkia did not stop WW2 from happening, and letting\\nHussein keep Kuwait would not have stopped an eventual Gulf War to\\nprotect Saudi Arabia.\\n\\n\\nSure.  What was truly unfortunate was that they followed Hitler in\\nhis grandiose quest for a \"Thousand Year Reich\".  The consequences\\nstemmed from that.\\n\\nWhat should I say about them?  Anything in particular?\\n\\n\\n\\nSo?  It was the *policemen* on trial not Rodney King!!  And under American\\nlaw they deserved a jury of *their* peers!  If there had been black\\nofficers involved, I\\'m sure their would have been black jurors too.\\nThis point (of allegedly racial motivations) is really shallow.\\n\\n\\nSo?  It\\'s \"hard to imagine\"?  So when has Argument from Incredulity\\ngained acceptance from the revered author of \"Constructing a Logical\\nArgument\"?  Can we expect another revision soon??  :)  (Just kidding.)\\n\\n\\nI have to admit that I wonder this too.  But *neither* the prosecution\\nnor the defense is talking.  So one cannot conclude either way due to\\nthe silence of the principals.  \\n\\n\\nOK.  It certainly seemed to me that there was excessive force involved.\\nAnd frankly, the original \"not guilty\" verdict baffled me too.  But then\\nI learned that the prosecution in the first case did not try to convict\\non a charge of excessive force or simple assault which they probably\\nwould have won, they tried to get a conviction on a charge of aggravated\\nassault with intent to inflict serious bodily harm.  A charge, which\\nnews commentators said, was akin to attempted murder under California\\nlaw.  Based on what the prosecution was asking for, it\\'s evident that \\nthe first jury decided that the officers were \"not guilty\".  Note, \\nnot \"not guilty\" of doing wrong, but \"not guilty\" of aggravated assault \\nwith the *intent* of inflicting serious bodily harm.  The seeds of the \\nprosecutions defeat were in their own overconfidence in obtaining a \\nverdict such that they went for the most extreme charge they could.\\n\\nIf the facts as the news commentators presented them are true, then\\nI feel the \"not guilty\" verdict was a reasonable one.\\n\\n\\nThanks mathew, I like the quote.  Pretty funny actually.  (I\\'m a \\nMonty Python fan, you know.  Kind of seems in that vein.)\\n\\nOf course, oversimplifying any moral argument can make it seem\\ncontradictory.  But then, you know that already.  \\n\\nRegards,',\n",
       " \"<stuff deleted>\\n\\nYou mean like: seconds, minutes, hours, days, months, years. . .  :-)\\n\\nRemember,  the Fahrenheit temperature scale is also a centigrade scale.  Some\\nrevisionists tell the history something like this:  The coldest point in a\\nparticular Russian winter was marked on the thermometer as was the body\\ntemperature of a volunteer (turns out he was sick, but you can't win 'em all).\\nThen the space in between the marks on the thermometer was then divided into\\nhundredths.\\n\\t\\t\\t\\t\\t\\t\\t\\t:-)\\n\\nFWIW,\\n\\nDoug Page\\n\",\n",
       " \"\\nIt wasn't especially prominent, as I recall.  However, quite possibly it's\\nno longer on display; NASM, like most museums, has much more stuff than it\\ncan display at once, and does rotate the displays occasionally.\",\n",
       " \"DM> Fact or rumor....?  Madalyn Murray O'Hare an atheist who eliminated the\\nDM> use of the bible reading and prayer in public schools 15 years ago is now\\nDM> going to appear before the FCC with a petition to stop the reading of the\\nDM> Gospel on the airways of America.  And she is also campaigning to remove\\nDM> Christmas programs, songs, etc from the public schools.  If it is true\\nDM> then mail to Federal Communications Commission 1919 H Street Washington DC\\nDM> 20054 expressing your opposition to her request.  Reference Petition number\\n\\nDM> 2493.\\n\\nFalse.  This story has been going around for years.  There's not a drop of\\ntruth.  Note that I don't care for O'Hare (O'Hair?) myself, but this\\nis one thing she's not guilty of.\\n\"]"
      ]
     },
     "metadata": {},
     "execution_count": 62
    }
   ],
   "source": [
    "newsgroups_train.data[10:20]"
   ]
  },
  {
   "cell_type": "code",
   "execution_count": 63,
   "metadata": {},
   "outputs": [],
   "source": [
    "W1 = clf.fit_transform(vectors_tfidf)\n",
    "H1 = clf.components_"
   ]
  },
  {
   "cell_type": "code",
   "execution_count": 64,
   "metadata": {},
   "outputs": [
    {
     "output_type": "execute_result",
     "data": {
      "text/plain": [
       "['people don think just like objective say morality',\n",
       " 'graphics thanks files image file program windows know',\n",
       " 'space nasa launch shuttle orbit moon lunar earth',\n",
       " 'ico bobbe tek beauchaine bronx manhattan sank queens',\n",
       " 'god jesus bible believe christian atheism does belief']"
      ]
     },
     "metadata": {},
     "execution_count": 64
    }
   ],
   "source": [
    "show_topics(H1)"
   ]
  },
  {
   "cell_type": "code",
   "execution_count": 65,
   "metadata": {},
   "outputs": [
    {
     "output_type": "execute_result",
     "data": {
      "text/plain": [
       "[<matplotlib.lines.Line2D at 0x2ed329ba448>]"
      ]
     },
     "metadata": {},
     "execution_count": 65
    },
    {
     "output_type": "display_data",
     "data": {
      "text/plain": "<Figure size 432x288 with 1 Axes>",
      "image/svg+xml": "<?xml version=\"1.0\" encoding=\"utf-8\" standalone=\"no\"?>\r\n<!DOCTYPE svg PUBLIC \"-//W3C//DTD SVG 1.1//EN\"\r\n  \"http://www.w3.org/Graphics/SVG/1.1/DTD/svg11.dtd\">\r\n<!-- Created with matplotlib (https://matplotlib.org/) -->\r\n<svg height=\"248.518125pt\" version=\"1.1\" viewBox=\"0 0 372.103125 248.518125\" width=\"372.103125pt\" xmlns=\"http://www.w3.org/2000/svg\" xmlns:xlink=\"http://www.w3.org/1999/xlink\">\r\n <defs>\r\n  <style type=\"text/css\">\r\n*{stroke-linecap:butt;stroke-linejoin:round;}\r\n  </style>\r\n </defs>\r\n <g id=\"figure_1\">\r\n  <g id=\"patch_1\">\r\n   <path d=\"M 0 248.518125 \r\nL 372.103125 248.518125 \r\nL 372.103125 0 \r\nL 0 0 \r\nz\r\n\" style=\"fill:none;\"/>\r\n  </g>\r\n  <g id=\"axes_1\">\r\n   <g id=\"patch_2\">\r\n    <path d=\"M 30.103125 224.64 \r\nL 364.903125 224.64 \r\nL 364.903125 7.2 \r\nL 30.103125 7.2 \r\nz\r\n\" style=\"fill:#ffffff;\"/>\r\n   </g>\r\n   <g id=\"matplotlib.axis_1\">\r\n    <g id=\"xtick_1\">\r\n     <g id=\"line2d_1\">\r\n      <defs>\r\n       <path d=\"M 0 0 \r\nL 0 3.5 \r\n\" id=\"mee100d763d\" style=\"stroke:#000000;stroke-width:0.8;\"/>\r\n      </defs>\r\n      <g>\r\n       <use style=\"stroke:#000000;stroke-width:0.8;\" x=\"45.321307\" xlink:href=\"#mee100d763d\" y=\"224.64\"/>\r\n      </g>\r\n     </g>\r\n     <g id=\"text_1\">\r\n      <!-- 0 -->\r\n      <defs>\r\n       <path d=\"M 31.78125 66.40625 \r\nQ 24.171875 66.40625 20.328125 58.90625 \r\nQ 16.5 51.421875 16.5 36.375 \r\nQ 16.5 21.390625 20.328125 13.890625 \r\nQ 24.171875 6.390625 31.78125 6.390625 \r\nQ 39.453125 6.390625 43.28125 13.890625 \r\nQ 47.125 21.390625 47.125 36.375 \r\nQ 47.125 51.421875 43.28125 58.90625 \r\nQ 39.453125 66.40625 31.78125 66.40625 \r\nz\r\nM 31.78125 74.21875 \r\nQ 44.046875 74.21875 50.515625 64.515625 \r\nQ 56.984375 54.828125 56.984375 36.375 \r\nQ 56.984375 17.96875 50.515625 8.265625 \r\nQ 44.046875 -1.421875 31.78125 -1.421875 \r\nQ 19.53125 -1.421875 13.0625 8.265625 \r\nQ 6.59375 17.96875 6.59375 36.375 \r\nQ 6.59375 54.828125 13.0625 64.515625 \r\nQ 19.53125 74.21875 31.78125 74.21875 \r\nz\r\n\" id=\"DejaVuSans-48\"/>\r\n      </defs>\r\n      <g transform=\"translate(42.140057 239.238438)scale(0.1 -0.1)\">\r\n       <use xlink:href=\"#DejaVuSans-48\"/>\r\n      </g>\r\n     </g>\r\n    </g>\r\n    <g id=\"xtick_2\">\r\n     <g id=\"line2d_2\">\r\n      <g>\r\n       <use style=\"stroke:#000000;stroke-width:0.8;\" x=\"102.586337\" xlink:href=\"#mee100d763d\" y=\"224.64\"/>\r\n      </g>\r\n     </g>\r\n     <g id=\"text_2\">\r\n      <!-- 5000 -->\r\n      <defs>\r\n       <path d=\"M 10.796875 72.90625 \r\nL 49.515625 72.90625 \r\nL 49.515625 64.59375 \r\nL 19.828125 64.59375 \r\nL 19.828125 46.734375 \r\nQ 21.96875 47.46875 24.109375 47.828125 \r\nQ 26.265625 48.1875 28.421875 48.1875 \r\nQ 40.625 48.1875 47.75 41.5 \r\nQ 54.890625 34.8125 54.890625 23.390625 \r\nQ 54.890625 11.625 47.5625 5.09375 \r\nQ 40.234375 -1.421875 26.90625 -1.421875 \r\nQ 22.3125 -1.421875 17.546875 -0.640625 \r\nQ 12.796875 0.140625 7.71875 1.703125 \r\nL 7.71875 11.625 \r\nQ 12.109375 9.234375 16.796875 8.0625 \r\nQ 21.484375 6.890625 26.703125 6.890625 \r\nQ 35.15625 6.890625 40.078125 11.328125 \r\nQ 45.015625 15.765625 45.015625 23.390625 \r\nQ 45.015625 31 40.078125 35.4375 \r\nQ 35.15625 39.890625 26.703125 39.890625 \r\nQ 22.75 39.890625 18.8125 39.015625 \r\nQ 14.890625 38.140625 10.796875 36.28125 \r\nz\r\n\" id=\"DejaVuSans-53\"/>\r\n      </defs>\r\n      <g transform=\"translate(89.861337 239.238438)scale(0.1 -0.1)\">\r\n       <use xlink:href=\"#DejaVuSans-53\"/>\r\n       <use x=\"63.623047\" xlink:href=\"#DejaVuSans-48\"/>\r\n       <use x=\"127.246094\" xlink:href=\"#DejaVuSans-48\"/>\r\n       <use x=\"190.869141\" xlink:href=\"#DejaVuSans-48\"/>\r\n      </g>\r\n     </g>\r\n    </g>\r\n    <g id=\"xtick_3\">\r\n     <g id=\"line2d_3\">\r\n      <g>\r\n       <use style=\"stroke:#000000;stroke-width:0.8;\" x=\"159.851368\" xlink:href=\"#mee100d763d\" y=\"224.64\"/>\r\n      </g>\r\n     </g>\r\n     <g id=\"text_3\">\r\n      <!-- 10000 -->\r\n      <defs>\r\n       <path d=\"M 12.40625 8.296875 \r\nL 28.515625 8.296875 \r\nL 28.515625 63.921875 \r\nL 10.984375 60.40625 \r\nL 10.984375 69.390625 \r\nL 28.421875 72.90625 \r\nL 38.28125 72.90625 \r\nL 38.28125 8.296875 \r\nL 54.390625 8.296875 \r\nL 54.390625 0 \r\nL 12.40625 0 \r\nz\r\n\" id=\"DejaVuSans-49\"/>\r\n      </defs>\r\n      <g transform=\"translate(143.945118 239.238438)scale(0.1 -0.1)\">\r\n       <use xlink:href=\"#DejaVuSans-49\"/>\r\n       <use x=\"63.623047\" xlink:href=\"#DejaVuSans-48\"/>\r\n       <use x=\"127.246094\" xlink:href=\"#DejaVuSans-48\"/>\r\n       <use x=\"190.869141\" xlink:href=\"#DejaVuSans-48\"/>\r\n       <use x=\"254.492188\" xlink:href=\"#DejaVuSans-48\"/>\r\n      </g>\r\n     </g>\r\n    </g>\r\n    <g id=\"xtick_4\">\r\n     <g id=\"line2d_4\">\r\n      <g>\r\n       <use style=\"stroke:#000000;stroke-width:0.8;\" x=\"217.116398\" xlink:href=\"#mee100d763d\" y=\"224.64\"/>\r\n      </g>\r\n     </g>\r\n     <g id=\"text_4\">\r\n      <!-- 15000 -->\r\n      <g transform=\"translate(201.210148 239.238438)scale(0.1 -0.1)\">\r\n       <use xlink:href=\"#DejaVuSans-49\"/>\r\n       <use x=\"63.623047\" xlink:href=\"#DejaVuSans-53\"/>\r\n       <use x=\"127.246094\" xlink:href=\"#DejaVuSans-48\"/>\r\n       <use x=\"190.869141\" xlink:href=\"#DejaVuSans-48\"/>\r\n       <use x=\"254.492188\" xlink:href=\"#DejaVuSans-48\"/>\r\n      </g>\r\n     </g>\r\n    </g>\r\n    <g id=\"xtick_5\">\r\n     <g id=\"line2d_5\">\r\n      <g>\r\n       <use style=\"stroke:#000000;stroke-width:0.8;\" x=\"274.381428\" xlink:href=\"#mee100d763d\" y=\"224.64\"/>\r\n      </g>\r\n     </g>\r\n     <g id=\"text_5\">\r\n      <!-- 20000 -->\r\n      <defs>\r\n       <path d=\"M 19.1875 8.296875 \r\nL 53.609375 8.296875 \r\nL 53.609375 0 \r\nL 7.328125 0 \r\nL 7.328125 8.296875 \r\nQ 12.9375 14.109375 22.625 23.890625 \r\nQ 32.328125 33.6875 34.8125 36.53125 \r\nQ 39.546875 41.84375 41.421875 45.53125 \r\nQ 43.3125 49.21875 43.3125 52.78125 \r\nQ 43.3125 58.59375 39.234375 62.25 \r\nQ 35.15625 65.921875 28.609375 65.921875 \r\nQ 23.96875 65.921875 18.8125 64.3125 \r\nQ 13.671875 62.703125 7.8125 59.421875 \r\nL 7.8125 69.390625 \r\nQ 13.765625 71.78125 18.9375 73 \r\nQ 24.125 74.21875 28.421875 74.21875 \r\nQ 39.75 74.21875 46.484375 68.546875 \r\nQ 53.21875 62.890625 53.21875 53.421875 \r\nQ 53.21875 48.921875 51.53125 44.890625 \r\nQ 49.859375 40.875 45.40625 35.40625 \r\nQ 44.1875 33.984375 37.640625 27.21875 \r\nQ 31.109375 20.453125 19.1875 8.296875 \r\nz\r\n\" id=\"DejaVuSans-50\"/>\r\n      </defs>\r\n      <g transform=\"translate(258.475178 239.238438)scale(0.1 -0.1)\">\r\n       <use xlink:href=\"#DejaVuSans-50\"/>\r\n       <use x=\"63.623047\" xlink:href=\"#DejaVuSans-48\"/>\r\n       <use x=\"127.246094\" xlink:href=\"#DejaVuSans-48\"/>\r\n       <use x=\"190.869141\" xlink:href=\"#DejaVuSans-48\"/>\r\n       <use x=\"254.492188\" xlink:href=\"#DejaVuSans-48\"/>\r\n      </g>\r\n     </g>\r\n    </g>\r\n    <g id=\"xtick_6\">\r\n     <g id=\"line2d_6\">\r\n      <g>\r\n       <use style=\"stroke:#000000;stroke-width:0.8;\" x=\"331.646459\" xlink:href=\"#mee100d763d\" y=\"224.64\"/>\r\n      </g>\r\n     </g>\r\n     <g id=\"text_6\">\r\n      <!-- 25000 -->\r\n      <g transform=\"translate(315.740209 239.238438)scale(0.1 -0.1)\">\r\n       <use xlink:href=\"#DejaVuSans-50\"/>\r\n       <use x=\"63.623047\" xlink:href=\"#DejaVuSans-53\"/>\r\n       <use x=\"127.246094\" xlink:href=\"#DejaVuSans-48\"/>\r\n       <use x=\"190.869141\" xlink:href=\"#DejaVuSans-48\"/>\r\n       <use x=\"254.492188\" xlink:href=\"#DejaVuSans-48\"/>\r\n      </g>\r\n     </g>\r\n    </g>\r\n   </g>\r\n   <g id=\"matplotlib.axis_2\">\r\n    <g id=\"ytick_1\">\r\n     <g id=\"line2d_7\">\r\n      <defs>\r\n       <path d=\"M 0 0 \r\nL -3.5 0 \r\n\" id=\"m0ac80bd5e2\" style=\"stroke:#000000;stroke-width:0.8;\"/>\r\n      </defs>\r\n      <g>\r\n       <use style=\"stroke:#000000;stroke-width:0.8;\" x=\"30.103125\" xlink:href=\"#m0ac80bd5e2\" y=\"214.756364\"/>\r\n      </g>\r\n     </g>\r\n     <g id=\"text_7\">\r\n      <!-- 0.0 -->\r\n      <defs>\r\n       <path d=\"M 10.6875 12.40625 \r\nL 21 12.40625 \r\nL 21 0 \r\nL 10.6875 0 \r\nz\r\n\" id=\"DejaVuSans-46\"/>\r\n      </defs>\r\n      <g transform=\"translate(7.2 218.555582)scale(0.1 -0.1)\">\r\n       <use xlink:href=\"#DejaVuSans-48\"/>\r\n       <use x=\"63.623047\" xlink:href=\"#DejaVuSans-46\"/>\r\n       <use x=\"95.410156\" xlink:href=\"#DejaVuSans-48\"/>\r\n      </g>\r\n     </g>\r\n    </g>\r\n    <g id=\"ytick_2\">\r\n     <g id=\"line2d_8\">\r\n      <g>\r\n       <use style=\"stroke:#000000;stroke-width:0.8;\" x=\"30.103125\" xlink:href=\"#m0ac80bd5e2\" y=\"182.176064\"/>\r\n      </g>\r\n     </g>\r\n     <g id=\"text_8\">\r\n      <!-- 0.1 -->\r\n      <g transform=\"translate(7.2 185.975283)scale(0.1 -0.1)\">\r\n       <use xlink:href=\"#DejaVuSans-48\"/>\r\n       <use x=\"63.623047\" xlink:href=\"#DejaVuSans-46\"/>\r\n       <use x=\"95.410156\" xlink:href=\"#DejaVuSans-49\"/>\r\n      </g>\r\n     </g>\r\n    </g>\r\n    <g id=\"ytick_3\">\r\n     <g id=\"line2d_9\">\r\n      <g>\r\n       <use style=\"stroke:#000000;stroke-width:0.8;\" x=\"30.103125\" xlink:href=\"#m0ac80bd5e2\" y=\"149.595764\"/>\r\n      </g>\r\n     </g>\r\n     <g id=\"text_9\">\r\n      <!-- 0.2 -->\r\n      <g transform=\"translate(7.2 153.394983)scale(0.1 -0.1)\">\r\n       <use xlink:href=\"#DejaVuSans-48\"/>\r\n       <use x=\"63.623047\" xlink:href=\"#DejaVuSans-46\"/>\r\n       <use x=\"95.410156\" xlink:href=\"#DejaVuSans-50\"/>\r\n      </g>\r\n     </g>\r\n    </g>\r\n    <g id=\"ytick_4\">\r\n     <g id=\"line2d_10\">\r\n      <g>\r\n       <use style=\"stroke:#000000;stroke-width:0.8;\" x=\"30.103125\" xlink:href=\"#m0ac80bd5e2\" y=\"117.015464\"/>\r\n      </g>\r\n     </g>\r\n     <g id=\"text_10\">\r\n      <!-- 0.3 -->\r\n      <defs>\r\n       <path d=\"M 40.578125 39.3125 \r\nQ 47.65625 37.796875 51.625 33 \r\nQ 55.609375 28.21875 55.609375 21.1875 \r\nQ 55.609375 10.40625 48.1875 4.484375 \r\nQ 40.765625 -1.421875 27.09375 -1.421875 \r\nQ 22.515625 -1.421875 17.65625 -0.515625 \r\nQ 12.796875 0.390625 7.625 2.203125 \r\nL 7.625 11.71875 \r\nQ 11.71875 9.328125 16.59375 8.109375 \r\nQ 21.484375 6.890625 26.8125 6.890625 \r\nQ 36.078125 6.890625 40.9375 10.546875 \r\nQ 45.796875 14.203125 45.796875 21.1875 \r\nQ 45.796875 27.640625 41.28125 31.265625 \r\nQ 36.765625 34.90625 28.71875 34.90625 \r\nL 20.21875 34.90625 \r\nL 20.21875 43.015625 \r\nL 29.109375 43.015625 \r\nQ 36.375 43.015625 40.234375 45.921875 \r\nQ 44.09375 48.828125 44.09375 54.296875 \r\nQ 44.09375 59.90625 40.109375 62.90625 \r\nQ 36.140625 65.921875 28.71875 65.921875 \r\nQ 24.65625 65.921875 20.015625 65.03125 \r\nQ 15.375 64.15625 9.8125 62.3125 \r\nL 9.8125 71.09375 \r\nQ 15.4375 72.65625 20.34375 73.4375 \r\nQ 25.25 74.21875 29.59375 74.21875 \r\nQ 40.828125 74.21875 47.359375 69.109375 \r\nQ 53.90625 64.015625 53.90625 55.328125 \r\nQ 53.90625 49.265625 50.4375 45.09375 \r\nQ 46.96875 40.921875 40.578125 39.3125 \r\nz\r\n\" id=\"DejaVuSans-51\"/>\r\n      </defs>\r\n      <g transform=\"translate(7.2 120.814683)scale(0.1 -0.1)\">\r\n       <use xlink:href=\"#DejaVuSans-48\"/>\r\n       <use x=\"63.623047\" xlink:href=\"#DejaVuSans-46\"/>\r\n       <use x=\"95.410156\" xlink:href=\"#DejaVuSans-51\"/>\r\n      </g>\r\n     </g>\r\n    </g>\r\n    <g id=\"ytick_5\">\r\n     <g id=\"line2d_11\">\r\n      <g>\r\n       <use style=\"stroke:#000000;stroke-width:0.8;\" x=\"30.103125\" xlink:href=\"#m0ac80bd5e2\" y=\"84.435164\"/>\r\n      </g>\r\n     </g>\r\n     <g id=\"text_11\">\r\n      <!-- 0.4 -->\r\n      <defs>\r\n       <path d=\"M 37.796875 64.3125 \r\nL 12.890625 25.390625 \r\nL 37.796875 25.390625 \r\nz\r\nM 35.203125 72.90625 \r\nL 47.609375 72.90625 \r\nL 47.609375 25.390625 \r\nL 58.015625 25.390625 \r\nL 58.015625 17.1875 \r\nL 47.609375 17.1875 \r\nL 47.609375 0 \r\nL 37.796875 0 \r\nL 37.796875 17.1875 \r\nL 4.890625 17.1875 \r\nL 4.890625 26.703125 \r\nz\r\n\" id=\"DejaVuSans-52\"/>\r\n      </defs>\r\n      <g transform=\"translate(7.2 88.234383)scale(0.1 -0.1)\">\r\n       <use xlink:href=\"#DejaVuSans-48\"/>\r\n       <use x=\"63.623047\" xlink:href=\"#DejaVuSans-46\"/>\r\n       <use x=\"95.410156\" xlink:href=\"#DejaVuSans-52\"/>\r\n      </g>\r\n     </g>\r\n    </g>\r\n    <g id=\"ytick_6\">\r\n     <g id=\"line2d_12\">\r\n      <g>\r\n       <use style=\"stroke:#000000;stroke-width:0.8;\" x=\"30.103125\" xlink:href=\"#m0ac80bd5e2\" y=\"51.854864\"/>\r\n      </g>\r\n     </g>\r\n     <g id=\"text_12\">\r\n      <!-- 0.5 -->\r\n      <g transform=\"translate(7.2 55.654083)scale(0.1 -0.1)\">\r\n       <use xlink:href=\"#DejaVuSans-48\"/>\r\n       <use x=\"63.623047\" xlink:href=\"#DejaVuSans-46\"/>\r\n       <use x=\"95.410156\" xlink:href=\"#DejaVuSans-53\"/>\r\n      </g>\r\n     </g>\r\n    </g>\r\n    <g id=\"ytick_7\">\r\n     <g id=\"line2d_13\">\r\n      <g>\r\n       <use style=\"stroke:#000000;stroke-width:0.8;\" x=\"30.103125\" xlink:href=\"#m0ac80bd5e2\" y=\"19.274564\"/>\r\n      </g>\r\n     </g>\r\n     <g id=\"text_13\">\r\n      <!-- 0.6 -->\r\n      <defs>\r\n       <path d=\"M 33.015625 40.375 \r\nQ 26.375 40.375 22.484375 35.828125 \r\nQ 18.609375 31.296875 18.609375 23.390625 \r\nQ 18.609375 15.53125 22.484375 10.953125 \r\nQ 26.375 6.390625 33.015625 6.390625 \r\nQ 39.65625 6.390625 43.53125 10.953125 \r\nQ 47.40625 15.53125 47.40625 23.390625 \r\nQ 47.40625 31.296875 43.53125 35.828125 \r\nQ 39.65625 40.375 33.015625 40.375 \r\nz\r\nM 52.59375 71.296875 \r\nL 52.59375 62.3125 \r\nQ 48.875 64.0625 45.09375 64.984375 \r\nQ 41.3125 65.921875 37.59375 65.921875 \r\nQ 27.828125 65.921875 22.671875 59.328125 \r\nQ 17.53125 52.734375 16.796875 39.40625 \r\nQ 19.671875 43.65625 24.015625 45.921875 \r\nQ 28.375 48.1875 33.59375 48.1875 \r\nQ 44.578125 48.1875 50.953125 41.515625 \r\nQ 57.328125 34.859375 57.328125 23.390625 \r\nQ 57.328125 12.15625 50.6875 5.359375 \r\nQ 44.046875 -1.421875 33.015625 -1.421875 \r\nQ 20.359375 -1.421875 13.671875 8.265625 \r\nQ 6.984375 17.96875 6.984375 36.375 \r\nQ 6.984375 53.65625 15.1875 63.9375 \r\nQ 23.390625 74.21875 37.203125 74.21875 \r\nQ 40.921875 74.21875 44.703125 73.484375 \r\nQ 48.484375 72.75 52.59375 71.296875 \r\nz\r\n\" id=\"DejaVuSans-54\"/>\r\n      </defs>\r\n      <g transform=\"translate(7.2 23.073783)scale(0.1 -0.1)\">\r\n       <use xlink:href=\"#DejaVuSans-48\"/>\r\n       <use x=\"63.623047\" xlink:href=\"#DejaVuSans-46\"/>\r\n       <use x=\"95.410156\" xlink:href=\"#DejaVuSans-54\"/>\r\n      </g>\r\n     </g>\r\n    </g>\r\n   </g>\r\n   <g id=\"line2d_14\">\r\n    <path clip-path=\"url(#p144cfb4414)\" d=\"M 45.321307 214.756364 \r\nL 45.33276 207.114904 \r\nL 45.424384 214.756364 \r\nL 45.939769 214.756364 \r\nL 45.951222 214.409387 \r\nL 46.042846 214.756364 \r\nL 46.157376 214.756364 \r\nL 46.168829 214.474008 \r\nL 46.260453 214.756364 \r\nL 46.283359 214.756364 \r\nL 46.294812 214.299116 \r\nL 46.386436 214.756364 \r\nL 46.878916 214.756364 \r\nL 47.004899 209.168211 \r\nL 47.016352 212.07754 \r\nL 47.130882 214.756364 \r\nL 47.1996 214.756364 \r\nL 47.256865 213.617623 \r\nL 47.302677 214.613634 \r\nL 47.417207 214.756364 \r\nL 47.554643 214.756364 \r\nL 47.566096 214.58179 \r\nL 47.65772 214.756364 \r\nL 47.669173 214.756364 \r\nL 47.680626 214.040884 \r\nL 47.77225 214.756364 \r\nL 47.783703 214.756364 \r\nL 47.795156 213.436281 \r\nL 47.88678 214.459522 \r\nL 48.00131 214.756364 \r\nL 48.012763 214.756364 \r\nL 48.035669 214.387844 \r\nL 48.11584 214.756364 \r\nL 48.127293 214.668008 \r\nL 48.138746 212.385074 \r\nL 48.161652 214.756364 \r\nL 48.23037 214.756364 \r\nL 48.241823 214.756364 \r\nL 48.299088 214.433271 \r\nL 48.3449 214.756364 \r\nL 48.699944 214.756364 \r\nL 48.711397 214.340944 \r\nL 48.803021 214.756364 \r\nL 48.95191 214.756364 \r\nL 48.963363 213.608324 \r\nL 49.054987 214.756364 \r\nL 49.089346 214.756364 \r\nL 49.100799 214.299116 \r\nL 49.192423 214.756364 \r\nL 49.238235 214.756364 \r\nL 49.341312 213.868761 \r\nL 49.352765 214.056622 \r\nL 49.444389 214.756364 \r\nL 49.467295 214.748333 \r\nL 49.661996 214.756364 \r\nL 49.742167 214.756364 \r\nL 49.75362 212.073394 \r\nL 49.845244 214.756364 \r\nL 49.925415 214.756364 \r\nL 49.936868 213.919075 \r\nL 50.028492 214.756364 \r\nL 50.131569 214.756364 \r\nL 50.154475 213.359776 \r\nL 50.234646 214.756364 \r\nL 50.337723 214.756364 \r\nL 50.394989 213.812853 \r\nL 50.440801 214.736637 \r\nL 50.509519 214.666686 \r\nL 50.543878 214.756364 \r\nL 50.658408 213.796167 \r\nL 50.750032 213.443425 \r\nL 50.772938 214.756364 \r\nL 50.81875 214.756364 \r\nL 50.921827 213.443425 \r\nL 50.93328 214.440099 \r\nL 50.956186 214.268341 \r\nL 51.04781 214.756364 \r\nL 51.059263 214.756364 \r\nL 51.150887 213.343555 \r\nL 51.16234 214.165391 \r\nL 51.265417 214.756364 \r\nL 51.185246 213.573187 \r\nL 51.27687 214.488512 \r\nL 51.357041 214.756364 \r\nL 51.334135 213.646065 \r\nL 51.368494 214.726471 \r\nL 51.425759 213.501928 \r\nL 51.414306 214.756364 \r\nL 51.471571 214.756364 \r\nL 51.494477 214.756364 \r\nL 51.50593 214.202168 \r\nL 51.597554 214.756364 \r\nL 51.700631 214.756364 \r\nL 51.712084 214.135628 \r\nL 51.815161 214.283434 \r\nL 51.883879 213.300274 \r\nL 51.929691 214.756364 \r\nL 51.941144 214.756364 \r\nL 51.998409 213.919075 \r\nL 52.044221 214.299116 \r\nL 52.067127 213.456569 \r\nL 52.158751 214.756364 \r\nL 52.204563 213.659884 \r\nL 52.261828 214.619079 \r\nL 52.330547 214.756364 \r\nL 52.342 211.712754 \r\nL 52.433624 213.894558 \r\nL 52.479436 213.069158 \r\nL 52.513795 214.756364 \r\nL 52.525248 211.055107 \r\nL 52.616872 214.59175 \r\nL 52.731402 214.756364 \r\nL 52.754308 214.756364 \r\nL 52.857385 214.394069 \r\nL 52.971915 214.756364 \r\nL 53.166616 214.756364 \r\nL 53.246787 213.709472 \r\nL 53.269693 214.756364 \r\nL 53.407129 214.756364 \r\nL 53.498753 213.872045 \r\nL 53.510206 214.328932 \r\nL 53.60183 213.679649 \r\nL 53.624736 214.756364 \r\nL 53.670548 214.756364 \r\nL 53.682001 214.259644 \r\nL 53.773625 214.756364 \r\nL 54.037044 214.756364 \r\nL 54.048497 214.229541 \r\nL 54.140121 214.756364 \r\nL 54.266105 214.756364 \r\nL 54.277558 214.15234 \r\nL 54.369182 214.717511 \r\nL 54.449353 214.642872 \r\nL 54.495165 214.756364 \r\nL 54.575336 214.535489 \r\nL 54.598242 214.756364 \r\nL 54.655507 214.756364 \r\nL 54.66696 213.091777 \r\nL 54.758584 214.756364 \r\nL 54.78149 214.756364 \r\nL 54.792943 214.220775 \r\nL 54.89602 214.532649 \r\nL 54.918926 214.756364 \r\nL 54.953285 213.865663 \r\nL 55.022003 214.756364 \r\nL 55.12508 214.756364 \r\nL 55.182345 214.013694 \r\nL 55.228157 214.756364 \r\nL 55.319781 214.220775 \r\nL 55.342687 214.756364 \r\nL 55.491576 214.756364 \r\nL 55.503029 213.279593 \r\nL 55.594653 214.756364 \r\nL 55.651918 214.756364 \r\nL 55.766448 214.340944 \r\nL 55.858072 214.756364 \r\nL 55.869525 214.732309 \r\nL 55.880978 213.830028 \r\nL 55.892431 214.756364 \r\nL 55.972602 214.756364 \r\nL 55.995508 214.615217 \r\nL 56.07568 214.756364 \r\nL 56.087133 214.756364 \r\nL 56.19021 214.396825 \r\nL 56.30474 214.756364 \r\nL 56.430723 214.756364 \r\nL 56.453629 212.318718 \r\nL 56.5338 214.756364 \r\nL 56.556706 214.742166 \r\nL 56.613971 213.830028 \r\nL 56.579612 214.756364 \r\nL 56.659783 214.756364 \r\nL 56.705595 214.756364 \r\nL 56.739954 213.794742 \r\nL 56.808672 214.756364 \r\nL 56.820125 214.738796 \r\nL 56.831578 214.756364 \r\nL 56.843031 214.29304 \r\nL 56.934655 214.756364 \r\nL 57.129356 214.756364 \r\nL 57.140809 213.796167 \r\nL 57.232433 214.756364 \r\nL 57.243886 214.660372 \r\nL 57.33551 214.756364 \r\nL 57.427134 214.756364 \r\nL 57.438587 213.864272 \r\nL 57.530211 213.981618 \r\nL 57.644741 214.756364 \r\nL 57.713459 214.756364 \r\nL 57.724912 213.830028 \r\nL 57.816536 214.756364 \r\nL 58.160127 214.693422 \r\nL 58.17158 214.756364 \r\nL 58.183033 214.078166 \r\nL 58.28611 214.484075 \r\nL 58.40064 214.756364 \r\nL 58.503717 212.131369 \r\nL 58.51517 214.660646 \r\nL 58.538076 214.306095 \r\nL 58.595341 214.756364 \r\nL 58.709871 212.113415 \r\nL 58.824401 214.756364 \r\nL 58.85876 214.756364 \r\nL 58.961837 213.781343 \r\nL 59.076367 214.756364 \r\nL 59.110726 214.756364 \r\nL 59.122179 210.003298 \r\nL 59.213803 214.756364 \r\nL 59.248162 214.756364 \r\nL 59.259615 213.994826 \r\nL 59.351239 214.756364 \r\nL 59.500128 214.756364 \r\nL 59.534487 214.107418 \r\nL 59.603205 214.756364 \r\nL 59.763547 214.756364 \r\nL 59.797906 213.396531 \r\nL 59.866625 214.756364 \r\nL 60.026967 214.756364 \r\nL 60.061326 212.816026 \r\nL 60.130044 214.756364 \r\nL 60.141497 214.756364 \r\nL 60.175856 213.022161 \r\nL 60.244574 214.756364 \r\nL 60.38201 214.756364 \r\nL 60.393463 214.241255 \r\nL 60.485087 214.756364 \r\nL 60.542352 214.756364 \r\nL 60.553805 214.377758 \r\nL 60.576711 214.756364 \r\nL 60.588164 204.220943 \r\nL 60.679788 214.756364 \r\nL 60.771412 214.756364 \r\nL 60.805771 213.941692 \r\nL 60.874489 214.756364 \r\nL 60.920301 214.756364 \r\nL 60.95466 212.347733 \r\nL 61.023378 214.756364 \r\nL 61.229532 214.756364 \r\nL 61.240985 214.40938 \r\nL 61.332609 214.756364 \r\nL 61.722012 214.756364 \r\nL 61.733465 214.631432 \r\nL 61.825089 214.756364 \r\nL 62.031243 214.756364 \r\nL 62.088508 213.963503 \r\nL 62.13432 214.756364 \r\nL 62.180132 214.715417 \r\nL 62.191585 212.912196 \r\nL 62.203038 214.756364 \r\nL 62.283209 214.756364 \r\nL 62.397739 214.745111 \r\nL 62.409192 213.489449 \r\nL 62.432098 214.756364 \r\nL 62.500816 214.756364 \r\nL 62.615346 214.756364 \r\nL 62.729876 214.756364 \r\nL 62.741329 214.631432 \r\nL 62.844406 214.715647 \r\nL 62.901671 214.756364 \r\nL 62.913124 213.642189 \r\nL 63.004748 214.756364 \r\nL 63.084919 214.756364 \r\nL 63.096372 214.429568 \r\nL 63.187996 214.756364 \r\nL 63.245261 214.756364 \r\nL 63.313979 213.275757 \r\nL 63.348338 214.756364 \r\nL 63.359791 214.756364 \r\nL 63.371244 214.624125 \r\nL 63.462868 214.756364 \r\nL 63.485774 214.756364 \r\nL 63.554492 208.522932 \r\nL 63.588852 214.756364 \r\nL 63.600305 214.756364 \r\nL 63.611758 214.327019 \r\nL 63.703382 214.756364 \r\nL 63.852271 214.756364 \r\nL 63.943895 214.428974 \r\nL 63.955348 214.756364 \r\nL 63.978254 214.418542 \r\nL 63.989707 211.649887 \r\nL 64.012613 214.756364 \r\nL 64.081331 214.756364 \r\nL 64.138596 214.756364 \r\nL 64.150049 214.504844 \r\nL 64.241673 214.756364 \r\nL 64.45928 214.756364 \r\nL 64.470733 213.979945 \r\nL 64.562357 214.756364 \r\nL 64.608169 214.756364 \r\nL 64.619622 214.299116 \r\nL 64.711246 214.756364 \r\nL 64.757058 214.735189 \r\nL 64.791417 214.756364 \r\nL 64.80287 213.468256 \r\nL 64.894494 214.756364 \r\nL 64.940306 214.756364 \r\nL 64.963212 214.579653 \r\nL 65.043383 214.756364 \r\nL 65.066289 214.756364 \r\nL 65.077742 213.974386 \r\nL 65.169366 214.756364 \r\nL 65.283896 214.756364 \r\nL 65.467144 214.756364 \r\nL 65.478598 214.343214 \r\nL 65.570222 214.756364 \r\nL 65.593128 214.680245 \r\nL 65.616034 212.447799 \r\nL 65.627487 214.756364 \r\nL 65.696205 214.756364 \r\nL 65.776376 214.756364 \r\nL 65.787829 214.326209 \r\nL 65.879453 214.756364 \r\nL 65.971077 214.756364 \r\nL 65.98253 213.891527 \r\nL 66.074154 214.756364 \r\nL 66.085607 214.756364 \r\nL 66.09706 214.306237 \r\nL 66.188684 214.756364 \r\nL 66.257402 214.756364 \r\nL 66.268855 214.36215 \r\nL 66.360479 214.756364 \r\nL 66.612445 214.756364 \r\nL 66.623898 214.083791 \r\nL 66.715522 214.756364 \r\nL 66.807146 214.756364 \r\nL 66.818599 213.830028 \r\nL 66.910223 214.756364 \r\nL 67.0133 214.756364 \r\nL 67.024753 214.341022 \r\nL 67.116377 214.756364 \r\nL 67.173642 214.756364 \r\nL 67.185095 212.484423 \r\nL 67.276719 214.756364 \r\nL 67.345437 214.756364 \r\nL 67.437062 212.679036 \r\nL 67.448515 214.756364 \r\nL 67.837917 214.756364 \r\nL 67.84937 213.685187 \r\nL 67.940994 214.756364 \r\nL 68.044071 214.505836 \r\nL 68.112789 214.317357 \r\nL 68.07843 214.756364 \r\nL 68.135695 214.756364 \r\nL 68.170054 214.756364 \r\nL 68.181507 214.299116 \r\nL 68.273131 214.756364 \r\nL 68.42202 214.756364 \r\nL 68.513644 213.37474 \r\nL 68.53655 214.340944 \r\nL 68.628174 214.756364 \r\nL 68.639627 213.796167 \r\nL 68.731251 214.756364 \r\nL 68.88014 214.756364 \r\nL 68.891593 213.830028 \r\nL 68.983217 214.756364 \r\nL 69.006123 214.756364 \r\nL 69.1092 214.537612 \r\nL 69.200824 214.756364 \r\nL 69.166465 214.286121 \r\nL 69.22373 214.686804 \r\nL 69.292449 214.19315 \r\nL 69.25809 214.756364 \r\nL 69.326808 214.317357 \r\nL 69.384073 213.317023 \r\nL 69.441338 214.756364 \r\nL 69.475697 214.756364 \r\nL 69.555868 212.396272 \r\nL 69.578774 214.756364 \r\nL 69.624586 214.756364 \r\nL 69.681851 213.638521 \r\nL 69.739116 214.119045 \r\nL 69.807834 214.756364 \r\nL 69.842193 214.191656 \r\nL 69.865099 213.998743 \r\nL 69.94527 212.653062 \r\nL 69.910911 214.756364 \r\nL 69.979629 213.638521 \r\nL 70.071253 214.756364 \r\nL 70.002535 213.440849 \r\nL 70.094159 214.661302 \r\nL 70.162877 213.306166 \r\nL 70.117065 214.756364 \r\nL 70.208689 214.187249 \r\nL 70.231595 214.756364 \r\nL 70.254501 214.006796 \r\nL 70.265954 210.948597 \r\nL 70.311766 214.489668 \r\nL 70.357578 213.998743 \r\nL 70.391937 214.497311 \r\nL 70.414843 213.655321 \r\nL 70.495014 214.756364 \r\nL 70.563732 213.757266 \r\nL 70.609544 214.227937 \r\nL 70.63245 211.489706 \r\nL 70.712621 214.756364 \r\nL 70.74698 211.565596 \r\nL 70.827151 214.306055 \r\nL 70.895869 212.552638 \r\nL 70.86151 214.756364 \r\nL 70.918775 214.550046 \r\nL 70.930228 214.756364 \r\nL 70.953134 213.314964 \r\nL 70.964587 214.047415 \r\nL 70.97604 212.554279 \r\nL 71.010399 214.756364 \r\nL 71.067664 214.267828 \r\nL 71.159289 214.756364 \r\nL 71.136383 213.934574 \r\nL 71.170742 214.342051 \r\nL 71.182195 208.94459 \r\nL 71.262366 214.655916 \r\nL 71.273819 213.834409 \r\nL 71.331084 212.930071 \r\nL 71.399802 214.756364 \r\nL 71.411255 213.629198 \r\nL 71.502879 214.756364 \r\nL 71.514332 214.756364 \r\nL 71.525785 213.632973 \r\nL 71.617409 214.756364 \r\nL 71.628862 214.756364 \r\nL 71.663221 212.875207 \r\nL 71.731939 214.756364 \r\nL 71.835016 214.756364 \r\nL 71.857922 209.639546 \r\nL 71.938093 214.756364 \r\nL 71.960999 214.756364 \r\nL 71.972452 213.780634 \r\nL 72.075529 214.104286 \r\nL 72.121341 213.864884 \r\nL 72.132794 214.572559 \r\nL 72.144247 211.712093 \r\nL 72.178606 214.756364 \r\nL 72.235871 214.756364 \r\nL 72.361854 214.756364 \r\nL 72.373307 214.575989 \r\nL 72.464931 214.756364 \r\nL 72.476384 214.756364 \r\nL 72.579461 211.981404 \r\nL 72.590914 212.802452 \r\nL 72.671085 214.756364 \r\nL 72.705444 214.092863 \r\nL 72.751256 214.756364 \r\nL 72.785615 213.373247 \r\nL 72.808521 213.749484 \r\nL 72.819974 213.557547 \r\nL 72.900145 197.547479 \r\nL 72.911598 214.756364 \r\nL 72.923051 214.756364 \r\nL 73.037582 212.866484 \r\nL 73.071941 203.470452 \r\nL 73.140659 214.756364 \r\nL 73.22083 189.483436 \r\nL 73.255189 213.373247 \r\nL 73.266642 212.777769 \r\nL 73.301001 214.756364 \r\nL 73.346813 214.177152 \r\nL 73.369719 214.756364 \r\nL 73.381172 213.874082 \r\nL 73.438437 209.237128 \r\nL 73.426984 214.756364 \r\nL 73.484249 214.470016 \r\nL 73.530061 213.119238 \r\nL 73.518608 214.735189 \r\nL 73.587326 214.289548 \r\nL 73.633138 213.263483 \r\nL 73.713309 214.756364 \r\nL 73.736215 213.278911 \r\nL 73.782027 214.58956 \r\nL 73.79348 180.819611 \r\nL 73.816386 214.756364 \r\nL 73.885104 212.531604 \r\nL 73.919463 214.756364 \r\nL 73.930916 211.179069 \r\nL 73.999634 214.535925 \r\nL 74.091258 214.756364 \r\nL 74.194335 212.613291 \r\nL 74.217241 213.44553 \r\nL 74.228694 202.750235 \r\nL 74.320318 214.756364 \r\nL 74.377583 214.756364 \r\nL 74.400489 206.478031 \r\nL 74.492113 211.869811 \r\nL 74.572284 214.756364 \r\nL 74.606643 214.70614 \r\nL 74.629549 214.756364 \r\nL 74.70972 213.516023 \r\nL 74.744079 214.165873 \r\nL 74.801344 211.532026 \r\nL 74.847156 214.756364 \r\nL 74.892968 213.356054 \r\nL 74.961687 214.597201 \r\nL 75.053311 214.404145 \r\nL 75.076217 214.756364 \r\nL 75.099123 214.756364 \r\nL 75.167841 194.02317 \r\nL 75.2022 214.756364 \r\nL 75.213653 214.738315 \r\nL 75.225106 214.756364 \r\nL 75.351089 208.553626 \r\nL 75.362542 214.668699 \r\nL 75.385448 213.516023 \r\nL 75.396901 171.987985 \r\nL 75.419807 214.756364 \r\nL 75.488525 214.756364 \r\nL 75.511431 214.756364 \r\nL 75.522884 214.490101 \r\nL 75.54579 214.756364 \r\nL 75.591602 208.11446 \r\nL 75.648867 214.680574 \r\nL 75.66032 214.756364 \r\nL 75.671773 214.591266 \r\nL 75.706132 211.678952 \r\nL 75.694679 214.756364 \r\nL 75.786303 213.52285 \r\nL 75.809209 209.590718 \r\nL 75.88938 214.756364 \r\nL 75.900833 212.172204 \r\nL 75.992457 214.756364 \r\nL 76.061175 212.518085 \r\nL 76.106987 214.426079 \r\nL 76.187158 214.756364 \r\nL 76.198611 212.372221 \r\nL 76.290235 214.756364 \r\nL 76.313141 214.756364 \r\nL 76.324594 199.35564 \r\nL 76.416218 212.33828 \r\nL 76.530748 214.756364 \r\nL 76.565107 214.756364 \r\nL 76.633825 210.723949 \r\nL 76.679637 211.366058 \r\nL 76.725449 214.756364 \r\nL 76.794168 213.308916 \r\nL 76.897245 214.756364 \r\nL 76.862886 212.561548 \r\nL 76.908698 214.660721 \r\nL 76.943057 214.756364 \r\nL 76.977416 212.222671 \r\nL 77.046134 212.559946 \r\nL 77.080493 212.330001 \r\nL 77.160664 214.756364 \r\nL 77.195023 214.756364 \r\nL 77.309553 213.570383 \r\nL 77.355365 212.826255 \r\nL 77.424083 214.756364 \r\nL 77.481348 209.226612 \r\nL 77.52716 214.756364 \r\nL 77.538613 214.756364 \r\nL 77.572972 212.576831 \r\nL 77.653143 213.807297 \r\nL 77.710408 212.178427 \r\nL 77.767673 214.756364 \r\nL 77.882203 208.631716 \r\nL 77.996733 214.756364 \r\nL 78.076904 212.583637 \r\nL 78.111263 213.390664 \r\nL 78.168528 214.756364 \r\nL 78.145622 208.933111 \r\nL 78.179981 214.377178 \r\nL 78.191434 209.534911 \r\nL 78.260152 214.756364 \r\nL 78.283058 214.691294 \r\nL 78.294511 214.756364 \r\nL 78.340323 194.985714 \r\nL 78.386135 214.756364 \r\nL 78.397588 159.137739 \r\nL 78.489212 214.756364 \r\nL 78.535024 210.677547 \r\nL 78.592289 214.566218 \r\nL 78.615195 214.756364 \r\nL 78.626648 213.429362 \r\nL 78.729726 214.118522 \r\nL 78.775538 214.756364 \r\nL 78.786991 212.493708 \r\nL 78.809897 214.203376 \r\nL 78.82135 210.782565 \r\nL 78.832803 214.756364 \r\nL 78.912974 214.756364 \r\nL 78.93588 214.756364 \r\nL 78.947333 209.012989 \r\nL 79.038957 214.756364 \r\nL 79.05041 214.756364 \r\nL 79.084769 211.606644 \r\nL 79.16494 214.022929 \r\nL 79.245111 213.4512 \r\nL 79.268017 214.756364 \r\nL 79.325282 211.865268 \r\nL 79.371094 214.756364 \r\nL 79.382547 214.756364 \r\nL 79.405453 212.64589 \r\nL 79.485624 214.756364 \r\nL 79.497077 214.756364 \r\nL 79.600154 213.703907 \r\nL 79.645966 214.756364 \r\nL 79.634513 209.290241 \r\nL 79.680325 213.406897 \r\nL 79.691778 210.599818 \r\nL 79.703231 214.756364 \r\nL 79.783402 213.26821 \r\nL 79.897932 214.756364 \r\nL 79.909385 210.704132 \r\nL 80.012462 212.954347 \r\nL 80.069727 207.115408 \r\nL 80.092633 214.756364 \r\nL 80.104086 209.543934 \r\nL 80.19571 214.709822 \r\nL 80.218616 214.029139 \r\nL 80.230069 214.756364 \r\nL 80.241522 214.536111 \r\nL 80.252975 206.470466 \r\nL 80.264428 214.756364 \r\nL 80.344599 212.869952 \r\nL 80.378958 214.525994 \r\nL 80.390411 214.250543 \r\nL 80.401864 207.746331 \r\nL 80.413317 214.756364 \r\nL 80.493488 214.536111 \r\nL 80.527847 213.87116 \r\nL 80.57366 214.756364 \r\nL 80.608019 210.091262 \r\nL 80.676737 214.756364 \r\nL 80.68819 214.756364 \r\nL 80.745455 214.465622 \r\nL 80.756908 196.821648 \r\nL 80.814173 214.756364 \r\nL 80.848532 214.038366 \r\nL 80.859985 214.71292 \r\nL 80.871438 202.147643 \r\nL 80.91725 214.756364 \r\nL 80.963062 214.756364 \r\nL 80.974515 214.728563 \r\nL 81.03178 213.271171 \r\nL 81.008874 214.756364 \r\nL 81.077592 214.756364 \r\nL 81.123404 214.756364 \r\nL 81.26084 212.330638 \r\nL 81.363917 214.756364 \r\nL 81.37537 214.394069 \r\nL 81.455541 203.415946 \r\nL 81.409729 214.756364 \r\nL 81.4899 204.458039 \r\nL 81.592977 214.756364 \r\nL 81.60443 214.466637 \r\nL 81.627336 214.107101 \r\nL 81.650242 214.756364 \r\nL 81.741866 207.81433 \r\nL 81.764772 211.894383 \r\nL 81.879302 214.756364 \r\nL 81.902208 214.756364 \r\nL 82.016738 208.511289 \r\nL 82.131268 214.756364 \r\nL 82.154174 214.756364 \r\nL 82.280157 212.46271 \r\nL 82.314516 214.756364 \r\nL 82.325969 214.378366 \r\nL 82.337422 207.923624 \r\nL 82.360328 214.756364 \r\nL 82.429046 214.311061 \r\nL 82.474859 214.756364 \r\nL 82.520671 213.774505 \r\nL 82.600842 213.230492 \r\nL 82.635201 214.756364 \r\nL 82.658107 214.756364 \r\nL 82.681013 212.567488 \r\nL 82.749731 214.756364 \r\nL 82.772637 183.476909 \r\nL 82.852808 214.357733 \r\nL 82.864261 214.347193 \r\nL 82.921526 213.832019 \r\nL 82.955885 214.756364 \r\nL 82.967338 214.024203 \r\nL 83.058962 214.756364 \r\nL 83.104774 214.756364 \r\nL 83.173492 209.991474 \r\nL 83.219304 214.456853 \r\nL 83.253663 214.37544 \r\nL 83.333834 214.756364 \r\nL 83.379646 214.445666 \r\nL 83.402552 214.756364 \r\nL 83.414005 180.743865 \r\nL 83.505629 214.672962 \r\nL 83.539988 214.756364 \r\nL 83.643065 195.842932 \r\nL 83.654518 213.123981 \r\nL 83.769048 214.756364 \r\nL 83.780501 214.756364 \r\nL 83.791954 214.58956 \r\nL 83.803407 212.376536 \r\nL 83.81486 214.756364 \r\nL 83.895031 214.546334 \r\nL 83.940843 212.16275 \r\nL 83.986655 214.756364 \r\nL 83.998108 214.756364 \r\nL 84.009561 214.756364 \r\nL 84.021014 211.603067 \r\nL 84.112638 214.14925 \r\nL 84.135544 209.545087 \r\nL 84.215715 214.756364 \r\nL 84.227168 214.162367 \r\nL 84.330245 214.386201 \r\nL 84.353152 214.756364 \r\nL 84.364605 212.772491 \r\nL 84.467682 213.89326 \r\nL 84.479135 214.565302 \r\nL 84.502041 214.542054 \r\nL 84.513494 209.027814 \r\nL 84.593665 214.756364 \r\nL 84.605118 214.756364 \r\nL 84.696742 209.874531 \r\nL 84.708195 205.754858 \r\nL 84.776913 214.559016 \r\nL 84.788366 211.987744 \r\nL 84.87999 214.756364 \r\nL 84.811272 210.249548 \r\nL 84.902896 214.361913 \r\nL 84.925802 214.756364 \r\nL 85.028879 199.230909 \r\nL 85.120503 214.756364 \r\nL 85.143409 214.499661 \r\nL 85.154862 214.470622 \r\nL 85.166315 214.702339 \r\nL 85.257939 206.294243 \r\nL 85.189221 214.756364 \r\nL 85.269392 214.756364 \r\nL 85.361016 210.233984 \r\nL 85.372469 214.140289 \r\nL 85.406828 214.756364 \r\nL 85.395375 213.208739 \r\nL 85.429734 214.755489 \r\nL 85.441187 210.934277 \r\nL 85.45264 214.756364 \r\nL 85.532811 214.756364 \r\nL 85.544264 214.742166 \r\nL 85.578623 214.756364 \r\nL 85.670247 214.098581 \r\nL 85.761871 214.756364 \r\nL 85.773324 210.725292 \r\nL 85.864948 213.14652 \r\nL 85.968025 214.756364 \r\nL 85.899307 207.107068 \r\nL 85.979478 214.631432 \r\nL 85.990931 214.756364 \r\nL 86.013837 214.421469 \r\nL 86.02529 210.024459 \r\nL 86.048196 214.756364 \r\nL 86.116914 214.756364 \r\nL 86.128367 213.665224 \r\nL 86.219992 214.49283 \r\nL 86.28871 214.756364 \r\nL 86.300163 214.389936 \r\nL 86.334522 187.752515 \r\nL 86.368881 214.756364 \r\nL 86.40324 214.756364 \r\nL 86.426146 214.680245 \r\nL 86.51777 164.789879 \r\nL 86.540676 194.03125 \r\nL 86.643753 214.756364 \r\nL 86.655206 214.726471 \r\nL 86.758283 211.423501 \r\nL 86.678112 214.756364 \r\nL 86.769736 214.418542 \r\nL 86.781189 214.418542 \r\nL 86.884266 213.581836 \r\nL 86.838454 214.756364 \r\nL 86.895719 214.148515 \r\nL 86.97589 214.756364 \r\nL 86.987343 213.015994 \r\nL 87.078967 214.756364 \r\nL 87.101873 210.824121 \r\nL 87.147685 214.028333 \r\nL 87.159138 208.319063 \r\nL 87.239309 214.756364 \r\nL 87.250762 214.058612 \r\nL 87.273668 214.756364 \r\nL 87.31948 214.348511 \r\nL 87.330933 193.014509 \r\nL 87.376745 214.746862 \r\nL 87.422557 214.572363 \r\nL 87.43401 212.946784 \r\nL 87.445463 214.756364 \r\nL 87.525634 214.756364 \r\nL 87.582899 214.756364 \r\nL 87.651617 213.533095 \r\nL 87.685976 214.756364 \r\nL 87.697429 214.75527 \r\nL 87.743241 214.756364 \r\nL 87.811959 211.003701 \r\nL 87.846318 190.657937 \r\nL 87.926489 214.756364 \r\nL 87.937942 214.756364 \r\nL 87.960848 199.250021 \r\nL 88.041019 214.559016 \r\nL 88.098284 214.075485 \r\nL 88.109738 214.756364 \r\nL 88.121191 206.001678 \r\nL 88.212815 214.756364 \r\nL 88.235721 214.756364 \r\nL 88.258627 209.780574 \r\nL 88.338798 213.668584 \r\nL 88.418969 211.898364 \r\nL 88.430422 214.756364 \r\nL 88.49914 195.635562 \r\nL 88.544952 204.919513 \r\nL 88.670935 214.756364 \r\nL 88.693841 214.756364 \r\nL 88.774012 212.961491 \r\nL 88.808371 214.600954 \r\nL 88.888542 214.756364 \r\nL 88.899995 214.717511 \r\nL 88.991619 209.361299 \r\nL 88.922901 214.756364 \r\nL 89.003072 214.756364 \r\nL 89.129055 214.756364 \r\nL 89.220679 211.446074 \r\nL 89.277944 179.665571 \r\nL 89.255038 214.756364 \r\nL 89.323756 214.011242 \r\nL 89.392474 213.505728 \r\nL 89.438286 214.756364 \r\nL 89.449739 213.621198 \r\nL 89.541363 214.756364 \r\nL 89.575722 214.756364 \r\nL 89.621534 205.664084 \r\nL 89.690252 213.458283 \r\nL 89.747517 212.369107 \r\nL 89.770423 214.756364 \r\nL 89.862047 205.750377 \r\nL 89.884953 207.151939 \r\nL 89.942218 214.756364 \r\nL 90.010937 214.70614 \r\nL 90.056749 214.756364 \r\nL 90.125467 211.57887 \r\nL 90.205638 214.756364 \r\nL 90.148373 209.809368 \r\nL 90.25145 214.735189 \r\nL 90.320168 214.756364 \r\nL 90.388886 214.052205 \r\nL 90.434698 214.219065 \r\nL 90.549228 214.756364 \r\nL 90.572134 212.785674 \r\nL 90.652305 213.687206 \r\nL 90.663758 214.735189 \r\nL 90.675211 211.087152 \r\nL 90.698117 214.335382 \r\nL 90.721023 205.306617 \r\nL 90.755382 214.756364 \r\nL 90.801194 214.756364 \r\nL 90.904271 209.512782 \r\nL 90.915724 213.683084 \r\nL 91.007348 214.756364 \r\nL 90.950083 211.898319 \r\nL 91.030254 214.49401 \r\nL 91.087519 212.621587 \r\nL 91.098972 214.756364 \r\nL 91.133331 214.756364 \r\nL 91.156237 213.659971 \r\nL 91.202049 214.756364 \r\nL 91.213502 209.796639 \r\nL 91.305126 214.45502 \r\nL 91.328032 214.756364 \r\nL 91.362391 214.718479 \r\nL 91.419656 208.812746 \r\nL 91.385297 214.756364 \r\nL 91.465468 214.597201 \r\nL 91.499827 214.481738 \r\nL 91.51128 214.756364 \r\nL 91.614357 194.986087 \r\nL 91.728887 214.756364 \r\nL 91.74034 214.672962 \r\nL 91.763246 211.096123 \r\nL 91.786152 214.756364 \r\nL 91.843417 214.342051 \r\nL 91.88923 213.147811 \r\nL 91.912136 214.756364 \r\nL 91.923589 212.860188 \r\nL 92.015213 214.756364 \r\nL 92.061025 212.989616 \r\nL 92.129743 213.981426 \r\nL 92.152649 213.18993 \r\nL 92.175555 214.756364 \r\nL 92.187008 208.960705 \r\nL 92.278632 214.756364 \r\nL 92.290085 214.756364 \r\nL 92.335897 211.959187 \r\nL 92.393162 213.979205 \r\nL 92.404615 214.672962 \r\nL 92.416068 182.750232 \r\nL 92.46188 214.756364 \r\nL 92.507692 214.756364 \r\nL 92.587863 212.554449 \r\nL 92.610769 214.756364 \r\nL 92.622222 214.756364 \r\nL 92.656581 214.392638 \r\nL 92.668034 214.756364 \r\nL 92.679487 210.867386 \r\nL 92.771111 214.306054 \r\nL 92.828376 214.756364 \r\nL 92.80547 213.532088 \r\nL 92.885641 214.47988 \r\nL 92.92 197.985259 \r\nL 92.908547 214.756364 \r\nL 92.988718 214.756364 \r\nL 93.000171 214.756364 \r\nL 93.091795 211.392708 \r\nL 93.103248 214.320816 \r\nL 93.126154 214.717511 \r\nL 93.14906 213.306166 \r\nL 93.160513 206.93737 \r\nL 93.217778 214.756364 \r\nL 93.252137 214.756364 \r\nL 93.320855 212.705498 \r\nL 93.366667 214.353083 \r\nL 93.37812 214.756364 \r\nL 93.412479 214.024203 \r\nL 93.423932 211.870291 \r\nL 93.446838 214.756364 \r\nL 93.515556 214.756364 \r\nL 93.538462 214.756364 \r\nL 93.549915 212.287489 \r\nL 93.641539 213.921001 \r\nL 93.698804 214.756364 \r\nL 93.710257 213.910802 \r\nL 93.72171 214.354229 \r\nL 93.756069 190.727267 \r\nL 93.778976 214.756364 \r\nL 93.824788 213.42392 \r\nL 93.847694 213.409923 \r\nL 93.859147 214.140582 \r\nL 93.8706 208.295148 \r\nL 93.950771 191.540724 \r\nL 93.904959 214.756364 \r\nL 93.973677 214.756364 \r\nL 94.053848 204.01896 \r\nL 94.088207 214.134018 \r\nL 94.156925 214.639795 \r\nL 94.134019 213.245381 \r\nL 94.168378 214.004178 \r\nL 94.179831 213.484096 \r\nL 94.237096 214.756364 \r\nL 94.260002 214.756364 \r\nL 94.305814 214.756364 \r\nL 94.408891 213.638996 \r\nL 94.500515 214.756364 \r\nL 94.431797 210.924303 \r\nL 94.523421 214.559795 \r\nL 94.580686 210.745211 \r\nL 94.546327 214.756364 \r\nL 94.626498 214.141733 \r\nL 94.637951 214.12149 \r\nL 94.718122 208.303569 \r\nL 94.660857 214.756364 \r\nL 94.752481 212.81263 \r\nL 94.821199 214.756364 \r\nL 94.867011 213.997785 \r\nL 94.924276 214.756364 \r\nL 94.935729 212.289977 \r\nL 94.970088 214.342051 \r\nL 95.050259 210.412882 \r\nL 95.061712 214.756364 \r\nL 95.073165 214.756364 \r\nL 95.084618 209.225749 \r\nL 95.176242 211.201214 \r\nL 95.267866 214.756364 \r\nL 95.210601 196.155109 \r\nL 95.279319 214.609595 \r\nL 95.313678 214.756364 \r\nL 95.405302 189.652029 \r\nL 95.508379 214.756364 \r\nL 95.428208 175.620957 \r\nL 95.519832 212.490977 \r\nL 95.600003 214.756364 \r\nL 95.611456 210.355324 \r\nL 95.634362 213.57176 \r\nL 95.714534 214.756364 \r\nL 95.668722 212.227797 \r\nL 95.748893 213.983007 \r\nL 95.794705 214.756364 \r\nL 95.829064 213.711826 \r\nL 95.85197 214.692905 \r\nL 95.886329 207.976939 \r\nL 95.909235 214.756364 \r\nL 95.955047 213.610324 \r\nL 96.069577 214.756364 \r\nL 96.08103 214.756364 \r\nL 96.103936 214.14925 \r\nL 96.19556 214.377621 \r\nL 96.229919 213.9052 \r\nL 96.264278 214.756364 \r\nL 96.275731 198.306805 \r\nL 96.367355 214.756364 \r\nL 96.447526 213.17687 \r\nL 96.458979 214.756364 \r\nL 96.470432 171.516448 \r\nL 96.562056 214.350544 \r\nL 96.607868 214.756364 \r\nL 96.630774 214.132505 \r\nL 96.688039 214.62109 \r\nL 96.756757 213.324672 \r\nL 96.722398 214.756364 \r\nL 96.779663 213.874082 \r\nL 96.802569 214.756364 \r\nL 96.814022 192.284163 \r\nL 96.905646 214.756364 \r\nL 96.962911 214.756364 \r\nL 96.985817 213.653208 \r\nL 97.065988 213.8051 \r\nL 97.077441 184.310695 \r\nL 97.088894 214.756364 \r\nL 97.169065 211.335051 \r\nL 97.272142 214.756364 \r\nL 97.283595 214.702339 \r\nL 97.352313 210.391894 \r\nL 97.317954 214.756364 \r\nL 97.398125 214.185935 \r\nL 97.466843 214.035664 \r\nL 97.478296 214.756364 \r\nL 97.489749 213.111203 \r\nL 97.581374 214.756364 \r\nL 97.615733 214.756364 \r\nL 97.684451 212.215921 \r\nL 97.730263 212.305332 \r\nL 97.83334 214.756364 \r\nL 97.844793 213.548205 \r\nL 97.94787 214.756364 \r\nL 97.879152 211.583961 \r\nL 97.970776 214.547057 \r\nL 97.993682 213.237202 \r\nL 98.050947 214.70614 \r\nL 98.0624 181.605053 \r\nL 98.108212 214.756364 \r\nL 98.154024 214.756364 \r\nL 98.188383 214.732292 \r\nL 98.199836 213.450987 \r\nL 98.245648 214.756364 \r\nL 98.302913 213.640814 \r\nL 98.337272 214.756364 \r\nL 98.325819 208.136246 \r\nL 98.383084 211.951191 \r\nL 98.394537 204.068113 \r\nL 98.474708 214.756364 \r\nL 98.486161 214.666176 \r\nL 98.509067 214.756364 \r\nL 98.52052 214.341362 \r\nL 98.543426 214.756364 \r\nL 98.612144 212.71855 \r\nL 98.715221 214.756364 \r\nL 98.726674 213.421882 \r\nL 98.795392 211.304113 \r\nL 98.841204 214.756364 \r\nL 98.86411 212.800645 \r\nL 98.944281 214.480904 \r\nL 98.97864 214.756364 \r\nL 98.967187 213.284087 \r\nL 99.001546 214.619833 \r\nL 99.070264 207.93028 \r\nL 99.024452 214.756364 \r\nL 99.104623 212.257204 \r\nL 99.2077 214.756364 \r\nL 99.138982 211.617122 \r\nL 99.219153 214.703617 \r\nL 99.253512 213.62122 \r\nL 99.242059 214.756364 \r\nL 99.333683 213.919075 \r\nL 99.436761 214.756364 \r\nL 99.368042 213.552173 \r\nL 99.448214 214.7338 \r\nL 99.539838 196.729904 \r\nL 99.47112 214.756364 \r\nL 99.551291 214.756364 \r\nL 99.642915 210.224578 \r\nL 99.654368 214.756364 \r\nL 99.665821 214.756364 \r\nL 99.723086 212.225309 \r\nL 99.780351 214.487997 \r\nL 99.803257 214.094735 \r\nL 99.81471 214.756364 \r\nL 99.92924 208.22023 \r\nL 100.04377 214.756364 \r\nL 100.055223 214.756364 \r\nL 100.101035 213.732916 \r\nL 100.112488 213.834409 \r\nL 100.123941 190.409119 \r\nL 100.135394 214.756364 \r\nL 100.215565 211.842326 \r\nL 100.318642 214.756364 \r\nL 100.330095 213.564007 \r\nL 100.398813 214.756364 \r\nL 100.444625 214.719038 \r\nL 100.513343 206.959564 \r\nL 100.478984 214.756364 \r\nL 100.547702 213.360624 \r\nL 100.662232 214.756364 \r\nL 100.593514 211.640829 \r\nL 100.673685 214.404432 \r\nL 100.685138 214.735189 \r\nL 100.696591 214.545034 \r\nL 100.708044 207.051811 \r\nL 100.765309 214.756364 \r\nL 100.799668 214.756364 \r\nL 100.834027 214.756364 \r\nL 100.937104 213.090949 \r\nL 100.948557 214.035664 \r\nL 101.005822 214.756364 \r\nL 100.971463 212.873919 \r\nL 101.040181 214.260213 \r\nL 101.108899 212.84381 \r\nL 101.063087 214.756364 \r\nL 101.143258 214.541818 \r\nL 101.18907 213.356011 \r\nL 101.257788 214.756364 \r\nL 101.292147 214.756364 \r\nL 101.3036 209.720303 \r\nL 101.406678 212.48414 \r\nL 101.45249 214.756364 \r\nL 101.509755 212.217437 \r\nL 101.521208 214.039977 \r\nL 101.589926 212.417414 \r\nL 101.601379 214.756364 \r\nL 101.612832 209.72533 \r\nL 101.704456 214.756364 \r\nL 101.727362 212.135411 \r\nL 101.830439 214.22495 \r\nL 101.887704 214.756364 \r\nL 101.899157 213.677736 \r\nL 101.922063 214.487838 \r\nL 101.944969 212.728346 \r\nL 101.956422 214.756364 \r\nL 102.02514 213.112702 \r\nL 102.128217 214.756364 \r\nL 102.105311 212.679418 \r\nL 102.13967 213.974676 \r\nL 102.151123 214.756364 \r\nL 102.162576 205.932533 \r\nL 102.2542 212.552197 \r\nL 102.36873 214.756364 \r\nL 102.380183 214.610979 \r\nL 102.403089 214.756364 \r\nL 102.425995 208.853328 \r\nL 102.506166 214.756364 \r\nL 102.529072 214.756364 \r\nL 102.574884 205.220075 \r\nL 102.632149 213.711495 \r\nL 102.71232 214.756364 \r\nL 102.746679 214.481452 \r\nL 102.838303 205.046291 \r\nL 102.803944 214.756364 \r\nL 102.849756 214.756364 \r\nL 102.929927 214.756364 \r\nL 102.94138 210.053889 \r\nL 103.033004 212.030951 \r\nL 103.05591 214.756364 \r\nL 103.147534 214.114829 \r\nL 103.181893 213.792945 \r\nL 103.262065 214.756364 \r\nL 103.273518 214.756364 \r\nL 103.399501 207.063424 \r\nL 103.410954 213.141276 \r\nL 103.445313 206.607076 \r\nL 103.525484 214.756364 \r\nL 103.536937 214.756364 \r\nL 103.617108 209.701276 \r\nL 103.651467 214.14925 \r\nL 103.754544 214.756364 \r\nL 103.720185 213.447599 \r\nL 103.765997 214.568185 \r\nL 103.77745 206.329911 \r\nL 103.811809 214.756364 \r\nL 103.869074 213.54419 \r\nL 103.983604 214.756364 \r\nL 103.937792 212.50597 \r\nL 104.00651 214.635082 \r\nL 104.029416 214.702339 \r\nL 104.040869 214.550046 \r\nL 104.063775 214.756364 \r\nL 104.155399 208.704645 \r\nL 104.23557 214.756364 \r\nL 104.178305 207.087439 \r\nL 104.269929 212.17699 \r\nL 104.3501 214.756364 \r\nL 104.373006 212.093216 \r\nL 104.384459 213.96275 \r\nL 104.395912 214.323473 \r\nL 104.407365 202.539955 \r\nL 104.418818 214.756364 \r\nL 104.498989 210.24037 \r\nL 104.602066 214.756364 \r\nL 104.613519 214.118522 \r\nL 104.624972 204.442148 \r\nL 104.659331 214.756364 \r\nL 104.716596 214.745322 \r\nL 104.728049 211.658884 \r\nL 104.750955 214.756364 \r\nL 104.831126 213.157531 \r\nL 104.911297 214.756364 \r\nL 104.945656 214.366459 \r\nL 105.060186 214.756364 \r\nL 105.083093 214.756364 \r\nL 105.18617 214.348257 \r\nL 105.197623 214.611227 \r\nL 105.231982 214.756364 \r\nL 105.243435 212.374983 \r\nL 105.335059 214.756364 \r\nL 105.369418 212.658007 \r\nL 105.449589 214.156825 \r\nL 105.541213 214.756364 \r\nL 105.483948 212.487295 \r\nL 105.552666 214.437311 \r\nL 105.64429 200.876594 \r\nL 105.575572 214.756364 \r\nL 105.667196 211.469749 \r\nL 105.781726 214.756364 \r\nL 105.804632 214.756364 \r\nL 105.816085 204.014961 \r\nL 105.907709 213.986094 \r\nL 105.930615 214.680245 \r\nL 105.942068 209.39064 \r\nL 105.976427 214.756364 \r\nL 106.033692 214.756364 \r\nL 106.148222 211.609981 \r\nL 106.239846 214.756364 \r\nL 106.262752 213.863341 \r\nL 106.388735 214.756364 \r\nL 106.468906 211.205321 \r\nL 106.491812 211.745779 \r\nL 106.537624 206.993971 \r\nL 106.606342 214.756364 \r\nL 106.709419 212.917664 \r\nL 106.823949 214.756364 \r\nL 106.927026 191.079697 \r\nL 106.938479 213.897385 \r\nL 106.972839 214.756364 \r\nL 106.984292 212.275343 \r\nL 106.995745 207.670828 \r\nL 107.05301 214.756364 \r\nL 107.087369 214.756364 \r\nL 107.144634 214.756364 \r\nL 107.201899 214.00283 \r\nL 107.259164 214.672968 \r\nL 107.270617 214.524267 \r\nL 107.28207 214.756364 \r\nL 107.362241 209.557256 \r\nL 107.385147 213.212162 \r\nL 107.488224 214.756364 \r\nL 107.51113 214.738796 \r\nL 107.522583 214.756364 \r\nL 107.534036 214.46988 \r\nL 107.545489 170.561196 \r\nL 107.62566 214.756364 \r\nL 107.637113 214.392638 \r\nL 107.728737 214.756364 \r\nL 107.682925 212.909624 \r\nL 107.751643 214.735189 \r\nL 107.763096 209.586732 \r\nL 107.808908 214.756364 \r\nL 107.85472 214.756364 \r\nL 107.934891 213.069775 \r\nL 107.957797 213.445682 \r\nL 108.026515 212.501445 \r\nL 108.037968 214.756364 \r\nL 108.049421 207.836237 \r\nL 108.141045 214.672962 \r\nL 108.152498 214.672962 \r\nL 108.163951 189.425812 \r\nL 108.255575 214.756364 \r\nL 108.289934 212.898866 \r\nL 108.358652 214.273078 \r\nL 108.404464 214.020687 \r\nL 108.473182 214.756364 \r\nL 108.496088 214.756364 \r\nL 108.587712 214.201184 \r\nL 108.599165 214.756364 \r\nL 108.679336 214.756364 \r\nL 108.690789 214.555468 \r\nL 108.702242 211.9414 \r\nL 108.736601 214.756364 \r\nL 108.793866 214.278555 \r\nL 108.896944 214.756364 \r\nL 108.862585 213.606432 \r\nL 108.908397 214.524267 \r\nL 108.954209 213.426479 \r\nL 108.942756 214.756364 \r\nL 109.011474 214.494725 \r\nL 109.03438 214.756364 \r\nL 109.045833 214.481948 \r\nL 109.057286 209.351948 \r\nL 109.091645 214.756364 \r\nL 109.14891 212.869165 \r\nL 109.240534 214.756364 \r\nL 109.183269 210.83666 \r\nL 109.26344 214.609595 \r\nL 109.274893 214.756364 \r\nL 109.332158 206.671125 \r\nL 109.37797 214.066657 \r\nL 109.458141 214.756364 \r\nL 109.481047 182.131464 \r\nL 109.561218 214.627482 \r\nL 109.60703 214.756364 \r\nL 109.629936 214.485817 \r\nL 109.675748 213.602065 \r\nL 109.664295 214.756364 \r\nL 109.72156 214.756364 \r\nL 109.744466 214.672968 \r\nL 109.755919 213.790121 \r\nL 109.767372 214.756364 \r\nL 109.847543 214.756364 \r\nL 109.858996 214.756364 \r\nL 109.870449 211.941384 \r\nL 109.962073 214.542343 \r\nL 110.007885 214.756364 \r\nL 110.06515 206.498522 \r\nL 110.168227 214.756364 \r\nL 110.225492 198.160237 \r\nL 110.271304 210.375549 \r\nL 110.385834 214.756364 \r\nL 110.397287 214.140582 \r\nL 110.431646 211.164047 \r\nL 110.466005 214.756364 \r\nL 110.580535 207.277883 \r\nL 110.614894 214.756364 \r\nL 110.695065 214.2732 \r\nL 110.729424 208.83476 \r\nL 110.717971 214.756364 \r\nL 110.798143 214.756364 \r\nL 110.821049 214.756364 \r\nL 110.832502 212.924257 \r\nL 110.924126 214.507177 \r\nL 110.947032 212.83172 \r\nL 110.958485 214.756364 \r\nL 110.969938 210.672523 \r\nL 111.073015 212.440404 \r\nL 111.095921 214.756364 \r\nL 111.118827 213.899853 \r\nL 111.13028 187.181002 \r\nL 111.187545 214.756364 \r\nL 111.221904 214.756364 \r\nL 111.233357 212.258679 \r\nL 111.324981 214.735189 \r\nL 111.347887 214.666176 \r\nL 111.370793 213.415601 \r\nL 111.382246 214.756364 \r\nL 111.462417 214.148899 \r\nL 111.519682 214.756364 \r\nL 111.531135 212.331334 \r\nL 111.5884 192.133298 \r\nL 111.634212 214.756364 \r\nL 111.657118 211.053265 \r\nL 111.737289 211.90721 \r\nL 111.840366 214.756364 \r\nL 111.851819 213.707644 \r\nL 111.863272 196.135439 \r\nL 111.920537 214.756364 \r\nL 111.954896 213.867088 \r\nL 111.989255 212.65878 \r\nL 112.000708 214.756364 \r\nL 112.057973 213.760686 \r\nL 112.115238 214.756364 \r\nL 112.126691 214.559016 \r\nL 112.149597 214.756364 \r\nL 112.241221 185.933422 \r\nL 112.355751 214.756364 \r\nL 112.367204 214.756364 \r\nL 112.470281 211.785054 \r\nL 112.50464 214.756364 \r\nL 112.516093 213.927973 \r\nL 112.527546 194.817856 \r\nL 112.573358 214.756364 \r\nL 112.61917 214.756364 \r\nL 112.642077 214.756364 \r\nL 112.745154 211.514977 \r\nL 112.836778 214.756364 \r\nL 112.813872 210.204752 \r\nL 112.859684 214.060401 \r\nL 112.905496 213.726558 \r\nL 112.916949 214.756364 \r\nL 112.928402 211.441427 \r\nL 113.020026 214.756364 \r\nL 113.031479 214.756364 \r\nL 113.054385 214.330692 \r\nL 113.100197 214.756364 \r\nL 113.157462 209.977743 \r\nL 113.180368 207.813341 \r\nL 113.271992 214.756364 \r\nL 113.283445 213.517136 \r\nL 113.294898 167.779118 \r\nL 113.375069 214.756364 \r\nL 113.386522 214.756364 \r\nL 113.397975 214.756364 \r\nL 113.45524 212.815708 \r\nL 113.501052 214.165865 \r\nL 113.512505 207.527846 \r\nL 113.558317 214.756364 \r\nL 113.604129 214.756364 \r\nL 113.615582 212.430899 \r\nL 113.718659 213.261605 \r\nL 113.79883 214.70614 \r\nL 113.787377 212.893936 \r\nL 113.821736 214.118522 \r\nL 113.833189 192.850498 \r\nL 113.844642 214.756364 \r\nL 113.924813 214.756364 \r\nL 113.959172 213.605442 \r\nL 114.050796 213.937762 \r\nL 114.14242 213.587565 \r\nL 114.153873 214.756364 \r\nL 114.176779 212.95471 \r\nL 114.25695 214.756364 \r\nL 114.314215 213.306166 \r\nL 114.325668 208.115208 \r\nL 114.348574 214.756364 \r\nL 114.417292 214.756364 \r\nL 114.474557 212.526583 \r\nL 114.497463 214.756364 \r\nL 114.508916 204.828699 \r\nL 114.600541 214.756364 \r\nL 114.611994 214.637783 \r\nL 114.646353 211.574293 \r\nL 114.692165 214.756364 \r\nL 114.726524 212.814865 \r\nL 114.795242 210.845726 \r\nL 114.852507 214.756364 \r\nL 114.944131 213.274421 \r\nL 114.955584 214.190701 \r\nL 115.070114 214.756364 \r\nL 115.115926 214.756364 \r\nL 115.173191 213.353375 \r\nL 115.219003 214.756364 \r\nL 115.230456 214.756364 \r\nL 115.241909 214.282665 \r\nL 115.264815 214.756364 \r\nL 115.276268 207.390346 \r\nL 115.367892 214.756364 \r\nL 115.390798 214.050031 \r\nL 115.402251 214.756364 \r\nL 115.413704 206.838314 \r\nL 115.505328 212.664625 \r\nL 115.55114 214.756364 \r\nL 115.619858 214.310614 \r\nL 115.631311 213.815553 \r\nL 115.66567 214.756364 \r\nL 115.711482 214.756364 \r\nL 115.734388 214.756364 \r\nL 115.826012 212.100753 \r\nL 115.848918 213.907189 \r\nL 115.871824 214.680245 \r\nL 115.963448 210.344895 \r\nL 115.917636 214.756364 \r\nL 115.974901 214.399341 \r\nL 116.020713 214.188726 \r\nL 116.066525 214.756364 \r\nL 116.135243 212.787435 \r\nL 116.169602 214.756364 \r\nL 116.181055 214.756364 \r\nL 116.215414 211.405979 \r\nL 116.284132 214.559795 \r\nL 116.341397 212.880026 \r\nL 116.329944 214.725738 \r\nL 116.398663 214.402107 \r\nL 116.421569 214.080932 \r\nL 116.455928 214.756364 \r\nL 116.467381 211.615775 \r\nL 116.570458 212.552638 \r\nL 116.673535 214.756364 \r\nL 116.696441 214.59175 \r\nL 116.799518 214.756364 \r\nL 116.902595 212.389406 \r\nL 116.914048 212.753939 \r\nL 116.95986 214.756364 \r\nL 117.005672 214.323819 \r\nL 117.017125 181.600737 \r\nL 117.028578 214.756364 \r\nL 117.108749 211.99621 \r\nL 117.211826 214.756364 \r\nL 117.18892 208.322665 \r\nL 117.223279 214.140582 \r\nL 117.246185 213.27606 \r\nL 117.280544 214.756364 \r\nL 117.372168 206.556986 \r\nL 117.395074 213.720665 \r\nL 117.41798 214.601936 \r\nL 117.429433 211.570046 \r\nL 117.440886 205.954842 \r\nL 117.452339 214.756364 \r\nL 117.53251 214.099795 \r\nL 117.543963 214.636593 \r\nL 117.566869 211.620763 \r\nL 117.589775 213.057369 \r\nL 117.681399 208.878676 \r\nL 117.658493 214.756364 \r\nL 117.692852 214.756364 \r\nL 117.704305 214.756364 \r\nL 117.750117 199.570452 \r\nL 117.807382 214.635496 \r\nL 117.853194 214.756364 \r\nL 117.944818 212.584965 \r\nL 118.036442 214.756364 \r\nL 117.979177 209.188129 \r\nL 118.047895 214.437598 \r\nL 118.082254 209.543297 \r\nL 118.070801 214.756364 \r\nL 118.150972 211.882475 \r\nL 118.265502 214.734384 \r\nL 118.437298 214.747572 \r\nL 118.448751 210.99311 \r\nL 118.471657 214.756364 \r\nL 118.551828 212.853837 \r\nL 118.574734 212.711427 \r\nL 118.609093 214.756364 \r\nL 118.666358 209.684266 \r\nL 118.689264 213.934776 \r\nL 118.71217 213.562939 \r\nL 118.792341 214.756364 \r\nL 118.861059 211.294505 \r\nL 118.918324 212.085435 \r\nL 119.009948 214.756364 \r\nL 118.975589 203.749549 \r\nL 119.032854 214.298977 \r\nL 119.090119 209.423273 \r\nL 119.124478 214.756364 \r\nL 119.135931 214.581034 \r\nL 119.193196 213.851312 \r\nL 119.250461 214.756364 \r\nL 119.261914 214.756364 \r\nL 119.273367 207.221859 \r\nL 119.364991 214.756364 \r\nL 119.422256 214.709801 \r\nL 119.51388 207.490234 \r\nL 119.456615 214.756364 \r\nL 119.525333 214.180827 \r\nL 119.548239 213.729398 \r\nL 119.662769 214.756364 \r\nL 119.697128 214.756364 \r\nL 119.708581 214.592116 \r\nL 119.720034 208.636744 \r\nL 119.731487 214.756364 \r\nL 119.811658 214.756364 \r\nL 119.834564 214.756364 \r\nL 119.85747 213.570804 \r\nL 119.949094 214.160672 \r\nL 120.006359 214.756364 \r\nL 119.972 212.180625 \r\nL 120.029265 213.830127 \r\nL 120.040718 203.447227 \r\nL 120.075077 214.756364 \r\nL 120.143795 204.80335 \r\nL 120.212514 214.756364 \r\nL 120.258326 213.026393 \r\nL 120.269779 214.050343 \r\nL 120.281232 202.851778 \r\nL 120.372856 214.756364 \r\nL 120.430121 209.652758 \r\nL 120.475933 214.243403 \r\nL 120.521745 214.756364 \r\nL 120.533198 213.472487 \r\nL 120.556104 214.310144 \r\nL 120.624822 208.299259 \r\nL 120.682087 214.756364 \r\nL 120.739352 214.581322 \r\nL 120.773711 214.097803 \r\nL 120.830976 214.756364 \r\nL 120.865335 213.151101 \r\nL 120.934053 214.756364 \r\nL 120.956959 214.756364 \r\nL 121.060036 211.648848 \r\nL 121.082942 212.645133 \r\nL 121.197472 214.756364 \r\nL 121.220378 214.756364 \r\nL 121.300549 208.579938 \r\nL 121.323455 212.568476 \r\nL 121.334908 214.756364 \r\nL 121.357814 209.210975 \r\nL 121.437985 214.035664 \r\nL 121.506703 214.756364 \r\nL 121.529609 213.583029 \r\nL 121.541062 212.627985 \r\nL 121.552515 214.756364 \r\nL 121.621233 213.952874 \r\nL 121.689951 214.756364 \r\nL 121.644139 213.445625 \r\nL 121.701404 214.70614 \r\nL 121.781575 214.756364 \r\nL 121.804481 199.042182 \r\nL 121.827387 214.756364 \r\nL 121.873199 185.209843 \r\nL 121.919011 214.629124 \r\nL 121.930464 194.88353 \r\nL 121.976276 214.756364 \r\nL 122.022088 205.610954 \r\nL 122.136619 214.756364 \r\nL 122.170978 209.878852 \r\nL 122.239696 214.756364 \r\nL 122.262602 214.756364 \r\nL 122.296961 208.156032 \r\nL 122.365679 213.846537 \r\nL 122.44585 212.408485 \r\nL 122.457303 214.756364 \r\nL 122.468756 213.334828 \r\nL 122.571833 213.713405 \r\nL 122.594739 212.432395 \r\nL 122.67491 214.756364 \r\nL 122.766534 211.400162 \r\nL 122.78944 214.374151 \r\nL 122.846705 213.15635 \r\nL 122.90397 214.756364 \r\nL 122.915423 214.756364 \r\nL 123.029953 187.651318 \r\nL 123.110124 214.756364 \r\nL 123.144483 214.725738 \r\nL 123.155936 214.756364 \r\nL 123.167389 214.70614 \r\nL 123.178842 204.921045 \r\nL 123.201748 214.756364 \r\nL 123.270466 213.299318 \r\nL 123.316278 211.659284 \r\nL 123.373543 214.756364 \r\nL 123.442261 207.11525 \r\nL 123.488073 210.200141 \r\nL 123.579697 214.756364 \r\nL 123.510979 208.212355 \r\nL 123.602603 214.135676 \r\nL 123.694227 205.378323 \r\nL 123.625509 214.756364 \r\nL 123.70568 212.116305 \r\nL 123.797304 214.756364 \r\nL 123.808757 208.469933 \r\nL 123.900381 211.900183 \r\nL 124.003459 214.756364 \r\nL 124.014912 213.347814 \r\nL 124.026365 214.756364 \r\nL 124.095083 212.19273 \r\nL 124.129442 214.622101 \r\nL 124.140895 200.702845 \r\nL 124.175254 214.756364 \r\nL 124.232519 214.751968 \r\nL 124.243972 214.756364 \r\nL 124.278331 209.454041 \r\nL 124.358502 214.120136 \r\nL 124.415767 212.149632 \r\nL 124.42722 214.756364 \r\nL 124.438673 212.327987 \r\nL 124.530297 213.162688 \r\nL 124.599015 214.756364 \r\nL 124.576109 212.264578 \r\nL 124.633374 214.075737 \r\nL 124.690639 209.226123 \r\nL 124.65628 214.756364 \r\nL 124.736451 214.357895 \r\nL 124.782263 214.756364 \r\nL 124.77081 213.982248 \r\nL 124.805169 214.64463 \r\nL 124.816622 212.138096 \r\nL 124.850981 214.756364 \r\nL 124.908246 213.825633 \r\nL 125.011323 214.756364 \r\nL 125.022776 201.307778 \r\nL 125.1144 213.092712 \r\nL 125.22893 214.756364 \r\nL 125.320554 209.266081 \r\nL 125.332007 214.55382 \r\nL 125.377819 214.756364 \r\nL 125.354913 213.258023 \r\nL 125.389272 214.494725 \r\nL 125.400725 212.773542 \r\nL 125.412178 214.756364 \r\nL 125.492349 214.756364 \r\nL 125.515255 214.756364 \r\nL 125.526708 204.827029 \r\nL 125.618332 212.147046 \r\nL 125.721409 214.756364 \r\nL 125.641238 199.665304 \r\nL 125.732862 213.187857 \r\nL 125.744315 212.818988 \r\nL 125.755768 214.756364 \r\nL 125.813033 213.88682 \r\nL 125.858846 211.984692 \r\nL 125.870299 214.756364 \r\nL 125.893205 199.612696 \r\nL 125.973376 214.473796 \r\nL 126.007735 213.285011 \r\nL 126.019188 214.756364 \r\nL 126.030641 180.517885 \r\nL 126.122265 214.756364 \r\nL 126.145171 213.53974 \r\nL 126.168077 214.756364 \r\nL 126.213889 211.062063 \r\nL 126.271154 214.10506 \r\nL 126.362778 214.095328 \r\nL 126.385684 214.756364 \r\nL 126.420043 214.756364 \r\nL 126.431496 213.46896 \r\nL 126.534573 214.188726 \r\nL 126.603291 214.756364 \r\nL 126.568932 213.782037 \r\nL 126.626197 214.162367 \r\nL 126.649103 207.882616 \r\nL 126.660556 214.756364 \r\nL 126.729274 214.756364 \r\nL 126.75218 214.756364 \r\nL 126.86671 203.269761 \r\nL 126.878163 214.756364 \r\nL 126.98124 211.892856 \r\nL 127.061411 214.756364 \r\nL 127.09577 213.897789 \r\nL 127.107223 213.383148 \r\nL 127.141582 214.756364 \r\nL 127.198847 214.14925 \r\nL 127.244659 214.756364 \r\nL 127.256112 199.032756 \r\nL 127.347736 214.33231 \r\nL 127.370642 214.756364 \r\nL 127.473719 208.600166 \r\nL 127.565343 214.756364 \r\nL 127.588249 214.640765 \r\nL 127.691326 211.969819 \r\nL 127.634061 214.756364 \r\nL 127.702779 213.967245 \r\nL 127.725686 214.141996 \r\nL 127.771498 214.756364 \r\nL 127.782951 213.038893 \r\nL 127.805857 214.730244 \r\nL 127.863122 211.324793 \r\nL 127.897481 214.756364 \r\nL 127.908934 214.756364 \r\nL 128.000558 214.735189 \r\nL 128.069276 203.80687 \r\nL 128.103635 214.756364 \r\nL 128.149447 214.756364 \r\nL 128.183806 214.415214 \r\nL 128.195259 211.150857 \r\nL 128.263977 214.756364 \r\nL 128.286883 212.928316 \r\nL 128.412866 214.756364 \r\nL 128.561755 214.756364 \r\nL 128.573208 213.82647 \r\nL 128.664832 214.756364 \r\nL 128.676285 214.642721 \r\nL 128.767909 214.756364 \r\nL 128.779362 214.756364 \r\nL 128.813721 214.118522 \r\nL 128.882439 214.756364 \r\nL 128.893892 214.621937 \r\nL 128.96261 214.735189 \r\nL 128.974063 208.308747 \r\nL 129.065687 211.730324 \r\nL 129.145858 214.756364 \r\nL 129.180217 214.647869 \r\nL 129.203123 214.735189 \r\nL 129.237482 214.756364 \r\nL 129.260388 211.513069 \r\nL 129.271841 202.061504 \r\nL 129.3062 214.756364 \r\nL 129.363465 214.756364 \r\nL 129.489448 209.975798 \r\nL 129.523807 214.756364 \r\nL 129.603979 212.743801 \r\nL 129.672697 214.756364 \r\nL 129.661244 204.287713 \r\nL 129.718509 214.671094 \r\nL 129.752868 210.34615 \r\nL 129.741415 214.756364 \r\nL 129.821586 213.841868 \r\nL 129.936116 214.756364 \r\nL 129.947569 214.756364 \r\nL 129.993381 212.450996 \r\nL 130.062099 213.906033 \r\nL 130.188082 214.756364 \r\nL 130.199535 210.878061 \r\nL 130.291159 214.756364 \r\nL 130.302612 214.643717 \r\nL 130.382783 208.499339 \r\nL 130.359877 214.756364 \r\nL 130.405689 214.70614 \r\nL 130.48586 214.680245 \r\nL 130.497313 214.756364 \r\nL 130.611843 211.586251 \r\nL 130.680561 210.177829 \r\nL 130.737826 214.756364 \r\nL 130.806544 211.134469 \r\nL 130.852356 213.749484 \r\nL 130.955433 214.756364 \r\nL 130.966886 214.236725 \r\nL 131.035604 206.761203 \r\nL 131.001245 214.756364 \r\nL 131.081416 210.705425 \r\nL 131.184493 214.756364 \r\nL 131.195946 214.704078 \r\nL 131.230305 214.607434 \r\nL 131.310476 214.756364 \r\nL 131.356288 214.756364 \r\nL 131.425006 212.847751 \r\nL 131.459365 214.756364 \r\nL 131.470818 214.751653 \r\nL 131.505178 214.756364 \r\nL 131.573896 198.694971 \r\nL 131.688426 214.756364 \r\nL 131.722785 192.869039 \r\nL 131.791503 212.201932 \r\nL 131.837315 211.376068 \r\nL 131.906033 214.756364 \r\nL 131.928939 214.44118 \r\nL 132.00911 214.756364 \r\nL 132.032016 214.756364 \r\nL 132.043469 214.411599 \r\nL 132.112187 198.123115 \r\nL 132.089281 214.756364 \r\nL 132.146546 212.597287 \r\nL 132.180905 210.263843 \r\nL 132.192358 214.756364 \r\nL 132.215264 214.680432 \r\nL 132.226717 190.598134 \r\nL 132.23817 214.756364 \r\nL 132.318341 214.668699 \r\nL 132.341247 214.756364 \r\nL 132.398512 211.472353 \r\nL 132.455777 214.237427 \r\nL 132.513042 213.755173 \r\nL 132.524495 214.707392 \r\nL 132.547401 213.868731 \r\nL 132.58176 214.756364 \r\nL 132.593213 209.338427 \r\nL 132.661931 205.096218 \r\nL 132.650478 214.332457 \r\nL 132.673384 205.947086 \r\nL 132.787914 214.756364 \r\nL 132.799367 214.756364 \r\nL 132.81082 212.050229 \r\nL 132.902444 214.756364 \r\nL 132.948256 214.756364 \r\nL 132.959709 213.772264 \r\nL 133.051333 214.756364 \r\nL 133.085692 214.756364 \r\nL 133.131504 213.856351 \r\nL 133.188769 214.107431 \r\nL 133.257487 213.910689 \r\nL 133.26894 214.756364 \r\nL 133.337658 211.647457 \r\nL 133.372017 214.756364 \r\nL 133.383471 214.668699 \r\nL 133.41783 209.584446 \r\nL 133.429283 214.756364 \r\nL 133.498001 214.190128 \r\nL 133.520907 214.245719 \r\nL 133.566719 214.756364 \r\nL 133.635437 208.481225 \r\nL 133.715608 214.719038 \r\nL 133.658343 208.195529 \r\nL 133.738514 211.482601 \r\nL 133.749967 194.294287 \r\nL 133.784326 214.681336 \r\nL 133.841591 206.728289 \r\nL 133.956121 214.756364 \r\nL 133.967574 214.756364 \r\nL 134.082104 212.915523 \r\nL 134.10501 213.854987 \r\nL 134.116463 214.756364 \r\nL 134.162275 214.103527 \r\nL 134.242446 204.438581 \r\nL 134.208087 214.756364 \r\nL 134.265352 214.756364 \r\nL 134.311164 213.45521 \r\nL 134.356976 214.712436 \r\nL 134.368429 184.192258 \r\nL 134.402788 214.756364 \r\nL 134.460053 214.756364 \r\nL 134.586036 212.847525 \r\nL 134.689113 214.756364 \r\nL 134.700566 214.550528 \r\nL 134.723472 213.417248 \r\nL 134.769284 214.756364 \r\nL 134.79219 214.051622 \r\nL 134.815096 212.306732 \r\nL 134.895267 214.756364 \r\nL 134.90672 211.002028 \r\nL 134.998344 214.415214 \r\nL 135.078515 211.096415 \r\nL 135.032703 214.672962 \r\nL 135.101421 214.39984 \r\nL 135.158686 214.756364 \r\nL 135.13578 213.805027 \r\nL 135.181592 214.471617 \r\nL 135.25031 209.061313 \r\nL 135.204498 214.756364 \r\nL 135.28467 213.785097 \r\nL 135.387747 214.736361 \r\nL 135.307576 212.914655 \r\nL 135.3992 214.547962 \r\nL 135.456465 209.421541 \r\nL 135.445012 214.756364 \r\nL 135.502277 214.541604 \r\nL 135.51373 214.534852 \r\nL 135.570995 207.813483 \r\nL 135.548089 214.756364 \r\nL 135.62826 213.634557 \r\nL 135.731337 214.756364 \r\nL 135.788602 205.163112 \r\nL 135.834414 214.450887 \r\nL 135.891679 214.756364 \r\nL 135.926038 212.446774 \r\nL 135.994756 214.731041 \r\nL 136.006209 214.756364 \r\nL 136.017662 211.646538 \r\nL 136.109286 214.330266 \r\nL 136.132192 214.756364 \r\nL 136.143645 213.323043 \r\nL 136.166551 214.310531 \r\nL 136.178004 205.674647 \r\nL 136.20091 214.756364 \r\nL 136.269628 214.756364 \r\nL 136.349799 210.791441 \r\nL 136.372705 214.647643 \r\nL 136.384158 214.49483 \r\nL 136.395611 214.570458 \r\nL 136.475782 206.674923 \r\nL 136.498688 210.591761 \r\nL 136.555953 214.756364 \r\nL 136.613218 213.991387 \r\nL 136.65903 214.756364 \r\nL 136.727748 205.440344 \r\nL 136.830825 214.753538 \r\nL 136.842278 210.456149 \r\nL 136.945355 214.756364 \r\nL 136.956808 213.661291 \r\nL 137.014073 214.756364 \r\nL 137.025526 204.618465 \r\nL 137.11715 211.000552 \r\nL 137.231681 214.756364 \r\nL 137.26604 214.756364 \r\nL 137.334758 212.138771 \r\nL 137.369117 214.756364 \r\nL 137.38057 214.542949 \r\nL 137.392023 210.823603 \r\nL 137.414929 214.756364 \r\nL 137.4951 212.74902 \r\nL 137.598177 214.756364 \r\nL 137.518006 211.637475 \r\nL 137.621083 214.425622 \r\nL 137.632536 212.273737 \r\nL 137.666895 214.756364 \r\nL 137.72416 214.327611 \r\nL 137.781425 214.111073 \r\nL 137.83869 214.756364 \r\nL 137.941767 213.374305 \r\nL 138.033391 214.756364 \r\nL 137.976126 213.101363 \r\nL 138.044844 214.176422 \r\nL 138.056297 213.163307 \r\nL 138.090656 214.756364 \r\nL 138.147921 214.666686 \r\nL 138.18228 212.488733 \r\nL 138.170827 214.756364 \r\nL 138.250998 214.756364 \r\nL 138.273904 214.712795 \r\nL 138.29681 213.776033 \r\nL 138.342622 214.465438 \r\nL 138.354075 210.711377 \r\nL 138.365528 214.672962 \r\nL 138.376981 136.686274 \r\nL 138.388434 214.756364 \r\nL 138.468605 213.799072 \r\nL 138.480058 212.930156 \r\nL 138.491511 214.756364 \r\nL 138.560229 214.694129 \r\nL 138.571682 214.756364 \r\nL 138.606041 213.654938 \r\nL 138.6404 175.827625 \r\nL 138.663306 214.756364 \r\nL 138.720571 201.678803 \r\nL 138.823648 214.756364 \r\nL 138.835101 213.543501 \r\nL 138.938178 214.756364 \r\nL 138.949631 213.820581 \r\nL 138.972537 214.430879 \r\nL 139.029802 214.756364 \r\nL 139.041256 211.495432 \r\nL 139.13288 214.756364 \r\nL 139.144333 214.728174 \r\nL 139.178692 214.756364 \r\nL 139.24741 212.671119 \r\nL 139.281769 214.756364 \r\nL 139.304675 213.799252 \r\nL 139.384846 214.710785 \r\nL 139.396299 214.707562 \r\nL 139.407752 214.756364 \r\nL 139.510829 213.706414 \r\nL 139.613906 214.756364 \r\nL 139.579547 210.05795 \r\nL 139.625359 214.711346 \r\nL 139.636812 214.756364 \r\nL 139.648265 214.569855 \r\nL 139.659718 214.383588 \r\nL 139.671171 214.756364 \r\nL 139.739889 214.575085 \r\nL 139.751342 200.857677 \r\nL 139.842966 214.756364 \r\nL 139.877325 213.503081 \r\nL 139.957496 214.533122 \r\nL 139.968949 214.756364 \r\nL 139.980402 214.102142 \r\nL 140.003308 214.183256 \r\nL 140.026214 212.81585 \r\nL 140.094932 214.756364 \r\nL 140.117838 213.457506 \r\nL 140.129291 213.348883 \r\nL 140.16365 214.756364 \r\nL 140.186556 211.892168 \r\nL 140.243821 213.86871 \r\nL 140.301086 214.756364 \r\nL 140.358351 214.078983 \r\nL 140.381257 211.02051 \r\nL 140.39271 214.756364 \r\nL 140.461428 214.153748 \r\nL 140.518693 214.756364 \r\nL 140.50724 213.346796 \r\nL 140.553052 213.817848 \r\nL 140.656129 194.646574 \r\nL 140.598864 214.756364 \r\nL 140.667582 211.42289 \r\nL 140.759206 214.756364 \r\nL 140.701941 197.045936 \r\nL 140.782112 214.536111 \r\nL 140.873736 210.234361 \r\nL 140.839377 214.756364 \r\nL 140.885189 213.685443 \r\nL 140.919549 212.936964 \r\nL 140.976814 214.756364 \r\nL 140.988267 211.058143 \r\nL 141.079891 214.756364 \r\nL 141.091344 214.756364 \r\nL 141.182968 213.412727 \r\nL 141.194421 214.756364 \r\nL 141.217327 214.756364 \r\nL 141.286045 213.621021 \r\nL 141.320404 214.428793 \r\nL 141.412028 214.058703 \r\nL 141.434934 214.756364 \r\nL 141.446387 214.756364 \r\nL 141.515105 212.54948 \r\nL 141.560917 214.162008 \r\nL 141.57237 214.328536 \r\nL 141.595276 211.490404 \r\nL 141.675447 214.756364 \r\nL 141.6869 213.105592 \r\nL 141.732712 214.5179 \r\nL 141.744165 210.38015 \r\nL 141.789977 213.430699 \r\nL 141.80143 212.4908 \r\nL 141.812883 214.756364 \r\nL 141.893054 213.522857 \r\nL 142.007584 214.756364 \r\nL 142.122114 213.193839 \r\nL 142.236644 214.756364 \r\nL 142.293909 211.457506 \r\nL 142.362627 212.63416 \r\nL 142.442798 211.609776 \r\nL 142.477157 214.756364 \r\nL 142.511516 214.734017 \r\nL 142.534422 213.70309 \r\nL 142.557328 214.756364 \r\nL 142.614593 214.756364 \r\nL 142.648952 214.756364 \r\nL 142.729123 213.209826 \r\nL 142.763482 214.237079 \r\nL 142.797841 213.511146 \r\nL 142.878013 214.756364 \r\nL 142.889466 212.789422 \r\nL 142.98109 214.756364 \r\nL 143.026902 214.756364 \r\nL 143.141432 210.617473 \r\nL 143.233056 214.756364 \r\nL 143.255962 214.36215 \r\nL 143.267415 214.756364 \r\nL 143.278868 214.348511 \r\nL 143.290321 158.037829 \r\nL 143.313227 214.756364 \r\nL 143.381945 214.756364 \r\nL 143.393398 213.151471 \r\nL 143.427757 214.756364 \r\nL 143.43921 183.21061 \r\nL 143.530834 212.012068 \r\nL 143.542287 214.756364 \r\nL 143.611005 210.962176 \r\nL 143.645364 214.691709 \r\nL 143.656817 214.756364 \r\nL 143.66827 214.662628 \r\nL 143.679723 213.600378 \r\nL 143.691176 214.756364 \r\nL 143.702629 214.661302 \r\nL 143.714082 21.890463 \r\nL 143.725535 214.756364 \r\nL 143.805706 214.735189 \r\nL 143.817159 210.454387 \r\nL 143.840065 214.756364 \r\nL 143.908783 214.756364 \r\nL 143.954595 214.707035 \r\nL 144.023313 212.883353 \r\nL 143.988954 214.756364 \r\nL 144.057672 214.095328 \r\nL 144.069125 214.731793 \r\nL 144.080578 199.475184 \r\nL 144.092031 214.756364 \r\nL 144.172202 210.702806 \r\nL 144.275279 214.756364 \r\nL 144.286732 214.14925 \r\nL 144.35545 214.756364 \r\nL 144.378356 213.724345 \r\nL 144.389809 212.543464 \r\nL 144.412715 214.756364 \r\nL 144.46998 214.65171 \r\nL 144.515792 214.756364 \r\nL 144.527245 211.120131 \r\nL 144.630322 211.897252 \r\nL 144.699041 214.756364 \r\nL 144.676134 206.637929 \r\nL 144.7334 211.443176 \r\nL 144.744853 210.326334 \r\nL 144.767759 214.59175 \r\nL 144.813571 214.354538 \r\nL 144.84793 213.910336 \r\nL 144.870836 214.756364 \r\nL 144.916648 213.949449 \r\nL 145.008272 214.756364 \r\nL 144.985366 212.601463 \r\nL 145.019725 213.605626 \r\nL 145.07699 210.98921 \r\nL 145.042631 214.756364 \r\nL 145.134255 212.385064 \r\nL 145.202973 214.756364 \r\nL 145.260238 214.528106 \r\nL 145.294597 214.756364 \r\nL 145.30605 198.390115 \r\nL 145.397674 214.756364 \r\nL 145.42058 214.756364 \r\nL 145.512204 213.092754 \r\nL 145.53511 214.505836 \r\nL 145.615281 214.441319 \r\nL 145.638187 214.756364 \r\nL 145.752717 213.612415 \r\nL 145.76417 214.756364 \r\nL 145.798529 213.353342 \r\nL 145.844341 214.48751 \r\nL 145.855794 211.217633 \r\nL 145.935965 214.756364 \r\nL 145.947418 214.668699 \r\nL 145.99323 213.711985 \r\nL 145.970324 214.756364 \r\nL 146.050495 214.559016 \r\nL 146.061948 214.756364 \r\nL 146.073401 213.614408 \r\nL 146.119213 213.948924 \r\nL 146.153572 212.782607 \r\nL 146.142119 214.756364 \r\nL 146.187931 213.580668 \r\nL 146.291008 214.756364 \r\nL 146.394085 210.077543 \r\nL 146.405538 213.927973 \r\nL 146.474256 213.374644 \r\nL 146.531521 214.756364 \r\nL 146.668958 203.669981 \r\nL 146.783488 214.756364 \r\nL 146.794941 214.756364 \r\nL 146.817847 213.896221 \r\nL 146.863659 214.560881 \r\nL 146.875112 206.996897 \r\nL 146.955283 214.756364 \r\nL 146.978189 207.630524 \r\nL 147.195796 214.756364 \r\nL 147.298873 213.300925 \r\nL 147.413403 214.756364 \r\nL 147.470668 208.315459 \r\nL 147.527933 214.361502 \r\nL 147.585198 214.756364 \r\nL 147.596651 214.297969 \r\nL 147.63101 211.943657 \r\nL 147.619557 214.756364 \r\nL 147.699728 214.756364 \r\nL 147.722634 214.756364 \r\nL 147.779899 214.559016 \r\nL 147.825711 214.756364 \r\nL 147.871523 214.756364 \r\nL 147.928788 212.521103 \r\nL 147.9746 214.756364 \r\nL 147.986053 214.756364 \r\nL 147.997506 213.005877 \r\nL 148.08913 214.756364 \r\nL 148.123489 214.756364 \r\nL 148.134942 202.792574 \r\nL 148.226566 212.708417 \r\nL 148.260925 206.402299 \r\nL 148.352549 214.756364 \r\nL 148.364002 212.947858 \r\nL 148.455626 214.756364 \r\nL 148.46708 214.756364 \r\nL 148.478533 211.203583 \r\nL 148.570157 214.70614 \r\nL 148.58161 214.59175 \r\nL 148.593063 214.756364 \r\nL 148.615969 214.638446 \r\nL 148.627422 209.813379 \r\nL 148.650328 214.756364 \r\nL 148.730499 210.124056 \r\nL 148.822123 214.756364 \r\nL 148.845029 214.542917 \r\nL 148.9252 212.571023 \r\nL 148.879388 214.756364 \r\nL 148.948106 213.929023 \r\nL 149.051183 214.756364 \r\nL 148.993918 213.559211 \r\nL 149.062636 214.657384 \r\nL 149.074089 214.654315 \r\nL 149.142807 213.168253 \r\nL 149.108448 214.756364 \r\nL 149.177166 214.756364 \r\nL 149.188619 214.741502 \r\nL 149.200072 213.472487 \r\nL 149.211525 214.756364 \r\nL 149.291696 214.411121 \r\nL 149.38332 214.756364 \r\nL 149.337508 214.289548 \r\nL 149.394773 214.661302 \r\nL 149.406226 211.64853 \r\nL 149.417679 214.756364 \r\nL 149.49785 214.735189 \r\nL 149.509303 214.736297 \r\nL 149.600927 209.365062 \r\nL 149.532209 214.756364 \r\nL 149.61238 214.376118 \r\nL 149.623833 214.756364 \r\nL 149.635286 211.270089 \r\nL 149.72691 214.223429 \r\nL 149.761269 214.638446 \r\nL 149.795628 212.506725 \r\nL 149.829987 214.756364 \r\nL 149.864346 213.332854 \r\nL 149.95597 212.682358 \r\nL 149.978876 214.756364 \r\nL 149.990329 214.725738 \r\nL 150.001782 212.196017 \r\nL 150.024688 214.756364 \r\nL 150.093406 214.756364 \r\nL 150.139218 214.756364 \r\nL 150.162124 209.247098 \r\nL 150.242295 214.70614 \r\nL 150.253748 214.542917 \r\nL 150.265201 209.363645 \r\nL 150.311013 214.756364 \r\nL 150.368279 212.421836 \r\nL 150.505715 214.756364 \r\nL 150.608792 214.420543 \r\nL 150.654604 214.756364 \r\nL 150.631698 212.490065 \r\nL 150.711869 214.735189 \r\nL 150.814946 213.247791 \r\nL 150.734775 214.756191 \r\nL 150.826399 214.092727 \r\nL 150.872211 213.285084 \r\nL 150.895117 214.756364 \r\nL 150.998194 200.082516 \r\nL 151.009647 213.774008 \r\nL 151.044006 214.756364 \r\nL 151.055459 211.770729 \r\nL 151.089818 214.061035 \r\nL 151.181442 211.257246 \r\nL 151.158536 214.70614 \r\nL 151.192895 213.998508 \r\nL 151.284519 213.913875 \r\nL 151.307425 214.756364 \r\nL 151.318878 211.930978 \r\nL 151.410502 213.539014 \r\nL 151.456314 212.917609 \r\nL 151.513579 214.756364 \r\nL 151.547938 209.364972 \r\nL 151.616656 214.508915 \r\nL 151.651015 214.756364 \r\nL 151.662468 214.342051 \r\nL 151.673921 205.465237 \r\nL 151.685374 214.756364 \r\nL 151.765545 214.756364 \r\nL 151.776998 214.693661 \r\nL 151.857169 212.20629 \r\nL 151.799904 214.756364 \r\nL 151.880075 214.756364 \r\nL 151.902981 214.728097 \r\nL 151.914434 213.193961 \r\nL 151.925887 214.756364 \r\nL 152.006058 214.756364 \r\nL 152.05187 214.651349 \r\nL 152.132041 212.772491 \r\nL 152.074776 214.756364 \r\nL 152.154947 214.097315 \r\nL 152.258025 214.756364 \r\nL 152.235119 213.638521 \r\nL 152.269478 214.401155 \r\nL 152.280931 205.59564 \r\nL 152.361102 214.756364 \r\nL 152.372555 214.493369 \r\nL 152.384008 213.163307 \r\nL 152.395461 214.756364 \r\nL 152.475632 214.72035 \r\nL 152.567256 211.316226 \r\nL 152.521444 214.756364 \r\nL 152.590162 214.330266 \r\nL 152.601615 214.287078 \r\nL 152.613068 214.660501 \r\nL 152.624521 214.756364 \r\nL 152.65888 212.813419 \r\nL 152.727598 214.756364 \r\nL 152.750504 214.756364 \r\nL 152.865034 213.430328 \r\nL 152.979564 214.756364 \r\nL 153.048282 214.559795 \r\nL 153.094094 214.725738 \r\nL 153.151359 214.756364 \r\nL 153.197171 213.230203 \r\nL 153.254436 214.756364 \r\nL 153.277342 214.756364 \r\nL 153.334607 209.992382 \r\nL 153.380419 214.756364 \r\nL 153.391872 214.756364 \r\nL 153.403325 210.316929 \r\nL 153.494949 213.936983 \r\nL 153.506402 213.78029 \r\nL 153.517855 214.756364 \r\nL 153.552214 214.149835 \r\nL 153.598026 214.756364 \r\nL 153.57512 212.6138 \r\nL 153.655291 213.991309 \r\nL 153.666744 212.531119 \r\nL 153.701103 214.756364 \r\nL 153.758368 214.570107 \r\nL 153.815633 214.756364 \r\nL 153.827086 213.144885 \r\nL 153.91871 214.756364 \r\nL 153.964522 214.756364 \r\nL 154.067599 203.187526 \r\nL 154.147771 214.756364 \r\nL 154.18213 214.716119 \r\nL 154.262301 214.092863 \r\nL 154.205036 214.756364 \r\nL 154.29666 214.317357 \r\nL 154.308113 214.384902 \r\nL 154.319566 214.317357 \r\nL 154.365378 211.921755 \r\nL 154.388284 214.756364 \r\nL 154.422643 214.756364 \r\nL 154.434096 214.394069 \r\nL 154.502814 214.756364 \r\nL 154.514267 201.915554 \r\nL 154.605891 212.545054 \r\nL 154.663156 214.756364 \r\nL 154.686062 212.846607 \r\nL 154.697515 211.022658 \r\nL 154.731874 214.756364 \r\nL 154.789139 214.080932 \r\nL 154.812045 213.105297 \r\nL 154.846404 214.756364 \r\nL 154.880763 213.542759 \r\nL 154.938028 214.756364 \r\nL 154.949481 214.601364 \r\nL 154.960934 207.873257 \r\nL 154.98384 214.717511 \r\nL 155.052558 211.491322 \r\nL 155.178541 214.756364 \r\nL 155.235806 214.756364 \r\nL 155.304524 211.802016 \r\nL 155.338883 214.756364 \r\nL 155.350336 214.756364 \r\nL 155.361789 213.987279 \r\nL 155.464866 214.074061 \r\nL 155.476319 214.03707 \r\nL 155.533584 213.202626 \r\nL 155.590849 214.756364 \r\nL 155.682473 212.63917 \r\nL 155.705379 213.96275 \r\nL 155.716832 213.825392 \r\nL 155.728285 214.54981 \r\nL 155.751191 203.958937 \r\nL 155.797003 214.756364 \r\nL 155.831362 214.756364 \r\nL 155.854268 214.756364 \r\nL 155.865721 212.170025 \r\nL 155.922986 214.609595 \r\nL 155.934439 159.806445 \r\nL 156.014611 214.714015 \r\nL 156.026064 213.528839 \r\nL 156.04897 214.756364 \r\nL 156.060423 201.996352 \r\nL 156.152047 214.549521 \r\nL 156.1635 214.46921 \r\nL 156.232218 192.489555 \r\nL 156.186406 214.756364 \r\nL 156.266577 214.387844 \r\nL 156.27803 214.298845 \r\nL 156.289483 212.080685 \r\nL 156.300936 214.756364 \r\nL 156.335295 214.427938 \r\nL 156.346748 179.058879 \r\nL 156.404013 214.756364 \r\nL 156.438372 214.70614 \r\nL 156.461278 211.556735 \r\nL 156.518543 214.756364 \r\nL 156.541449 214.756364 \r\nL 156.552902 214.756364 \r\nL 156.575808 213.156946 \r\nL 156.667432 214.273354 \r\nL 156.747603 214.756364 \r\nL 156.73615 212.528124 \r\nL 156.759056 214.147423 \r\nL 156.839227 207.962968 \r\nL 156.816321 214.756364 \r\nL 156.862133 212.995251 \r\nL 156.919398 209.28552 \r\nL 156.942304 214.756364 \r\nL 156.953757 209.088251 \r\nL 157.056834 212.572927 \r\nL 157.159911 214.756364 \r\nL 157.091193 212.461687 \r\nL 157.19427 214.654315 \r\nL 157.240082 214.756364 \r\nL 157.297347 193.296962 \r\nL 157.331706 214.756364 \r\nL 157.411877 201.891851 \r\nL 157.514954 214.756364 \r\nL 157.526407 214.203195 \r\nL 157.572219 213.818517 \r\nL 157.629484 214.756364 \r\nL 157.640937 203.653413 \r\nL 157.732561 214.756364 \r\nL 157.744014 214.756364 \r\nL 157.789826 212.943841 \r\nL 157.801279 213.952094 \r\nL 157.835638 207.244499 \r\nL 157.904357 214.756364 \r\nL 157.950169 212.47755 \r\nL 157.984528 214.756364 \r\nL 157.995981 184.032798 \r\nL 158.087605 213.703668 \r\nL 158.110511 208.71496 \r\nL 158.133417 214.756364 \r\nL 158.190682 214.656159 \r\nL 158.282306 212.859696 \r\nL 158.247947 214.756364 \r\nL 158.293759 214.702994 \r\nL 158.305212 214.756364 \r\nL 158.328118 214.459809 \r\nL 158.362477 213.4746 \r\nL 158.385383 214.756364 \r\nL 158.408289 214.756364 \r\nL 158.419742 214.756364 \r\nL 158.454101 211.656904 \r\nL 158.534272 212.613291 \r\nL 158.660255 214.756364 \r\nL 158.751879 208.087735 \r\nL 158.774785 213.878351 \r\nL 158.820597 214.756364 \r\nL 158.866409 214.66645 \r\nL 158.877862 207.492857 \r\nL 158.912221 214.756364 \r\nL 158.969486 212.178446 \r\nL 159.026751 214.756364 \r\nL 159.072563 211.334258 \r\nL 159.084016 214.505836 \r\nL 159.164187 210.632595 \r\nL 159.152734 214.756364 \r\nL 159.187093 214.756364 \r\nL 159.301623 207.530468 \r\nL 159.416153 214.756364 \r\nL 159.461965 213.41368 \r\nL 159.530683 214.428574 \r\nL 159.553589 214.392652 \r\nL 159.565042 214.756364 \r\nL 159.576495 204.513132 \r\nL 159.668119 214.1126 \r\nL 159.713931 214.756364 \r\nL 159.702478 214.099678 \r\nL 159.725384 214.653493 \r\nL 159.736837 212.793035 \r\nL 159.74829 214.756364 \r\nL 159.759743 173.813651 \r\nL 159.851368 210.668853 \r\nL 159.954445 214.756364 \r\nL 159.874274 208.661057 \r\nL 159.965898 213.432146 \r\nL 160.01171 214.756364 \r\nL 160.023163 209.475366 \r\nL 160.046069 212.788063 \r\nL 160.068975 214.756364 \r\nL 160.149146 202.244838 \r\nL 160.194958 214.756364 \r\nL 160.263676 214.487997 \r\nL 160.275129 214.543446 \r\nL 160.343847 205.219129 \r\nL 160.332394 214.756364 \r\nL 160.389659 209.615483 \r\nL 160.446924 214.756364 \r\nL 160.458377 208.153625 \r\nL 160.46983 195.986932 \r\nL 160.550001 214.756364 \r\nL 160.561454 214.505836 \r\nL 160.630172 210.70936 \r\nL 160.595813 214.756364 \r\nL 160.675984 211.345662 \r\nL 160.687437 214.756364 \r\nL 160.69889 201.687802 \r\nL 160.790514 213.63466 \r\nL 160.836326 212.805912 \r\nL 160.893591 214.756364 \r\nL 160.905044 212.745475 \r\nL 160.916497 186.402704 \r\nL 160.962309 214.756364 \r\nL 161.008121 214.756364 \r\nL 161.019574 214.756364 \r\nL 161.076839 211.711299 \r\nL 161.145557 212.282067 \r\nL 161.248634 214.756364 \r\nL 161.191369 209.333524 \r\nL 161.27154 214.559016 \r\nL 161.282993 214.594394 \r\nL 161.294446 214.060388 \r\nL 161.351711 201.281058 \r\nL 161.374617 214.382678 \r\nL 161.397523 214.342051 \r\nL 161.408976 213.210741 \r\nL 161.443335 214.756364 \r\nL 161.5006 214.756364 \r\nL 161.512053 214.512353 \r\nL 161.523506 214.756364 \r\nL 161.534959 193.29573 \r\nL 161.626583 205.5779 \r\nL 161.729661 214.505836 \r\nL 161.741114 213.460763 \r\nL 161.798379 214.756364 \r\nL 161.832738 213.307289 \r\nL 161.844191 208.670575 \r\nL 161.855644 214.756364 \r\nL 161.935815 214.448941 \r\nL 161.947268 213.045947 \r\nL 161.958721 214.756364 \r\nL 161.970174 185.088187 \r\nL 162.061798 214.726471 \r\nL 162.153422 213.257464 \r\nL 162.084704 214.756364 \r\nL 162.164875 213.848445 \r\nL 162.199234 212.083434 \r\nL 162.22214 214.756364 \r\nL 162.233593 210.141049 \r\nL 162.325217 214.638446 \r\nL 162.359576 214.631857 \r\nL 162.439747 214.756364 \r\nL 162.554277 213.406897 \r\nL 162.588636 213.198993 \r\nL 162.668807 214.756364 \r\nL 162.691713 214.756364 \r\nL 162.760431 208.972247 \r\nL 162.79479 214.756364 \r\nL 162.817696 214.756364 \r\nL 162.829149 214.592927 \r\nL 162.840602 214.756364 \r\nL 162.852055 210.365958 \r\nL 162.943679 214.470568 \r\nL 162.966585 214.756364 \r\nL 163.081115 204.289007 \r\nL 163.092568 210.197738 \r\nL 163.207098 214.756364 \r\nL 163.25291 214.450137 \r\nL 163.275816 212.778059 \r\nL 163.333081 214.756364 \r\nL 163.378893 206.477203 \r\nL 163.48197 208.398835 \r\nL 163.585048 214.756364 \r\nL 163.596501 212.412658 \r\nL 163.642313 211.901648 \r\nL 163.711031 214.756364 \r\nL 163.779749 211.71737 \r\nL 163.825561 212.732321 \r\nL 163.940091 214.756364 \r\nL 163.951544 214.756364 \r\nL 164.020262 206.626405 \r\nL 164.054621 213.98707 \r\nL 164.100433 211.862143 \r\nL 164.180604 214.756364 \r\nL 164.260775 207.445564 \r\nL 164.295134 210.729367 \r\nL 164.409664 214.756364 \r\nL 164.421117 210.334439 \r\nL 164.524194 211.031255 \r\nL 164.638724 214.756364 \r\nL 164.650177 211.99144 \r\nL 164.741801 213.429032 \r\nL 164.787613 211.794129 \r\nL 164.867784 214.756364 \r\nL 164.959408 212.62504 \r\nL 164.970861 214.36168 \r\nL 164.993767 213.114115 \r\nL 165.085391 214.756364 \r\nL 165.096844 214.756364 \r\nL 165.108297 212.772491 \r\nL 165.211374 213.005259 \r\nL 165.222827 212.273933 \r\nL 165.245733 214.756364 \r\nL 165.291545 214.135867 \r\nL 165.383169 214.756364 \r\nL 165.34881 212.737556 \r\nL 165.394622 214.114874 \r\nL 165.4977 214.756364 \r\nL 165.520606 213.98547 \r\nL 165.600777 214.756364 \r\nL 165.61223 214.756364 \r\nL 165.680948 214.227863 \r\nL 165.738213 214.438369 \r\nL 165.761119 214.756364 \r\nL 165.806931 196.717302 \r\nL 165.864196 205.705234 \r\nL 165.978726 214.756364 \r\nL 166.013085 214.756364 \r\nL 166.024538 206.354035 \r\nL 166.116162 211.04278 \r\nL 166.18488 214.756364 \r\nL 166.230692 213.571041 \r\nL 166.253598 214.138632 \r\nL 166.265051 212.428041 \r\nL 166.276504 200.890165 \r\nL 166.356675 214.756364 \r\nL 166.368128 214.735189 \r\nL 166.379581 214.756364 \r\nL 166.505564 213.715251 \r\nL 166.551376 214.756364 \r\nL 166.562829 214.631432 \r\nL 166.597188 205.761497 \r\nL 166.585735 214.756364 \r\nL 166.665906 213.679846 \r\nL 166.677359 213.525482 \r\nL 166.723171 203.984188 \r\nL 166.75753 214.756364 \r\nL 166.780436 214.756364 \r\nL 166.803342 214.756364 \r\nL 166.87206 210.918258 \r\nL 166.906419 214.756364 \r\nL 166.929325 214.756364 \r\nL 167.020949 213.177316 \r\nL 167.043855 214.494725 \r\nL 167.055308 214.756364 \r\nL 167.066761 214.19546 \r\nL 167.089667 214.274852 \r\nL 167.124026 206.743383 \r\nL 167.158385 214.756364 \r\nL 167.204197 213.657357 \r\nL 167.250009 212.518988 \r\nL 167.295821 214.756364 \r\nL 167.307274 208.917121 \r\nL 167.398899 214.675552 \r\nL 167.444711 213.229347 \r\nL 167.456164 214.756364 \r\nL 167.467617 214.604962 \r\nL 167.47907 208.8401 \r\nL 167.501976 214.756364 \r\nL 167.570694 214.756364 \r\nL 167.5936 211.398645 \r\nL 167.685224 214.481452 \r\nL 167.719583 214.756364 \r\nL 167.788301 196.390994 \r\nL 167.82266 214.756364 \r\nL 167.845566 214.726471 \r\nL 167.948643 213.314227 \r\nL 167.902831 214.756364 \r\nL 167.960096 213.904456 \r\nL 168.017361 214.756364 \r\nL 168.028814 212.961331 \r\nL 168.097532 189.00739 \r\nL 168.074626 214.756364 \r\nL 168.131891 213.440238 \r\nL 168.143344 212.005995 \r\nL 168.177703 214.756364 \r\nL 168.223515 214.756364 \r\nL 168.28078 214.653493 \r\nL 168.315139 209.962394 \r\nL 168.360951 214.756364 \r\nL 168.418216 211.680207 \r\nL 168.521293 214.756364 \r\nL 168.532746 214.040052 \r\nL 168.544199 214.756364 \r\nL 168.555652 214.167705 \r\nL 168.567105 202.392772 \r\nL 168.601464 214.756364 \r\nL 168.658729 214.756364 \r\nL 168.670182 214.756364 \r\nL 168.761806 213.317719 \r\nL 168.773259 214.756364 \r\nL 168.807618 214.756364 \r\nL 168.830524 212.743909 \r\nL 168.910695 213.085559 \r\nL 169.025225 214.756364 \r\nL 169.048131 214.756364 \r\nL 169.059584 212.81963 \r\nL 169.162661 213.660393 \r\nL 169.174114 214.756364 \r\nL 169.23138 210.642516 \r\nL 169.277192 214.141393 \r\nL 169.288645 214.756364 \r\nL 169.300098 212.997966 \r\nL 169.323004 213.951605 \r\nL 169.34591 214.756364 \r\nL 169.437534 203.558659 \r\nL 169.494799 214.630172 \r\nL 169.552064 208.340997 \r\nL 169.632235 214.756364 \r\nL 169.655141 214.52152 \r\nL 169.666594 207.68656 \r\nL 169.6895 214.756364 \r\nL 169.758218 214.756364 \r\nL 169.769671 214.756364 \r\nL 169.838389 213.980347 \r\nL 169.849842 214.680245 \r\nL 169.861295 209.374458 \r\nL 169.884201 214.756364 \r\nL 169.952919 214.747572 \r\nL 170.010184 213.638521 \r\nL 169.987278 214.756364 \r\nL 170.067449 214.631432 \r\nL 170.113261 214.756364 \r\nL 170.124714 211.427088 \r\nL 170.216338 214.756364 \r\nL 170.227791 214.716444 \r\nL 170.319415 205.974123 \r\nL 170.285056 214.756364 \r\nL 170.353774 212.475483 \r\nL 170.445398 214.756364 \r\nL 170.468304 214.115622 \r\nL 170.525569 214.756364 \r\nL 170.537022 213.015333 \r\nL 170.571381 214.69284 \r\nL 170.594287 214.756364 \r\nL 170.60574 213.38099 \r\nL 170.617193 202.211136 \r\nL 170.628646 214.756364 \r\nL 170.708817 213.728158 \r\nL 170.72027 213.364217 \r\nL 170.731723 214.755669 \r\nL 170.777535 214.756364 \r\nL 170.788988 214.756364 \r\nL 170.846253 211.020815 \r\nL 170.892065 214.756364 \r\nL 170.914971 214.655916 \r\nL 170.926424 214.524805 \r\nL 170.94933 214.756364 \r\nL 170.983689 194.521841 \r\nL 171.052407 214.542917 \r\nL 171.09822 214.756364 \r\nL 171.21275 211.89394 \r\nL 171.32728 214.756364 \r\nL 171.338733 214.756364 \r\nL 171.418904 213.472487 \r\nL 171.44181 213.738914 \r\nL 171.453263 195.336312 \r\nL 171.476169 214.756364 \r\nL 171.55634 200.234906 \r\nL 171.67087 214.756364 \r\nL 171.682323 214.756364 \r\nL 171.728135 211.003899 \r\nL 171.7854 214.000727 \r\nL 171.854118 213.319726 \r\nL 171.89993 214.756364 \r\nL 171.922836 214.756364 \r\nL 171.957195 213.619107 \r\nL 172.025913 214.756364 \r\nL 172.037366 214.756364 \r\nL 172.071725 214.319415 \r\nL 172.140443 214.756364 \r\nL 172.369503 214.756364 \r\nL 172.380956 213.856255 \r\nL 172.47258 214.240125 \r\nL 172.495486 213.237133 \r\nL 172.529845 214.756364 \r\nL 172.541298 211.72684 \r\nL 172.632922 214.756364 \r\nL 172.667281 214.756364 \r\nL 172.747452 203.03757 \r\nL 172.770358 214.756364 \r\nL 172.81617 214.1322 \r\nL 172.839076 214.756364 \r\nL 172.907794 197.24074 \r\nL 172.942153 214.342051 \r\nL 173.010872 214.756364 \r\nL 173.033778 213.843136 \r\nL 173.056684 214.536111 \r\nL 173.091043 213.591143 \r\nL 173.171214 214.756364 \r\nL 173.217026 214.756364 \r\nL 173.262838 211.955972 \r\nL 173.320103 214.756364 \r\nL 173.343009 214.756364 \r\nL 173.388821 214.047056 \r\nL 173.446086 214.756364 \r\nL 173.457539 214.756364 \r\nL 173.468992 213.613248 \r\nL 173.560616 214.756364 \r\nL 173.572069 214.756364 \r\nL 173.583522 213.600599 \r\nL 173.617881 214.70614 \r\nL 173.629334 182.407477 \r\nL 173.675146 214.756364 \r\nL 173.732411 203.96695 \r\nL 173.846941 214.756364 \r\nL 173.972924 212.380432 \r\nL 173.984377 213.987557 \r\nL 174.098907 214.756364 \r\nL 174.144719 213.746718 \r\nL 174.201984 214.756364 \r\nL 174.213437 214.756364 \r\nL 174.236343 213.848338 \r\nL 174.33942 214.134619 \r\nL 174.45395 214.756364 \r\nL 174.534121 210.758737 \r\nL 174.56848 214.438836 \r\nL 174.579933 214.756364 \r\nL 174.591386 192.277426 \r\nL 174.68301 214.000727 \r\nL 174.705916 214.756364 \r\nL 174.820446 164.11239 \r\nL 174.934977 214.756364 \r\nL 174.94643 214.756364 \r\nL 174.957883 213.98547 \r\nL 174.969336 214.756364 \r\nL 175.038054 143.44349 \r\nL 175.072413 213.457218 \r\nL 175.164037 214.756364 \r\nL 175.255661 180.047718 \r\nL 175.267114 214.630164 \r\nL 175.29002 214.756364 \r\nL 175.312926 212.6404 \r\nL 175.324379 209.502745 \r\nL 175.335832 214.756364 \r\nL 175.416003 214.43632 \r\nL 175.427456 214.756364 \r\nL 175.450362 213.986885 \r\nL 175.473268 214.479597 \r\nL 175.484721 186.268315 \r\nL 175.541986 214.756364 \r\nL 175.576345 214.756364 \r\nL 175.599251 214.756364 \r\nL 175.63361 214.069236 \r\nL 175.713781 214.559016 \r\nL 175.759593 212.052392 \r\nL 175.74814 214.756364 \r\nL 175.805405 214.756364 \r\nL 175.816858 214.756364 \r\nL 175.908482 213.491712 \r\nL 175.919935 214.49564 \r\nL 175.942841 214.756364 \r\nL 175.954294 213.260484 \r\nL 175.965747 214.045947 \r\nL 175.988653 214.756364 \r\nL 176.068824 209.165595 \r\nL 176.183354 214.756364 \r\nL 176.194807 214.718479 \r\nL 176.20626 214.756364 \r\nL 176.229166 212.537935 \r\nL 176.309337 214.433718 \r\nL 176.412414 214.756364 \r\nL 176.332243 213.877136 \r\nL 176.423867 214.633653 \r\nL 176.481132 214.484774 \r\nL 176.526944 214.756364 \r\nL 176.54985 214.333767 \r\nL 176.561303 212.28376 \r\nL 176.572756 214.756364 \r\nL 176.652927 214.756364 \r\nL 176.675833 213.738914 \r\nL 176.767458 214.26979 \r\nL 176.81327 214.756364 \r\nL 176.824723 214.077823 \r\nL 176.836176 213.34921 \r\nL 176.847629 214.756364 \r\nL 176.859082 193.21132 \r\nL 176.950706 214.202317 \r\nL 176.962159 210.773227 \r\nL 176.985065 214.756364 \r\nL 177.053783 214.756364 \r\nL 177.088142 214.672635 \r\nL 177.099595 209.77362 \r\nL 177.111048 214.756364 \r\nL 177.191219 213.309559 \r\nL 177.294296 214.756364 \r\nL 177.282843 212.614278 \r\nL 177.305749 214.601749 \r\nL 177.317202 210.197237 \r\nL 177.340108 214.756364 \r\nL 177.408826 214.05571 \r\nL 177.431732 213.644437 \r\nL 177.443185 214.756364 \r\nL 177.477544 214.497311 \r\nL 177.557715 214.756364 \r\nL 177.511903 214.227297 \r\nL 177.569168 214.529476 \r\nL 177.660792 183.496114 \r\nL 177.672245 214.756364 \r\nL 177.683698 194.763445 \r\nL 177.798228 214.756364 \r\nL 177.821134 214.712846 \r\nL 177.855493 213.833204 \r\nL 177.84404 214.756364 \r\nL 177.924211 214.644103 \r\nL 177.95857 214.5229 \r\nL 178.038741 214.756364 \r\nL 178.061647 214.756364 \r\nL 178.0731 214.64105 \r\nL 178.130365 214.756364 \r\nL 178.18763 189.320644 \r\nL 178.267801 214.756364 \r\nL 178.30216 214.116675 \r\nL 178.347972 214.756364 \r\nL 178.359425 211.12234 \r\nL 178.370878 205.58229 \r\nL 178.428143 214.756364 \r\nL 178.462502 214.708368 \r\nL 178.485408 214.305647 \r\nL 178.496861 214.756364 \r\nL 178.508314 214.756364 \r\nL 178.577032 204.271623 \r\nL 178.611391 214.651349 \r\nL 178.634297 214.756364 \r\nL 178.748828 199.32201 \r\nL 178.760281 207.511133 \r\nL 178.874811 214.756364 \r\nL 178.943529 212.3558 \r\nL 178.977888 214.404145 \r\nL 179.000794 214.756364 \r\nL 179.012247 211.390031 \r\nL 179.103871 214.118522 \r\nL 179.195495 212.812265 \r\nL 179.126777 214.756364 \r\nL 179.218401 213.309975 \r\nL 179.264213 214.756364 \r\nL 179.275666 214.38341 \r\nL 179.287119 208.503007 \r\nL 179.298572 214.756364 \r\nL 179.378743 213.406897 \r\nL 179.390196 212.918713 \r\nL 179.401649 214.756364 \r\nL 179.447461 214.194244 \r\nL 179.527632 214.036937 \r\nL 179.561991 214.756364 \r\nL 179.584897 214.756364 \r\nL 179.59635 194.312952 \r\nL 179.687974 214.170706 \r\nL 179.733786 214.756364 \r\nL 179.745239 213.603815 \r\nL 179.813957 214.756364 \r\nL 179.848316 208.695657 \r\nL 179.93994 214.756364 \r\nL 179.962846 213.859799 \r\nL 180.077376 201.777438 \r\nL 179.985752 214.756364 \r\nL 180.088829 206.574585 \r\nL 180.180453 214.756364 \r\nL 180.169 198.160307 \r\nL 180.214812 214.214739 \r\nL 180.226265 214.756364 \r\nL 180.237718 184.950047 \r\nL 180.329342 214.513638 \r\nL 180.340795 214.756364 \r\nL 180.352248 213.150252 \r\nL 180.375154 214.345349 \r\nL 180.455325 205.346004 \r\nL 180.39806 214.756364 \r\nL 180.478231 214.299116 \r\nL 180.489684 214.154559 \r\nL 180.501137 214.756364 \r\nL 180.524043 214.397125 \r\nL 180.535497 212.124886 \r\nL 180.54695 214.756364 \r\nL 180.627121 214.575497 \r\nL 180.638574 214.756364 \r\nL 180.650027 214.510428 \r\nL 180.66148 214.550077 \r\nL 180.672933 212.41659 \r\nL 180.695839 214.756364 \r\nL 180.764557 214.756364 \r\nL 180.77601 214.756364 \r\nL 180.787463 214.631432 \r\nL 180.810369 214.756364 \r\nL 180.901993 205.502262 \r\nL 181.00507 214.756364 \r\nL 181.016523 213.960898 \r\nL 181.027976 213.914823 \r\nL 181.039429 214.570107 \r\nL 181.050882 214.489994 \r\nL 181.108147 183.52951 \r\nL 181.096694 214.756364 \r\nL 181.153959 214.680245 \r\nL 181.165412 214.756364 \r\nL 181.176865 213.52379 \r\nL 181.268489 214.756364 \r\nL 181.291395 214.756364 \r\nL 181.314301 210.627305 \r\nL 181.394472 213.003998 \r\nL 181.497549 214.756364 \r\nL 181.509002 213.832932 \r\nL 181.554814 210.420948 \r\nL 181.600626 214.756364 \r\nL 181.612079 214.524267 \r\nL 181.623532 195.923536 \r\nL 181.69225 214.756364 \r\nL 181.715156 214.366748 \r\nL 181.738062 212.406176 \r\nL 181.818233 214.756364 \r\nL 181.909857 209.032957 \r\nL 181.92131 211.290111 \r\nL 181.944216 207.782317 \r\nL 182.03584 214.756364 \r\nL 182.058746 214.756364 \r\nL 182.070199 214.640765 \r\nL 182.093105 214.756364 \r\nL 182.104558 210.699841 \r\nL 182.207635 213.271171 \r\nL 182.241994 214.756364 \r\nL 182.287806 213.923145 \r\nL 182.299259 201.100634 \r\nL 182.322165 214.756364 \r\nL 182.390883 214.756364 \r\nL 182.402336 214.756364 \r\nL 182.482508 205.647046 \r\nL 182.505414 214.611916 \r\nL 182.539773 211.437701 \r\nL 182.551226 214.756364 \r\nL 182.608491 214.289548 \r\nL 182.688662 214.756364 \r\nL 182.700115 211.515318 \r\nL 182.791739 214.756364 \r\nL 182.849004 213.495493 \r\nL 182.894816 214.524267 \r\nL 182.929175 214.265367 \r\nL 182.98644 214.756364 \r\nL 183.10097 211.523785 \r\nL 183.192594 214.756364 \r\nL 183.2155 214.361668 \r\nL 183.295671 210.34949 \r\nL 183.261312 214.756364 \r\nL 183.307124 214.756364 \r\nL 183.318577 214.756364 \r\nL 183.33003 212.505987 \r\nL 183.433107 213.962166 \r\nL 183.44456 213.975452 \r\nL 183.524731 214.756364 \r\nL 183.536184 214.70614 \r\nL 183.593449 198.971144 \r\nL 183.55909 214.756364 \r\nL 183.639261 214.756364 \r\nL 183.662167 214.140459 \r\nL 183.67362 214.756364 \r\nL 183.685073 206.821955 \r\nL 183.776697 214.533254 \r\nL 183.833962 213.614628 \r\nL 183.799603 214.756364 \r\nL 183.868321 213.7309 \r\nL 183.914133 208.314739 \r\nL 183.971398 214.756364 \r\nL 183.982851 212.964809 \r\nL 184.074475 213.712746 \r\nL 184.189005 214.756364 \r\nL 184.200458 214.422097 \r\nL 184.292082 190.809132 \r\nL 184.280629 214.756364 \r\nL 184.303536 210.0116 \r\nL 184.383707 201.516118 \r\nL 184.418066 214.756364 \r\nL 184.532596 212.205896 \r\nL 184.589861 210.822421 \r\nL 184.647126 214.756364 \r\nL 184.658579 214.756364 \r\nL 184.704391 212.61681 \r\nL 184.761656 214.727987 \r\nL 184.773109 214.756364 \r\nL 184.784562 214.076848 \r\nL 184.887639 214.19546 \r\nL 184.910545 214.756364 \r\nL 184.921998 204.095866 \r\nL 185.013622 212.724509 \r\nL 185.128152 214.756364 \r\nL 185.219776 206.762138 \r\nL 185.242682 213.193961 \r\nL 185.254135 214.571282 \r\nL 185.265588 212.095248 \r\nL 185.357212 214.330692 \r\nL 185.368665 214.499661 \r\nL 185.380118 214.317357 \r\nL 185.460289 188.524964 \r\nL 185.403024 214.591283 \r\nL 185.494648 212.1273 \r\nL 185.54046 214.756364 \r\nL 185.609178 213.638521 \r\nL 185.65499 212.294885 \r\nL 185.632084 214.756364 \r\nL 185.712255 212.760879 \r\nL 185.723708 214.756364 \r\nL 185.735161 214.621937 \r\nL 185.746614 190.833775 \r\nL 185.758067 214.756364 \r\nL 185.838238 214.155298 \r\nL 185.861144 213.551906 \r\nL 185.929862 214.756364 \r\nL 185.941315 211.354922 \r\nL 186.032939 214.711033 \r\nL 186.044392 214.756364 \r\nL 186.055845 211.542118 \r\nL 186.147469 213.780404 \r\nL 186.250547 214.756364 \r\nL 186.204735 210.434417 \r\nL 186.262 214.470919 \r\nL 186.284906 214.756364 \r\nL 186.296359 208.744618 \r\nL 186.387983 213.770236 \r\nL 186.456701 213.716166 \r\nL 186.502513 214.756364 \r\nL 186.525419 214.756364 \r\nL 186.639949 213.8051 \r\nL 186.743026 214.756364 \r\nL 186.800291 213.233596 \r\nL 186.846103 214.524267 \r\nL 186.857556 214.756364 \r\nL 186.869009 214.470919 \r\nL 186.903368 214.697279 \r\nL 186.914821 186.188274 \r\nL 186.926274 214.756364 \r\nL 187.006445 203.517522 \r\nL 187.109522 214.756364 \r\nL 187.086616 184.836976 \r\nL 187.120975 212.835268 \r\nL 187.155334 208.148796 \r\nL 187.189693 214.756364 \r\nL 187.201146 185.846189 \r\nL 187.29277 213.699363 \r\nL 187.338582 214.756364 \r\nL 187.350035 214.245719 \r\nL 187.361488 207.542782 \r\nL 187.4073 214.756364 \r\nL 187.453112 214.360716 \r\nL 187.464565 214.363661 \r\nL 187.510377 214.756364 \r\nL 187.52183 213.179078 \r\nL 187.533283 213.274453 \r\nL 187.544736 206.273567 \r\nL 187.624907 214.756364 \r\nL 187.63636 206.63442 \r\nL 187.75089 214.756364 \r\nL 187.762343 213.516023 \r\nL 187.86542 214.00478 \r\nL 187.888326 212.992619 \r\nL 187.97995 214.756364 \r\nL 188.060121 209.825267 \r\nL 188.083028 210.805763 \r\nL 188.197558 214.756364 \r\nL 188.231917 214.655916 \r\nL 188.24337 214.020687 \r\nL 188.254823 214.756364 \r\nL 188.346447 214.274085 \r\nL 188.438071 214.756364 \r\nL 188.369353 213.481708 \r\nL 188.460977 214.564088 \r\nL 188.495336 214.281654 \r\nL 188.575507 214.756364 \r\nL 188.609866 214.092363 \r\nL 188.678584 214.756364 \r\nL 188.827473 214.756364 \r\nL 188.873285 184.725908 \r\nL 188.942003 213.126959 \r\nL 188.976362 214.675154 \r\nL 188.999268 212.386563 \r\nL 189.033627 213.246218 \r\nL 189.113798 211.970173 \r\nL 189.079439 214.536111 \r\nL 189.125251 214.101918 \r\nL 189.15961 213.024344 \r\nL 189.239781 214.756364 \r\nL 189.319952 213.502901 \r\nL 189.342858 214.353984 \r\nL 189.354311 214.756364 \r\nL 189.365764 214.570107 \r\nL 189.434482 205.664781 \r\nL 189.400123 214.672962 \r\nL 189.468841 209.867267 \r\nL 189.583371 214.756364 \r\nL 189.594824 214.756364 \r\nL 189.606277 211.568608 \r\nL 189.697901 214.756364 \r\nL 189.789525 209.405074 \r\nL 189.800978 214.756364 \r\nL 189.812431 214.680245 \r\nL 189.823884 211.367878 \r\nL 189.892602 214.756364 \r\nL 189.915508 214.607543 \r\nL 189.926961 214.569855 \r\nL 189.938414 212.483855 \r\nL 189.961321 214.756364 \r\nL 190.030039 214.441044 \r\nL 190.052945 213.41728 \r\nL 190.075851 214.756364 \r\nL 190.087304 211.048859 \r\nL 190.178928 214.756364 \r\nL 190.293458 214.756364 \r\nL 190.316364 210.528442 \r\nL 190.33927 213.968193 \r\nL 190.350723 200.010816 \r\nL 190.362176 214.756364 \r\nL 190.442347 214.726471 \r\nL 190.4538 214.676544 \r\nL 190.465253 214.756364 \r\nL 190.499612 214.756364 \r\nL 190.511065 212.290914 \r\nL 190.602689 214.227937 \r\nL 190.694313 214.756364 \r\nL 190.68286 213.983007 \r\nL 190.705766 213.998508 \r\nL 190.728672 213.7309 \r\nL 190.740125 214.524267 \r\nL 190.808843 190.48047 \r\nL 190.820296 214.756364 \r\nL 190.843202 213.806792 \r\nL 190.91192 211.215646 \r\nL 190.900467 214.756364 \r\nL 190.946279 213.317719 \r\nL 190.980638 212.782205 \r\nL 191.060809 214.756364 \r\nL 191.186792 213.687674 \r\nL 191.198245 214.657988 \r\nL 191.209698 209.734538 \r\nL 191.266963 213.046277 \r\nL 191.358587 194.407903 \r\nL 191.301322 214.401155 \r\nL 191.37004 211.200354 \r\nL 191.392946 214.756364 \r\nL 191.48457 214.65842 \r\nL 191.496023 214.725738 \r\nL 191.576194 209.529566 \r\nL 191.610553 214.0688 \r\nL 191.644912 210.369208 \r\nL 191.690724 214.735189 \r\nL 191.725083 212.362402 \r\nL 191.82816 214.756364 \r\nL 191.839613 213.214578 \r\nL 191.919785 214.668699 \r\nL 191.908332 211.303051 \r\nL 191.931238 214.006911 \r\nL 192.011409 212.219808 \r\nL 191.97705 214.756364 \r\nL 192.034315 214.639807 \r\nL 192.137392 213.782809 \r\nL 192.09158 214.756364 \r\nL 192.148845 214.115933 \r\nL 192.183204 214.756364 \r\nL 192.20611 214.11244 \r\nL 192.251922 208.382588 \r\nL 192.263375 214.756364 \r\nL 192.309187 212.210251 \r\nL 192.32064 214.756364 \r\nL 192.423717 214.680245 \r\nL 192.480982 212.310014 \r\nL 192.526794 214.756364 \r\nL 192.538247 214.756364 \r\nL 192.606965 208.584793 \r\nL 192.652777 213.625641 \r\nL 192.675683 214.756364 \r\nL 192.698589 212.181428 \r\nL 192.710042 209.946256 \r\nL 192.732948 214.756364 \r\nL 192.790213 214.70614 \r\nL 192.801666 214.607434 \r\nL 192.89329 210.479594 \r\nL 192.904743 213.446204 \r\nL 192.996367 211.984106 \r\nL 193.019273 214.756364 \r\nL 193.053632 208.901187 \r\nL 193.12235 214.756364 \r\nL 193.133803 214.024551 \r\nL 193.213974 214.756364 \r\nL 193.225427 198.756989 \r\nL 193.317051 211.350323 \r\nL 193.397222 214.756364 \r\nL 193.374316 210.573278 \r\nL 193.431581 212.909576 \r\nL 193.500299 211.843309 \r\nL 193.534658 214.756364 \r\nL 193.637735 212.676796 \r\nL 193.649188 212.975479 \r\nL 193.729359 212.840072 \r\nL 193.763719 214.756364 \r\nL 193.775172 214.756364 \r\nL 193.855343 212.663015 \r\nL 193.889702 214.020467 \r\nL 193.924061 214.756364 \r\nL 193.946967 213.400019 \r\nL 193.95842 214.536111 \r\nL 193.981326 214.756364 \r\nL 194.07295 207.700624 \r\nL 194.176027 214.756364 \r\nL 194.18748 212.773296 \r\nL 194.198933 212.587593 \r\nL 194.267651 214.756364 \r\nL 194.279104 211.559578 \r\nL 194.313463 214.667515 \r\nL 194.359275 214.528369 \r\nL 194.382181 214.756364 \r\nL 194.439446 214.020687 \r\nL 194.485258 214.756364 \r\nL 194.519617 214.756364 \r\nL 194.588335 212.469542 \r\nL 194.622694 214.756364 \r\nL 194.6456 214.756364 \r\nL 194.679959 212.396426 \r\nL 194.748677 214.756364 \r\nL 194.783036 214.756364 \r\nL 194.851754 213.468724 \r\nL 194.863207 202.337852 \r\nL 194.897566 214.668699 \r\nL 194.954831 214.635496 \r\nL 194.977737 214.756364 \r\nL 195.000643 214.7082 \r\nL 195.057908 212.513072 \r\nL 195.023549 214.756364 \r\nL 195.10372 214.635496 \r\nL 195.195344 212.907304 \r\nL 195.149532 214.756364 \r\nL 195.206797 214.00283 \r\nL 195.264062 214.756364 \r\nL 195.298421 214.671662 \r\nL 195.355686 192.159416 \r\nL 195.390045 214.756364 \r\nL 195.412951 213.807993 \r\nL 195.527481 214.756364 \r\nL 195.550387 214.756364 \r\nL 195.664918 209.330388 \r\nL 195.745089 214.756364 \r\nL 195.779448 214.10506 \r\nL 195.836713 206.302637 \r\nL 195.848166 214.756364 \r\nL 195.893978 213.636042 \r\nL 195.951243 210.441496 \r\nL 195.974149 214.536111 \r\nL 195.985602 197.515635 \r\nL 196.042867 214.756364 \r\nL 196.077226 214.481738 \r\nL 196.088679 211.693154 \r\nL 196.145944 214.756364 \r\nL 196.180303 214.756364 \r\nL 196.191756 214.756364 \r\nL 196.203209 214.635496 \r\nL 196.271927 200.785433 \r\nL 196.306286 206.514038 \r\nL 196.420816 214.756364 \r\nL 196.466628 212.635124 \r\nL 196.523893 214.513991 \r\nL 196.546799 214.123528 \r\nL 196.569705 214.756364 \r\nL 196.604064 208.828315 \r\nL 196.672782 214.488737 \r\nL 196.764406 214.756364 \r\nL 196.867483 205.72847 \r\nL 196.913295 203.785032 \r\nL 196.982013 214.756364 \r\nL 196.993466 214.364318 \r\nL 197.016372 214.570722 \r\nL 197.027825 203.834709 \r\nL 197.119449 214.756364 \r\nL 197.130902 214.756364 \r\nL 197.142355 213.509284 \r\nL 197.233979 214.020687 \r\nL 197.291244 214.756364 \r\nL 197.256885 213.374305 \r\nL 197.31415 214.541818 \r\nL 197.337056 202.105989 \r\nL 197.348509 214.756364 \r\nL 197.42868 208.876865 \r\nL 197.440133 208.18976 \r\nL 197.451586 213.983007 \r\nL 197.463039 213.476656 \r\nL 197.566117 214.756364 \r\nL 197.57757 214.209359 \r\nL 197.634835 214.756364 \r\nL 197.646288 209.396161 \r\nL 197.737912 214.496721 \r\nL 197.829536 214.756364 \r\nL 197.80663 214.118809 \r\nL 197.840989 214.709944 \r\nL 197.852442 214.443474 \r\nL 197.863895 214.756364 \r\nL 197.886801 204.883829 \r\nL 197.966972 214.756364 \r\nL 198.001331 214.672962 \r\nL 198.012784 211.386509 \r\nL 198.03569 214.756364 \r\nL 198.104408 214.48751 \r\nL 198.161673 214.756364 \r\nL 198.173126 213.835755 \r\nL 198.184579 214.245719 \r\nL 198.253297 213.443425 \r\nL 198.218938 214.756364 \r\nL 198.276203 214.176057 \r\nL 198.344921 214.680245 \r\nL 198.310562 213.496291 \r\nL 198.37928 214.309896 \r\nL 198.459451 211.381832 \r\nL 198.402186 214.756364 \r\nL 198.49381 212.698938 \r\nL 198.505263 214.739969 \r\nL 198.596887 214.498102 \r\nL 198.631246 210.756089 \r\nL 198.699964 214.571282 \r\nL 198.711417 211.747358 \r\nL 198.803041 214.756364 \r\nL 198.757229 211.311705 \r\nL 198.825947 214.216734 \r\nL 198.8374 214.736016 \r\nL 198.883212 214.132658 \r\nL 198.929024 214.157915 \r\nL 199.009195 213.028931 \r\nL 198.95193 214.756364 \r\nL 199.043554 213.677919 \r\nL 199.100819 214.756364 \r\nL 199.06646 210.991883 \r\nL 199.135178 214.33231 \r\nL 199.215349 197.751134 \r\nL 199.169537 214.756364 \r\nL 199.238255 212.89649 \r\nL 199.352785 214.756364 \r\nL 199.364238 214.640791 \r\nL 199.467316 214.756364 \r\nL 199.478769 214.147583 \r\nL 199.570393 214.756364 \r\nL 199.581846 214.756364 \r\nL 199.650564 208.985332 \r\nL 199.684923 214.756364 \r\nL 199.696376 214.756364 \r\nL 199.788 214.014556 \r\nL 199.799453 214.047877 \r\nL 199.868171 213.063497 \r\nL 199.90253 214.756364 \r\nL 199.982701 205.828502 \r\nL 200.01706 213.846927 \r\nL 200.051419 213.714621 \r\nL 200.13159 214.756364 \r\nL 200.143043 213.14515 \r\nL 200.234667 214.536094 \r\nL 200.291932 214.104327 \r\nL 200.326291 214.756364 \r\nL 200.429368 163.080873 \r\nL 200.543898 214.756364 \r\nL 200.555351 214.756364 \r\nL 200.624069 211.746102 \r\nL 200.658428 213.779467 \r\nL 200.70424 214.756364 \r\nL 200.715693 214.45656 \r\nL 200.727146 198.362633 \r\nL 200.795864 214.756364 \r\nL 200.81877 214.725738 \r\nL 200.841676 214.756364 \r\nL 200.853129 214.696579 \r\nL 200.944753 213.562176 \r\nL 200.876035 214.756364 \r\nL 200.956206 214.756364 \r\nL 200.967659 214.647869 \r\nL 200.979112 212.748199 \r\nL 201.024924 214.756364 \r\nL 201.070736 214.756364 \r\nL 201.093642 214.756364 \r\nL 201.128001 214.10506 \r\nL 201.196719 214.598381 \r\nL 201.276891 214.326417 \r\nL 201.31125 214.756364 \r\nL 201.322703 214.756364 \r\nL 201.334156 213.263483 \r\nL 201.42578 214.408382 \r\nL 201.460139 214.756364 \r\nL 201.471592 210.808361 \r\nL 201.563216 214.756364 \r\nL 201.666293 213.367804 \r\nL 201.746464 214.756364 \r\nL 201.780823 214.596981 \r\nL 201.815182 214.40422 \r\nL 201.860994 214.756364 \r\nL 201.872447 210.95131 \r\nL 201.964071 213.834409 \r\nL 202.067148 214.756364 \r\nL 202.021336 212.576521 \r\nL 202.078601 214.638446 \r\nL 202.147319 214.756364 \r\nL 202.124413 214.481738 \r\nL 202.158772 214.671666 \r\nL 202.22749 212.744155 \r\nL 202.261849 214.756364 \r\nL 202.273302 214.389646 \r\nL 202.284755 214.559016 \r\nL 202.296208 214.497311 \r\nL 202.319114 214.756364 \r\nL 202.422191 202.439752 \r\nL 202.525268 214.756364 \r\nL 202.536721 214.678659 \r\nL 202.57108 214.072841 \r\nL 202.559627 214.756364 \r\nL 202.593986 214.756364 \r\nL 202.605439 184.168348 \r\nL 202.697063 214.756364 \r\nL 202.719969 214.756364 \r\nL 202.731422 214.366748 \r\nL 202.788687 214.756364 \r\nL 202.80014 206.625108 \r\nL 202.891764 214.695583 \r\nL 202.903217 214.756364 \r\nL 202.960482 204.94432 \r\nL 203.006294 214.756364 \r\nL 203.0292 214.64588 \r\nL 203.120824 204.808035 \r\nL 203.063559 214.756364 \r\nL 203.132277 214.270339 \r\nL 203.166637 214.217978 \r\nL 203.200996 214.756364 \r\nL 203.281167 206.409498 \r\nL 203.315526 212.422832 \r\nL 203.441509 214.756364 \r\nL 203.510227 211.555371 \r\nL 203.544586 214.756364 \r\nL 203.876723 214.756364 \r\nL 203.956894 213.269773 \r\nL 204.025612 197.807917 \r\nL 203.9798 214.756364 \r\nL 204.059971 214.559016 \r\nL 204.117236 211.073835 \r\nL 204.151595 214.756364 \r\nL 204.163048 213.878118 \r\nL 204.277578 214.756364 \r\nL 204.289031 213.811467 \r\nL 204.380655 214.756364 \r\nL 204.392108 214.756364 \r\nL 204.43792 212.675053 \r\nL 204.495185 214.211005 \r\nL 204.518091 214.183256 \r\nL 204.540997 214.756364 \r\nL 204.55245 209.488968 \r\nL 204.563903 214.075923 \r\nL 204.575356 41.266878 \r\nL 204.621168 214.756364 \r\nL 204.66698 213.729398 \r\nL 204.770057 213.687812 \r\nL 204.78151 214.756364 \r\nL 204.861681 214.714015 \r\nL 204.873134 214.756364 \r\nL 204.884587 212.698789 \r\nL 204.976211 214.756364 \r\nL 205.022023 214.288831 \r\nL 205.079289 214.756364 \r\nL 205.125101 214.756364 \r\nL 205.170913 211.861212 \r\nL 205.239631 214.509733 \r\nL 205.296896 214.470016 \r\nL 205.331255 214.756364 \r\nL 205.457238 211.82015 \r\nL 205.548862 214.756364 \r\nL 205.537409 211.634461 \r\nL 205.583221 214.69607 \r\nL 205.594674 214.756364 \r\nL 205.686298 213.747867 \r\nL 205.697751 214.561645 \r\nL 205.720657 214.756364 \r\nL 205.73211 184.697317 \r\nL 205.823734 213.29683 \r\nL 205.949717 214.756364 \r\nL 205.96117 209.041265 \r\nL 206.052794 214.756364 \r\nL 206.064247 214.756364 \r\nL 206.155871 210.474205 \r\nL 206.167324 214.756364 \r\nL 206.236042 214.680245 \r\nL 206.247495 213.195123 \r\nL 206.258948 214.756364 \r\nL 206.339119 213.967163 \r\nL 206.350572 214.470016 \r\nL 206.442196 182.974427 \r\nL 206.384931 214.756364 \r\nL 206.453649 199.677006 \r\nL 206.499461 192.142805 \r\nL 206.568179 214.756364 \r\nL 206.591085 214.756364 \r\nL 206.613991 214.083001 \r\nL 206.64835 214.756364 \r\nL 206.659803 190.735173 \r\nL 206.751427 214.756364 \r\nL 206.76288 212.76206 \r\nL 206.865957 213.011259 \r\nL 206.969035 214.756364 \r\nL 206.980488 214.310531 \r\nL 207.014847 212.164535 \r\nL 207.083565 214.756364 \r\nL 207.117924 213.910992 \r\nL 207.198095 214.140582 \r\nL 207.243907 213.841868 \r\nL 207.278266 214.756364 \r\nL 207.289719 199.090189 \r\nL 207.381343 213.19453 \r\nL 207.404249 214.756364 \r\nL 207.415702 214.292016 \r\nL 207.427155 129.689245 \r\nL 207.450061 214.756364 \r\nL 207.518779 214.180708 \r\nL 207.530232 213.997785 \r\nL 207.541685 194.322385 \r\nL 207.564591 214.756364 \r\nL 207.633309 213.165079 \r\nL 207.724933 214.756364 \r\nL 207.736386 214.047084 \r\nL 207.816557 207.030551 \r\nL 207.770745 214.756364 \r\nL 207.839463 214.756364 \r\nL 207.862369 214.756364 \r\nL 207.873822 181.574677 \r\nL 207.965446 214.756364 \r\nL 208.045617 214.756364 \r\nL 208.160147 212.83222 \r\nL 208.297583 214.756364 \r\nL 208.389207 213.576694 \r\nL 208.40066 214.756364 \r\nL 208.423566 214.756364 \r\nL 208.480831 210.529126 \r\nL 208.526643 214.756364 \r\nL 208.652626 214.756364 \r\nL 208.721344 212.011866 \r\nL 208.755703 214.488512 \r\nL 208.801515 214.299116 \r\nL 208.858781 214.756364 \r\nL 208.870234 214.203297 \r\nL 208.904593 214.756364 \r\nL 208.916046 200.116476 \r\nL 209.00767 214.524267 \r\nL 209.030576 214.756364 \r\nL 209.042029 213.866649 \r\nL 209.064935 214.302399 \r\nL 209.076388 213.617019 \r\nL 209.087841 214.756364 \r\nL 209.168012 214.460479 \r\nL 209.202371 214.756364 \r\nL 209.213824 214.286121 \r\nL 209.225277 199.949759 \r\nL 209.248183 214.756364 \r\nL 209.316901 214.378195 \r\nL 209.385619 213.646468 \r\nL 209.431431 214.756364 \r\nL 209.442884 214.756364 \r\nL 209.454337 214.223965 \r\nL 209.488696 214.756364 \r\nL 209.500149 205.381688 \r\nL 209.591773 214.756364 \r\nL 209.603226 214.718108 \r\nL 209.614679 213.901316 \r\nL 209.626132 214.756364 \r\nL 209.706303 214.747572 \r\nL 209.717756 214.756364 \r\nL 209.729209 213.990921 \r\nL 209.740662 214.756364 \r\nL 209.752115 197.210583 \r\nL 209.843739 214.756364 \r\nL 209.855192 213.356663 \r\nL 209.946816 214.568235 \r\nL 209.958269 214.756364 \r\nL 209.981175 214.362018 \r\nL 209.992628 214.593972 \r\nL 210.049893 201.153465 \r\nL 210.026987 214.756364 \r\nL 210.095705 213.243411 \r\nL 210.164423 214.756364 \r\nL 210.175876 214.116597 \r\nL 210.187329 210.442232 \r\nL 210.256047 214.756364 \r\nL 210.278953 214.01136 \r\nL 210.301859 213.204391 \r\nL 210.359124 214.756364 \r\nL 210.370577 185.686243 \r\nL 210.462201 205.605455 \r\nL 210.508013 214.756364 \r\nL 210.576731 214.548393 \r\nL 210.668355 214.756364 \r\nL 210.782886 213.953308 \r\nL 210.87451 213.021546 \r\nL 210.885963 214.756364 \r\nL 210.897416 204.722681 \r\nL 210.98904 214.689722 \r\nL 211.011946 214.756364 \r\nL 211.115023 198.74547 \r\nL 211.137929 209.446341 \r\nL 211.160835 214.676448 \r\nL 211.2181 201.056056 \r\nL 211.241006 211.981923 \r\nL 211.252459 209.452148 \r\nL 211.286818 214.756364 \r\nL 211.33263 213.619524 \r\nL 211.355536 214.756364 \r\nL 211.366989 214.696946 \r\nL 211.378442 201.854191 \r\nL 211.412801 214.756364 \r\nL 211.481519 204.738623 \r\nL 211.56169 214.756364 \r\nL 211.538784 204.230741 \r\nL 211.596049 214.506158 \r\nL 211.607502 213.32767 \r\nL 211.641861 214.756364 \r\nL 211.710579 214.14925 \r\nL 211.756391 214.756364 \r\nL 211.744938 210.828615 \r\nL 211.779297 214.726471 \r\nL 211.79075 212.199347 \r\nL 211.848015 214.756364 \r\nL 211.893827 213.927973 \r\nL 211.90528 213.841868 \r\nL 211.916733 214.756364 \r\nL 211.973998 210.485433 \r\nL 212.01981 214.212561 \r\nL 212.065622 210.661999 \r\nL 212.099981 214.756364 \r\nL 212.13434 212.570445 \r\nL 212.203058 214.756364 \r\nL 212.214511 210.701675 \r\nL 212.24887 213.983007 \r\nL 212.271776 211.978765 \r\nL 212.294682 214.510941 \r\nL 212.306135 178.388026 \r\nL 212.329041 214.756364 \r\nL 212.397759 208.353156 \r\nL 212.500836 214.756364 \r\nL 212.420665 200.137544 \r\nL 212.512289 214.712795 \r\nL 212.581007 208.651227 \r\nL 212.59246 214.755669 \r\nL 212.62682 212.587033 \r\nL 212.752803 214.756364 \r\nL 212.775709 214.756364 \r\nL 212.787162 214.148872 \r\nL 212.878786 214.756364 \r\nL 212.890239 214.756364 \r\nL 212.901692 195.035941 \r\nL 212.993316 214.415214 \r\nL 213.050581 214.726471 \r\nL 213.096393 204.015609 \r\nL 213.19947 214.756364 \r\nL 213.210923 213.433107 \r\nL 213.256735 213.042079 \r\nL 213.314 214.756364 \r\nL 213.371265 203.190943 \r\nL 213.417077 214.317357 \r\nL 213.42853 152.428651 \r\nL 213.497248 214.756364 \r\nL 213.520154 214.163253 \r\nL 213.531607 214.619509 \r\nL 213.554513 211.873231 \r\nL 213.565966 214.5229 \r\nL 213.577419 202.484624 \r\nL 213.588872 214.756364 \r\nL 213.669043 214.349402 \r\nL 213.737761 214.756364 \r\nL 213.749214 104.672082 \r\nL 213.840838 214.756364 \r\nL 213.863744 214.756364 \r\nL 213.875197 214.550077 \r\nL 213.921009 214.731793 \r\nL 213.966821 209.527234 \r\nL 213.955368 214.756364 \r\nL 214.024086 214.756364 \r\nL 214.069898 213.635834 \r\nL 214.092804 214.756364 \r\nL 214.104257 199.327295 \r\nL 214.195881 211.521781 \r\nL 214.310411 214.756364 \r\nL 214.321864 214.579886 \r\nL 214.413488 214.756364 \r\nL 214.424941 214.756364 \r\nL 214.447847 214.366459 \r\nL 214.470753 214.621937 \r\nL 214.562378 197.043542 \r\nL 214.516566 214.756364 \r\nL 214.585284 207.135313 \r\nL 214.676908 214.756364 \r\nL 214.699814 214.524267 \r\nL 214.757079 211.638784 \r\nL 214.802891 214.756364 \r\nL 214.814344 214.756364 \r\nL 214.825797 169.318927 \r\nL 214.917421 201.046528 \r\nL 214.986139 214.756364 \r\nL 214.997592 214.714015 \r\nL 215.009045 175.586854 \r\nL 215.020498 214.756364 \r\nL 215.100669 214.756364 \r\nL 215.112122 214.735189 \r\nL 215.123575 214.756364 \r\nL 215.203746 210.838795 \r\nL 215.226652 214.756364 \r\nL 215.249558 213.816867 \r\nL 215.283917 214.212561 \r\nL 215.29537 208.749591 \r\nL 215.375541 214.756364 \r\nL 215.386994 214.42872 \r\nL 215.4099 214.384835 \r\nL 215.421353 213.512878 \r\nL 215.432806 214.756364 \r\nL 215.512977 213.662379 \r\nL 215.593148 214.756364 \r\nL 215.604601 213.235449 \r\nL 215.616054 196.326591 \r\nL 215.650413 214.756364 \r\nL 215.707678 214.209359 \r\nL 215.742037 214.756364 \r\nL 215.776396 213.857484 \r\nL 215.787849 161.112131 \r\nL 215.833661 214.756364 \r\nL 215.879473 208.892462 \r\nL 215.994003 214.756364 \r\nL 215.913832 204.242975 \r\nL 216.005456 213.36415 \r\nL 216.119986 214.756364 \r\nL 216.131439 214.735189 \r\nL 216.165798 214.664488 \r\nL 216.200157 214.756364 \r\nL 216.32614 176.114882 \r\nL 216.383406 214.756364 \r\nL 216.440671 212.220455 \r\nL 216.543748 214.756364 \r\nL 216.555201 200.177154 \r\nL 216.646825 214.712846 \r\nL 216.70409 209.46189 \r\nL 216.749902 213.98402 \r\nL 216.841526 213.819605 \r\nL 216.864432 214.756364 \r\nL 216.887338 214.756364 \r\nL 216.898791 212.274031 \r\nL 216.990415 214.756364 \r\nL 217.070586 211.132421 \r\nL 217.116398 213.732783 \r\nL 217.196569 214.756364 \r\nL 217.139304 206.897238 \r\nL 217.230928 214.239826 \r\nL 217.253834 212.418354 \r\nL 217.288193 214.756364 \r\nL 217.299646 203.419575 \r\nL 217.39127 213.749484 \r\nL 217.482894 214.756364 \r\nL 217.494347 214.672962 \r\nL 217.5058 211.849199 \r\nL 217.551612 214.756364 \r\nL 217.597424 214.756364 \r\nL 217.608877 214.70614 \r\nL 217.62033 207.2801 \r\nL 217.654689 214.756364 \r\nL 217.711954 214.756364 \r\nL 217.815031 214.756364 \r\nL 217.84939 212.601555 \r\nL 217.918108 214.566841 \r\nL 217.929561 214.756364 \r\nL 217.941014 213.951605 \r\nL 217.986826 214.756364 \r\nL 218.032638 212.862267 \r\nL 218.147168 214.756364 \r\nL 218.158621 214.756364 \r\nL 218.238792 212.783873 \r\nL 218.284605 213.971282 \r\nL 218.364776 214.756364 \r\nL 218.307511 209.940485 \r\nL 218.399135 214.371285 \r\nL 218.422041 212.780538 \r\nL 218.467853 214.756364 \r\nL 218.502212 214.555468 \r\nL 218.57093 214.756364 \r\nL 218.536571 214.037065 \r\nL 218.582383 214.70614 \r\nL 218.616742 212.25212 \r\nL 218.68546 214.756364 \r\nL 218.731272 214.756364 \r\nL 218.822896 213.24501 \r\nL 218.834349 214.725592 \r\nL 218.891614 214.655916 \r\nL 218.983238 212.515842 \r\nL 218.960332 214.717511 \r\nL 218.994691 214.340945 \r\nL 219.097768 214.756364 \r\nL 219.177939 209.587559 \r\nL 219.223751 211.803482 \r\nL 219.338281 214.756364 \r\nL 219.246657 209.074894 \r\nL 219.349734 214.505244 \r\nL 219.406999 214.756364 \r\nL 219.441358 147.008576 \r\nL 219.510076 194.310112 \r\nL 219.613153 214.756364 \r\nL 219.544435 192.425849 \r\nL 219.624606 214.310531 \r\nL 219.658965 214.519277 \r\nL 219.670418 213.752854 \r\nL 219.750589 214.756364 \r\nL 219.739136 213.108436 \r\nL 219.784948 214.233085 \r\nL 219.796401 214.756364 \r\nL 219.807854 194.331193 \r\nL 219.899478 214.756364 \r\nL 219.910931 213.900635 \r\nL 220.002555 214.524267 \r\nL 220.025461 214.099693 \r\nL 220.105632 214.756364 \r\nL 220.162898 213.921001 \r\nL 220.20871 214.735189 \r\nL 220.220163 214.756364 \r\nL 220.231616 213.923145 \r\nL 220.32324 214.756364 \r\nL 220.346146 214.756364 \r\nL 220.380505 214.118522 \r\nL 220.426317 208.553242 \r\nL 220.414864 214.756364 \r\nL 220.483582 214.756364 \r\nL 220.517941 212.525058 \r\nL 220.586659 214.756364 \r\nL 220.598112 214.756364 \r\nL 220.701189 212.996648 \r\nL 220.815719 214.756364 \r\nL 220.953155 214.756364 \r\nL 220.964608 214.401155 \r\nL 221.067685 214.513915 \r\nL 221.079138 214.44118 \r\nL 221.090591 214.756364 \r\nL 221.136403 214.756364 \r\nL 221.147856 214.756364 \r\nL 221.159309 214.556256 \r\nL 221.170762 214.756364 \r\nL 221.193668 206.291146 \r\nL 221.273839 214.756364 \r\nL 221.342557 213.459148 \r\nL 221.376916 214.756364 \r\nL 221.411275 214.348511 \r\nL 221.422728 214.756364 \r\nL 221.434181 208.263104 \r\nL 221.525805 214.666176 \r\nL 221.594523 214.559795 \r\nL 221.605976 214.756364 \r\nL 221.731959 194.393373 \r\nL 221.846489 214.756364 \r\nL 221.857942 214.756364 \r\nL 221.949566 209.591806 \r\nL 221.972472 214.320816 \r\nL 222.006831 214.14925 \r\nL 222.018284 214.756364 \r\nL 222.098456 210.457677 \r\nL 222.121362 214.712795 \r\nL 222.201533 211.15321 \r\nL 222.19008 214.756364 \r\nL 222.224439 214.590478 \r\nL 222.235892 214.756364 \r\nL 222.247345 214.10506 \r\nL 222.258798 203.901236 \r\nL 222.270251 214.756364 \r\nL 222.350422 211.686883 \r\nL 222.453499 214.756364 \r\nL 222.396234 201.220807 \r\nL 222.464952 214.625885 \r\nL 222.476405 214.756364 \r\nL 222.499311 190.919177 \r\nL 222.579482 214.756364 \r\nL 222.694012 213.062958 \r\nL 222.808542 214.756364 \r\nL 222.819995 214.756364 \r\nL 222.831448 213.765876 \r\nL 222.842901 213.897997 \r\nL 222.854354 176.173139 \r\nL 222.87726 214.756364 \r\nL 222.945978 214.756364 \r\nL 223.026149 214.756364 \r\nL 223.117773 212.523226 \r\nL 223.129226 214.756364 \r\nL 223.152132 214.702339 \r\nL 223.175038 214.756364 \r\nL 223.266662 211.542118 \r\nL 223.381192 214.756364 \r\nL 223.415551 214.756364 \r\nL 223.495722 211.658335 \r\nL 223.518628 214.289548 \r\nL 223.530081 167.220681 \r\nL 223.610252 214.756364 \r\nL 223.621705 214.756364 \r\nL 223.644611 214.680245 \r\nL 223.656064 210.042064 \r\nL 223.747688 214.389646 \r\nL 223.770594 213.724598 \r\nL 223.7935 214.756364 \r\nL 223.896577 208.53083 \r\nL 223.999655 214.756364 \r\nL 224.011108 214.413561 \r\nL 224.045467 209.752685 \r\nL 224.034014 214.756364 \r\nL 224.114185 213.490239 \r\nL 224.228715 214.756364 \r\nL 224.251621 214.726471 \r\nL 224.28598 214.756364 \r\nL 224.354698 214.184806 \r\nL 224.366151 214.756364 \r\nL 224.377604 201.192493 \r\nL 224.469228 214.756364 \r\nL 224.51504 214.328294 \r\nL 224.549399 199.639014 \r\nL 224.560852 214.756364 \r\nL 224.618117 214.756364 \r\nL 224.62957 214.756364 \r\nL 224.641023 214.638446 \r\nL 224.698288 197.86559 \r\nL 224.7441 214.756364 \r\nL 224.801365 214.756364 \r\nL 224.927348 203.487607 \r\nL 225.041878 214.756364 \r\nL 225.053331 213.780502 \r\nL 225.144955 214.70614 \r\nL 225.156408 214.756364 \r\nL 225.179314 206.362885 \r\nL 225.270938 209.607945 \r\nL 225.374015 214.756364 \r\nL 225.385468 214.589259 \r\nL 225.419827 214.756364 \r\nL 225.499998 209.914937 \r\nL 225.614528 214.756364 \r\nL 225.648887 214.130304 \r\nL 225.683246 214.348511 \r\nL 225.694699 206.155245 \r\nL 225.763417 214.756364 \r\nL 225.786323 214.756364 \r\nL 225.797777 214.756364 \r\nL 225.80923 214.621937 \r\nL 225.820683 214.756364 \r\nL 225.832136 210.48147 \r\nL 225.92376 214.756364 \r\nL 225.981025 214.756364 \r\nL 226.084102 209.803965 \r\nL 226.164273 214.756364 \r\nL 226.198632 214.556256 \r\nL 226.278803 214.330266 \r\nL 226.313162 214.756364 \r\nL 226.370427 213.969903 \r\nL 226.416239 214.756364 \r\nL 226.462051 214.756364 \r\nL 226.473504 214.341124 \r\nL 226.530769 214.756364 \r\nL 226.542222 205.605033 \r\nL 226.633846 214.652732 \r\nL 226.656752 213.914252 \r\nL 226.736923 214.756364 \r\nL 226.805641 211.365025 \r\nL 226.851453 213.902123 \r\nL 226.874359 213.564846 \r\nL 226.885812 214.494725 \r\nL 226.897265 203.938593 \r\nL 226.931624 214.756364 \r\nL 226.988889 214.756364 \r\nL 227.023248 214.643717 \r\nL 227.034701 207.864783 \r\nL 227.080513 214.756364 \r\nL 227.126325 214.680245 \r\nL 227.137778 214.691269 \r\nL 227.217949 180.929638 \r\nL 227.195043 214.756364 \r\nL 227.252308 213.925863 \r\nL 227.29812 214.756364 \r\nL 227.275214 208.491773 \r\nL 227.343932 213.211433 \r\nL 227.355385 209.474759 \r\nL 227.401197 214.756364 \r\nL 227.447009 213.443425 \r\nL 227.504274 214.756364 \r\nL 227.538633 212.867043 \r\nL 227.550086 206.482073 \r\nL 227.630257 214.756364 \r\nL 227.64171 214.756364 \r\nL 227.698976 207.137099 \r\nL 227.756241 212.657342 \r\nL 227.824959 214.756364 \r\nL 227.779147 209.772952 \r\nL 227.870771 214.631432 \r\nL 227.928036 214.297144 \r\nL 227.985301 214.756364 \r\nL 228.01966 213.373911 \r\nL 228.088378 214.756364 \r\nL 228.099831 214.756364 \r\nL 228.122737 211.956048 \r\nL 228.202908 214.638446 \r\nL 228.225814 214.638446 \r\nL 228.317438 214.680245 \r\nL 228.340344 212.828275 \r\nL 228.386156 211.900934 \r\nL 228.454874 214.756364 \r\nL 228.569404 212.838366 \r\nL 228.580857 206.848583 \r\nL 228.638122 214.756364 \r\nL 228.672481 214.756364 \r\nL 228.695387 214.756364 \r\nL 228.775558 210.958177 \r\nL 228.809917 213.901316 \r\nL 228.832823 214.756364 \r\nL 228.844276 211.855669 \r\nL 228.901541 214.738315 \r\nL 228.912994 210.684549 \r\nL 228.9359 214.756364 \r\nL 229.016071 213.289256 \r\nL 229.073336 211.575825 \r\nL 229.130601 214.756364 \r\nL 229.142054 214.756364 \r\nL 229.233678 213.457156 \r\nL 229.245131 214.756364 \r\nL 229.256584 214.756364 \r\nL 229.348208 212.950453 \r\nL 229.359661 214.756364 \r\nL 229.371114 214.756364 \r\nL 229.416926 213.518831 \r\nL 229.474191 214.756364 \r\nL 229.485644 214.756364 \r\nL 229.588722 210.232309 \r\nL 229.703252 214.756364 \r\nL 229.714705 214.756364 \r\nL 229.817782 205.306462 \r\nL 229.829235 213.846094 \r\nL 229.897953 213.487248 \r\nL 229.966671 214.756364 \r\nL 229.989577 214.756364 \r\nL 230.092654 211.225778 \r\nL 230.195731 214.756364 \r\nL 230.207184 214.70614 \r\nL 230.252996 214.756364 \r\nL 230.34462 205.873185 \r\nL 230.367526 214.406155 \r\nL 230.390432 213.962601 \r\nL 230.401885 214.756364 \r\nL 230.447697 214.535925 \r\nL 230.482056 214.756364 \r\nL 230.493509 213.614408 \r\nL 230.504962 189.904294 \r\nL 230.516415 214.756364 \r\nL 230.596586 214.168387 \r\nL 230.676757 214.756364 \r\nL 230.619492 213.872747 \r\nL 230.68821 214.601936 \r\nL 230.699663 213.625093 \r\nL 230.711116 214.756364 \r\nL 230.791287 214.702339 \r\nL 230.837099 214.578688 \r\nL 230.848552 214.756364 \r\nL 230.951629 201.396428 \r\nL 231.066159 214.756364 \r\nL 231.111971 127.178887 \r\nL 231.169236 214.756364 \r\nL 231.180689 214.756364 \r\nL 231.203595 213.638521 \r\nL 231.249407 214.756364 \r\nL 231.26086 208.563251 \r\nL 231.352484 214.756364 \r\nL 231.455562 213.946184 \r\nL 231.478468 214.050031 \r\nL 231.52428 214.756364 \r\nL 231.512827 213.306166 \r\nL 231.535733 214.651907 \r\nL 231.627357 210.516333 \r\nL 231.592998 214.756364 \r\nL 231.650263 211.199143 \r\nL 231.684622 214.756364 \r\nL 231.741887 209.138252 \r\nL 231.764793 213.82381 \r\nL 231.86787 185.492668 \r\nL 231.822058 214.756364 \r\nL 231.879323 210.589626 \r\nL 231.948041 214.756364 \r\nL 231.993853 214.313458 \r\nL 232.005306 208.374215 \r\nL 232.039665 214.756364 \r\nL 232.09693 214.497311 \r\nL 232.108383 214.414521 \r\nL 232.119836 207.943631 \r\nL 232.165648 214.756364 \r\nL 232.21146 214.582545 \r\nL 232.303084 214.756364 \r\nL 232.314537 196.088832 \r\nL 232.406161 214.756364 \r\nL 232.429067 214.266421 \r\nL 232.520691 214.362266 \r\nL 232.589409 213.856068 \r\nL 232.635221 214.756364 \r\nL 232.658127 214.756364 \r\nL 232.66958 213.535889 \r\nL 232.772657 214.384902 \r\nL 232.78411 214.631432 \r\nL 232.795563 207.767651 \r\nL 232.864281 214.756364 \r\nL 232.887187 214.756364 \r\nL 232.921546 214.756364 \r\nL 232.932999 214.429732 \r\nL 232.944452 214.756364 \r\nL 232.955905 210.124327 \r\nL 233.047529 214.601749 \r\nL 233.104794 212.910966 \r\nL 233.070435 214.756364 \r\nL 233.162059 214.289784 \r\nL 233.230777 214.756364 \r\nL 233.196418 213.262589 \r\nL 233.24223 213.849942 \r\nL 233.253683 192.979629 \r\nL 233.345308 214.756364 \r\nL 233.356761 214.726471 \r\nL 233.448385 213.003901 \r\nL 233.459838 213.7309 \r\nL 233.528556 211.855969 \r\nL 233.551462 214.756364 \r\nL 233.574368 189.076619 \r\nL 233.654539 214.497311 \r\nL 233.700351 214.191656 \r\nL 233.688898 214.756364 \r\nL 233.746163 214.756364 \r\nL 233.757616 214.756364 \r\nL 233.769069 213.938232 \r\nL 233.872146 214.498147 \r\nL 233.906505 214.756364 \r\nL 233.917958 212.289477 \r\nL 234.021035 212.59259 \r\nL 234.043941 210.60718 \r\nL 234.135565 214.756364 \r\nL 234.169924 214.756364 \r\nL 234.181377 213.945059 \r\nL 234.284454 214.092863 \r\nL 234.341719 214.756364 \r\nL 234.330266 213.953004 \r\nL 234.398984 214.456853 \r\nL 234.410437 214.411599 \r\nL 234.42189 214.607434 \r\nL 234.502061 209.735349 \r\nL 234.467702 214.756364 \r\nL 234.53642 212.454502 \r\nL 234.639497 214.756364 \r\nL 234.559326 209.951352 \r\nL 234.65095 213.810627 \r\nL 234.662403 213.728885 \r\nL 234.673856 211.343134 \r\nL 234.696762 214.756364 \r\nL 234.76548 214.188726 \r\nL 234.776933 214.330266 \r\nL 234.811292 207.230717 \r\nL 234.799839 214.756364 \r\nL 234.88001 212.409962 \r\nL 234.925822 214.756364 \r\nL 234.937275 214.146229 \r\nL 234.948728 187.630617 \r\nL 235.028899 214.756364 \r\nL 235.040352 214.756364 \r\nL 235.051805 214.116597 \r\nL 235.143429 214.756364 \r\nL 235.154882 214.756364 \r\nL 235.189241 212.971143 \r\nL 235.246507 214.69284 \r\nL 235.280866 205.337523 \r\nL 235.326678 214.756364 \r\nL 235.349584 214.756364 \r\nL 235.509926 214.756364 \r\nL 235.567191 207.78752 \r\nL 235.613003 214.608672 \r\nL 235.647362 214.756364 \r\nL 235.635909 214.024203 \r\nL 235.658815 214.638446 \r\nL 235.693174 212.259673 \r\nL 235.704627 214.756364 \r\nL 235.807704 190.433148 \r\nL 235.819157 208.902767 \r\nL 235.922234 214.756364 \r\nL 235.876422 208.425521 \r\nL 235.933687 214.155374 \r\nL 235.94514 214.756364 \r\nL 235.968046 214.061899 \r\nL 236.025311 214.556256 \r\nL 236.094029 212.549324 \r\nL 236.071123 214.756364 \r\nL 236.139841 213.901206 \r\nL 236.254371 214.756364 \r\nL 236.265824 213.716166 \r\nL 236.357448 214.756364 \r\nL 236.368901 214.756364 \r\nL 236.471978 211.690891 \r\nL 236.483431 213.952126 \r\nL 236.575055 214.756364 \r\nL 236.552149 212.479413 \r\nL 236.597961 214.661302 \r\nL 236.609414 214.756364 \r\nL 236.666679 212.619657 \r\nL 236.712491 213.605822 \r\nL 236.723944 214.756364 \r\nL 236.758303 214.601936 \r\nL 236.769756 189.394777 \r\nL 236.792662 214.756364 \r\nL 236.86138 213.979205 \r\nL 236.930098 212.383678 \r\nL 236.97591 214.756364 \r\nL 237.033175 214.756364 \r\nL 237.09044 194.793151 \r\nL 237.147706 209.14106 \r\nL 237.262236 214.756364 \r\nL 237.376766 214.756364 \r\nL 237.388219 213.766298 \r\nL 237.434031 214.302593 \r\nL 237.445484 196.147002 \r\nL 237.514202 214.756364 \r\nL 237.537108 214.756364 \r\nL 237.571467 214.756364 \r\nL 237.58292 208.721427 \r\nL 237.674544 214.394367 \r\nL 237.731809 214.756364 \r\nL 237.789074 205.314029 \r\nL 237.834886 214.317357 \r\nL 237.857792 214.756364 \r\nL 237.892151 212.857664 \r\nL 237.995228 214.756364 \r\nL 238.006681 214.559795 \r\nL 238.04104 214.099941 \r\nL 238.086852 214.756364 \r\nL 238.109758 214.651349 \r\nL 238.144117 214.756364 \r\nL 238.178476 214.546334 \r\nL 238.189929 213.642189 \r\nL 238.224288 214.756364 \r\nL 238.281553 214.124709 \r\nL 238.361724 214.756364 \r\nL 238.304459 213.901316 \r\nL 238.396083 214.659318 \r\nL 238.453348 214.756364 \r\nL 238.464801 214.331791 \r\nL 238.476254 213.353598 \r\nL 238.49916 214.756364 \r\nL 238.567878 214.756364 \r\nL 238.579331 214.756364 \r\nL 238.590784 212.604709 \r\nL 238.682408 214.637097 \r\nL 238.693861 214.756364 \r\nL 238.705314 193.679598 \r\nL 238.796938 214.653212 \r\nL 238.819844 213.951605 \r\nL 238.865656 214.756364 \r\nL 238.888562 211.707605 \r\nL 238.980186 214.353984 \r\nL 239.037452 214.756364 \r\nL 239.048905 214.270416 \r\nL 239.060358 208.61809 \r\nL 239.071811 214.756364 \r\nL 239.151982 214.462966 \r\nL 239.163435 214.756364 \r\nL 239.174888 211.744131 \r\nL 239.266512 214.481738 \r\nL 239.289418 214.756364 \r\nL 239.369589 213.315329 \r\nL 239.426854 214.756364 \r\nL 239.438307 213.035816 \r\nL 239.484119 213.779981 \r\nL 239.507025 214.756364 \r\nL 239.518478 199.223594 \r\nL 239.621555 206.888261 \r\nL 239.690273 214.756364 \r\nL 239.736085 214.683248 \r\nL 239.79335 213.18677 \r\nL 239.758991 214.756364 \r\nL 239.816256 214.685136 \r\nL 239.827709 209.942227 \r\nL 239.839162 214.756364 \r\nL 239.919333 214.756364 \r\nL 239.953692 214.353083 \r\nL 240.033863 214.756364 \r\nL 240.068222 214.756364 \r\nL 240.125487 213.313193 \r\nL 240.171299 214.756364 \r\nL 240.194205 214.756364 \r\nL 240.205658 212.924011 \r\nL 240.297282 214.753005 \r\nL 240.388906 214.756364 \r\nL 240.423265 210.78785 \r\nL 240.491983 211.744571 \r\nL 240.503436 199.079504 \r\nL 240.560701 214.756364 \r\nL 240.59506 214.756364 \r\nL 240.617966 214.756364 \r\nL 240.732496 210.426999 \r\nL 240.835573 214.756364 \r\nL 240.847026 213.787086 \r\nL 240.961557 214.756364 \r\nL 240.984463 214.756364 \r\nL 240.995916 213.746382 \r\nL 241.08754 214.624704 \r\nL 241.098993 214.756364 \r\nL 241.167711 206.468875 \r\nL 241.213523 213.431832 \r\nL 241.224976 214.756364 \r\nL 241.236429 212.705418 \r\nL 241.247882 110.504006 \r\nL 241.270788 214.756364 \r\nL 241.339506 214.481452 \r\nL 241.419677 214.756364 \r\nL 241.465489 207.085612 \r\nL 241.568566 214.756364 \r\nL 241.580019 214.388496 \r\nL 241.683096 214.756364 \r\nL 241.614378 213.629468 \r\nL 241.694549 214.623589 \r\nL 241.717455 213.74175 \r\nL 241.728908 214.756364 \r\nL 241.740361 196.921064 \r\nL 241.831985 213.36309 \r\nL 241.843438 214.756364 \r\nL 241.912156 210.839501 \r\nL 241.935062 214.178741 \r\nL 241.969421 210.020704 \r\nL 242.026686 214.756364 \r\nL 242.038139 214.756364 \r\nL 242.072498 214.756364 \r\nL 242.083951 214.212561 \r\nL 242.175575 214.756364 \r\nL 242.187028 214.638446 \r\nL 242.198481 214.756364 \r\nL 242.209934 208.814908 \r\nL 242.301558 214.672962 \r\nL 242.358823 214.756364 \r\nL 242.507712 209.380865 \r\nL 242.57643 214.756364 \r\nL 242.622242 210.893111 \r\nL 242.713866 214.756364 \r\nL 242.736772 213.668671 \r\nL 242.782585 214.756364 \r\nL 242.794038 190.4084 \r\nL 242.885662 214.756364 \r\nL 242.897115 214.289548 \r\nL 242.965833 196.930033 \r\nL 242.920021 214.756364 \r\nL 243.000192 212.26899 \r\nL 243.114722 214.756364 \r\nL 243.126175 214.504116 \r\nL 243.194893 213.635179 \r\nL 243.149081 214.756364 \r\nL 243.206346 214.309896 \r\nL 243.29797 214.756364 \r\nL 243.240705 213.18677 \r\nL 243.309423 214.603783 \r\nL 243.332329 211.527019 \r\nL 243.343782 213.789757 \r\nL 243.355235 202.384423 \r\nL 243.378141 214.756364 \r\nL 243.446859 214.756364 \r\nL 243.492671 214.756364 \r\nL 243.504124 199.484501 \r\nL 243.595748 214.756364 \r\nL 243.698825 214.035664 \r\nL 243.710278 214.559795 \r\nL 243.733184 214.342051 \r\nL 243.744637 214.504678 \r\nL 243.778996 214.756364 \r\nL 243.767543 213.751138 \r\nL 243.790449 214.672968 \r\nL 243.882073 202.067464 \r\nL 243.836261 214.756364 \r\nL 243.904979 213.822528 \r\nL 243.927885 211.80888 \r\nL 243.939338 214.756364 \r\nL 243.98515 212.515295 \r\nL 244.065321 214.756364 \r\nL 244.019509 210.41358 \r\nL 244.09968 213.2735 \r\nL 244.145492 214.756364 \r\nL 244.156945 197.2103 \r\nL 244.248569 208.027281 \r\nL 244.282928 214.756364 \r\nL 244.271475 207.866005 \r\nL 244.363099 214.495699 \r\nL 244.374552 214.756364 \r\nL 244.386005 212.465817 \r\nL 244.477629 214.756364 \r\nL 244.500535 213.331232 \r\nL 244.592159 214.296505 \r\nL 244.70669 214.756364 \r\nL 244.718143 214.756364 \r\nL 244.729596 213.713975 \r\nL 244.82122 214.756364 \r\nL 244.832673 214.756364 \r\nL 244.844126 213.904456 \r\nL 244.878485 214.15125 \r\nL 244.889938 185.942467 \r\nL 244.912844 214.756364 \r\nL 244.981562 211.935636 \r\nL 245.061733 214.756364 \r\nL 245.096092 213.995601 \r\nL 245.141904 210.724828 \r\nL 245.153357 214.756364 \r\nL 245.16481 207.360995 \r\nL 245.256434 213.472487 \r\nL 245.302246 211.38108 \r\nL 245.370964 214.756364 \r\nL 245.462588 212.502157 \r\nL 245.474041 187.800587 \r\nL 245.485494 214.743176 \r\nL 245.565665 214.582088 \r\nL 245.577118 209.018324 \r\nL 245.600024 214.756364 \r\nL 245.668742 214.073558 \r\nL 245.771819 214.756364 \r\nL 245.691648 211.576519 \r\nL 245.783272 214.346372 \r\nL 245.817631 214.345349 \r\nL 245.85199 214.756364 \r\nL 245.863443 211.859445 \r\nL 245.955067 214.035664 \r\nL 245.977973 214.756364 \r\nL 245.989426 213.47354 \r\nL 246.08105 214.756364 \r\nL 246.069597 211.497246 \r\nL 246.103956 214.244411 \r\nL 246.138315 208.961153 \r\nL 246.149768 214.756364 \r\nL 246.207033 214.005606 \r\nL 246.264298 214.756364 \r\nL 246.275751 213.688397 \r\nL 246.287204 214.347672 \r\nL 246.298657 212.726997 \r\nL 246.344469 214.756364 \r\nL 246.401734 213.443425 \r\nL 246.42464 212.985892 \r\nL 246.516264 214.756364 \r\nL 246.527717 205.472819 \r\nL 246.619342 214.230963 \r\nL 246.653701 214.756364 \r\nL 246.642248 213.306166 \r\nL 246.733872 214.735189 \r\nL 246.814043 210.873916 \r\nL 246.779684 214.756364 \r\nL 246.836949 214.684583 \r\nL 246.882761 214.292548 \r\nL 246.905667 214.756364 \r\nL 246.962932 212.184762 \r\nL 247.008744 213.317719 \r\nL 247.066009 214.756364 \r\nL 247.111821 214.038841 \r\nL 247.180539 213.665265 \r\nL 247.191992 214.756364 \r\nL 247.203445 214.756364 \r\nL 247.214898 214.638446 \r\nL 247.226351 208.918073 \r\nL 247.249257 214.756364 \r\nL 247.317975 213.426886 \r\nL 247.352334 213.245381 \r\nL 247.443958 214.756364 \r\nL 247.466864 212.869749 \r\nL 247.558488 213.78014 \r\nL 247.661565 214.756364 \r\nL 247.673018 214.343944 \r\nL 247.776095 214.756364 \r\nL 247.867719 211.847009 \r\nL 247.879172 214.756364 \r\nL 248.005155 213.12923 \r\nL 248.108232 214.756364 \r\nL 248.119685 214.401664 \r\nL 248.131138 214.184143 \r\nL 248.142591 214.756364 \r\nL 248.17695 214.252113 \r\nL 248.188403 202.914668 \r\nL 248.245668 214.756364 \r\nL 248.280027 214.106052 \r\nL 248.360198 214.756364 \r\nL 248.383104 213.649424 \r\nL 248.40601 213.616529 \r\nL 248.509088 214.756364 \r\nL 248.463276 213.318216 \r\nL 248.520541 214.310531 \r\nL 248.612165 214.756364 \r\nL 248.543447 212.798234 \r\nL 248.635071 214.700605 \r\nL 248.646524 214.756364 \r\nL 248.680883 213.603815 \r\nL 248.749601 214.756364 \r\nL 248.772507 214.756364 \r\nL 248.875584 208.989224 \r\nL 248.932849 214.756364 \r\nL 248.990114 214.635737 \r\nL 249.001567 214.605242 \r\nL 249.081738 210.164562 \r\nL 249.047379 214.756364 \r\nL 249.116097 212.36765 \r\nL 249.196268 214.756364 \r\nL 249.139003 211.640477 \r\nL 249.24208 214.713498 \r\nL 249.333704 211.960821 \r\nL 249.299345 214.756364 \r\nL 249.345157 214.315486 \r\nL 249.35661 214.756364 \r\nL 249.459687 208.393972 \r\nL 249.562764 214.756364 \r\nL 249.494046 206.822083 \r\nL 249.574217 214.044761 \r\nL 249.608576 214.756364 \r\nL 249.631482 214.377178 \r\nL 249.642935 211.181484 \r\nL 249.677294 214.756364 \r\nL 249.734559 214.756364 \r\nL 249.791824 214.756364 \r\nL 249.803277 214.580128 \r\nL 249.826183 214.756364 \r\nL 249.917807 211.341571 \r\nL 249.940713 195.09087 \r\nL 250.032337 214.756364 \r\nL 250.055243 214.340945 \r\nL 250.078149 207.352085 \r\nL 250.089602 214.756364 \r\nL 250.15832 212.282116 \r\nL 250.204132 214.756364 \r\nL 250.261397 212.86066 \r\nL 250.330116 206.301362 \r\nL 250.284303 214.756364 \r\nL 250.353022 214.756364 \r\nL 250.398834 214.4621 \r\nL 250.410287 214.735189 \r\nL 250.42174 205.653185 \r\nL 250.444646 214.756364 \r\nL 250.513364 213.933109 \r\nL 250.524817 214.756364 \r\nL 250.53627 211.356814 \r\nL 250.593535 212.968255 \r\nL 250.604988 210.862513 \r\nL 250.673706 214.70614 \r\nL 250.685159 214.609595 \r\nL 250.708065 214.726471 \r\nL 250.719518 214.368583 \r\nL 250.730971 214.680245 \r\nL 250.742424 210.721656 \r\nL 250.776783 214.756364 \r\nL 250.834048 214.581034 \r\nL 250.856954 214.756364 \r\nL 250.868407 214.417053 \r\nL 250.87986 203.465321 \r\nL 250.891313 214.756364 \r\nL 250.971484 214.317207 \r\nL 251.051655 213.135001 \r\nL 250.99439 214.756364 \r\nL 251.074561 214.60463 \r\nL 251.177638 214.756364 \r\nL 251.10892 214.241676 \r\nL 251.189091 214.717522 \r\nL 251.292168 214.756364 \r\nL 251.315074 214.52234 \r\nL 251.33798 214.756364 \r\nL 251.349433 205.464349 \r\nL 251.441057 214.756364 \r\nL 251.555587 212.818261 \r\nL 251.658664 214.756364 \r\nL 251.670117 214.47543 \r\nL 251.715929 214.756364 \r\nL 251.704476 214.262278 \r\nL 251.727382 214.494725 \r\nL 251.750288 201.314366 \r\nL 251.807553 214.756364 \r\nL 251.841912 212.551769 \r\nL 251.944989 214.756364 \r\nL 251.956442 214.328179 \r\nL 251.967895 214.756364 \r\nL 251.990801 213.882087 \r\nL 252.002254 17.083636 \r\nL 252.048066 214.756364 \r\nL 252.093878 212.663595 \r\nL 252.105331 212.364024 \r\nL 252.116784 214.510428 \r\nL 252.128237 214.756364 \r\nL 252.13969 213.869083 \r\nL 252.231315 182.26194 \r\nL 252.174049 214.756364 \r\nL 252.254221 202.462836 \r\nL 252.345845 214.756364 \r\nL 252.368751 214.46757 \r\nL 252.40311 214.756364 \r\nL 252.460375 214.109613 \r\nL 252.483281 214.566285 \r\nL 252.494734 214.756364 \r\nL 252.506187 206.856383 \r\nL 252.597811 214.756364 \r\nL 252.700888 211.999469 \r\nL 252.7467 214.756364 \r\nL 252.803965 214.14925 \r\nL 252.86123 210.356815 \r\nL 252.907042 214.756364 \r\nL 252.918495 214.756364 \r\nL 252.952854 214.089217 \r\nL 252.964307 208.931936 \r\nL 253.021572 214.756364 \r\nL 253.055931 214.623452 \r\nL 253.067384 214.756364 \r\nL 253.078837 213.817066 \r\nL 253.09029 173.79285 \r\nL 253.181914 214.756364 \r\nL 253.193367 214.756364 \r\nL 253.216273 207.601942 \r\nL 253.296444 213.249057 \r\nL 253.388068 214.756364 \r\nL 253.410974 213.723423 \r\nL 253.456786 213.472487 \r\nL 253.43388 214.756364 \r\nL 253.468239 213.508069 \r\nL 253.536957 212.561861 \r\nL 253.582769 214.756364 \r\nL 253.617128 214.103103 \r\nL 253.628581 214.14925 \r\nL 253.640034 210.089802 \r\nL 253.651487 214.756364 \r\nL 253.743111 212.724035 \r\nL 253.857641 214.756364 \r\nL 253.869094 214.528008 \r\nL 253.903453 213.487758 \r\nL 253.983624 214.756364 \r\nL 254.00653 213.994023 \r\nL 254.086701 210.573574 \r\nL 254.075248 214.756364 \r\nL 254.109608 214.740902 \r\nL 254.132514 214.756364 \r\nL 254.258497 211.095649 \r\nL 254.361574 214.756364 \r\nL 254.373027 214.350942 \r\nL 254.453198 214.756364 \r\nL 254.464651 214.593411 \r\nL 254.476104 213.294496 \r\nL 254.487557 214.756364 \r\nL 254.567728 214.756364 \r\nL 254.579181 214.490101 \r\nL 254.682258 214.603238 \r\nL 254.750976 214.553011 \r\nL 254.773882 214.756364 \r\nL 254.831147 207.331645 \r\nL 254.876959 214.392504 \r\nL 254.945677 214.756364 \r\nL 254.922771 213.34314 \r\nL 254.95713 213.733796 \r\nL 254.968583 205.208217 \r\nL 254.991489 214.756364 \r\nL 255.060207 214.389646 \r\nL 255.094566 213.854567 \r\nL 255.174737 214.756364 \r\nL 255.18619 210.115794 \r\nL 255.277814 214.756364 \r\nL 255.30072 214.756364 \r\nL 255.357985 204.741651 \r\nL 255.403797 214.735189 \r\nL 255.495421 214.363661 \r\nL 255.438156 214.756364 \r\nL 255.506874 214.53203 \r\nL 255.52978 213.391759 \r\nL 255.564139 214.756364 \r\nL 255.609951 212.858728 \r\nL 255.667216 214.756364 \r\nL 255.701575 214.756364 \r\nL 255.724481 211.467602 \r\nL 255.816105 214.344563 \r\nL 255.827558 214.756364 \r\nL 255.850464 214.216295 \r\nL 255.861917 211.907195 \r\nL 255.896276 214.756364 \r\nL 255.953541 214.756364 \r\nL 256.079525 213.7309 \r\nL 256.113884 214.756364 \r\nL 256.125337 212.624506 \r\nL 256.228414 213.973784 \r\nL 256.239867 212.885112 \r\nL 256.262773 214.756364 \r\nL 256.320038 213.749484 \r\nL 256.331491 193.489658 \r\nL 256.388756 214.756364 \r\nL 256.423115 211.616759 \r\nL 256.503286 207.967974 \r\nL 256.549098 214.756364 \r\nL 256.560551 214.756364 \r\nL 256.572004 214.638446 \r\nL 256.583457 214.756364 \r\nL 256.652175 210.370988 \r\nL 256.697987 213.503511 \r\nL 256.778158 212.92824 \r\nL 256.812517 214.756364 \r\nL 256.915594 203.923251 \r\nL 257.030124 214.756364 \r\nL 257.041577 214.756364 \r\nL 257.110295 212.159727 \r\nL 257.156107 213.749484 \r\nL 257.201919 214.756364 \r\nL 257.213372 204.509603 \r\nL 257.304996 214.756364 \r\nL 257.350808 214.739398 \r\nL 257.453885 213.277695 \r\nL 257.39662 214.756364 \r\nL 257.476791 214.024203 \r\nL 257.522603 211.815149 \r\nL 257.591321 214.756364 \r\nL 257.602774 214.48585 \r\nL 257.694398 214.756364 \r\nL 257.797475 214.702339 \r\nL 257.877647 213.310675 \r\nL 257.820381 214.756364 \r\nL 257.923459 213.409923 \r\nL 257.934912 214.756364 \r\nL 257.946365 214.524267 \r\nL 257.957818 159.27325 \r\nL 258.00363 214.756364 \r\nL 258.049442 214.027944 \r\nL 258.060895 203.416464 \r\nL 258.106707 214.644181 \r\nL 258.152519 214.302593 \r\nL 258.244143 214.756364 \r\nL 258.186878 212.277328 \r\nL 258.267049 214.718108 \r\nL 258.278502 214.756364 \r\nL 258.34722 205.769821 \r\nL 258.381579 214.756364 \r\nL 258.393032 214.756364 \r\nL 258.404485 210.501566 \r\nL 258.496109 212.716203 \r\nL 258.57628 214.756364 \r\nL 258.541921 211.060478 \r\nL 258.610639 213.295949 \r\nL 258.713716 214.756364 \r\nL 258.725169 214.694129 \r\nL 258.782434 214.222717 \r\nL 258.748075 214.756364 \r\nL 258.816793 214.756364 \r\nL 258.828246 214.756364 \r\nL 258.931323 212.920426 \r\nL 259.011494 214.756364 \r\nL 258.988588 207.0383 \r\nL 259.045853 214.640765 \r\nL 259.068759 214.756364 \r\nL 259.080212 214.561717 \r\nL 259.137477 199.996641 \r\nL 259.171836 214.756364 \r\nL 259.194742 213.114012 \r\nL 259.206195 212.989332 \r\nL 259.229101 213.496372 \r\nL 259.252007 212.779771 \r\nL 259.343631 214.756364 \r\nL 259.423802 211.265828 \r\nL 259.446708 214.756364 \r\nL 259.458161 214.691709 \r\nL 259.469614 214.756364 \r\nL 259.481067 200.892847 \r\nL 259.572691 214.756364 \r\nL 259.629956 214.756364 \r\nL 259.744486 204.562803 \r\nL 259.790299 180.932458 \r\nL 259.801752 214.756364 \r\nL 259.847564 203.630116 \r\nL 259.927735 214.756364 \r\nL 259.939188 190.314349 \r\nL 260.030812 213.097941 \r\nL 260.122436 214.756364 \r\nL 260.065171 210.46426 \r\nL 260.133889 214.512436 \r\nL 260.21406 212.304126 \r\nL 260.225513 214.756364 \r\nL 260.236966 214.756364 \r\nL 260.259872 213.603815 \r\nL 260.271325 214.756364 \r\nL 260.282778 208.466917 \r\nL 260.374402 210.720342 \r\nL 260.477479 214.756364 \r\nL 260.488932 214.719725 \r\nL 260.569103 214.756364 \r\nL 260.603462 199.760812 \r\nL 260.67218 213.02051 \r\nL 260.740898 212.089898 \r\nL 260.798163 214.756364 \r\nL 260.809616 214.756364 \r\nL 260.912693 209.235639 \r\nL 260.924146 214.365839 \r\nL 260.958505 214.756364 \r\nL 260.947052 213.289856 \r\nL 260.969958 214.211005 \r\nL 260.981411 209.727007 \r\nL 261.073035 214.756364 \r\nL 261.084488 214.756364 \r\nL 261.199018 210.627535 \r\nL 261.210471 213.625584 \r\nL 261.290642 214.756364 \r\nL 261.233377 212.422873 \r\nL 261.325001 214.65276 \r\nL 261.370813 214.756364 \r\nL 261.439531 213.509911 \r\nL 261.542608 214.756364 \r\nL 261.519702 210.416791 \r\nL 261.554061 214.680245 \r\nL 261.645686 211.354681 \r\nL 261.599873 214.756364 \r\nL 261.657139 214.756364 \r\nL 261.691498 214.660252 \r\nL 261.702951 212.052764 \r\nL 261.725857 214.756364 \r\nL 261.806028 212.833775 \r\nL 261.863293 209.234533 \r\nL 261.874746 214.756364 \r\nL 261.909105 213.325008 \r\nL 261.943464 205.97241 \r\nL 262.023635 214.756364 \r\nL 262.046541 214.756364 \r\nL 262.057994 211.66378 \r\nL 262.149618 214.521266 \r\nL 262.218336 209.319982 \r\nL 262.206883 214.756364 \r\nL 262.252695 214.703214 \r\nL 262.264148 206.853396 \r\nL 262.332866 214.756364 \r\nL 262.355772 214.191656 \r\nL 262.447396 214.756364 \r\nL 262.435943 213.041263 \r\nL 262.458849 214.720266 \r\nL 262.470302 210.366185 \r\nL 262.493208 214.756364 \r\nL 262.561926 213.232111 \r\nL 262.596285 214.756364 \r\nL 262.607738 212.922708 \r\nL 262.642097 214.672962 \r\nL 262.722268 182.516006 \r\nL 262.733721 214.756364 \r\nL 262.745174 214.052815 \r\nL 262.756627 214.668699 \r\nL 262.76808 206.471346 \r\nL 262.836798 214.756364 \r\nL 262.859704 214.756364 \r\nL 262.871157 214.756364 \r\nL 262.88261 205.769222 \r\nL 262.974234 214.451629 \r\nL 262.985687 212.391167 \r\nL 262.99714 214.756364 \r\nL 263.077311 213.112264 \r\nL 263.088764 214.756364 \r\nL 263.146029 207.833682 \r\nL 263.168935 214.680245 \r\nL 263.191841 214.756364 \r\nL 263.283465 208.178693 \r\nL 263.397995 214.756364 \r\nL 263.409448 214.499013 \r\nL 263.432354 214.756364 \r\nL 263.546885 206.482997 \r\nL 263.627056 214.715417 \r\nL 263.649962 214.452941 \r\nL 263.661415 206.697128 \r\nL 263.684321 214.756364 \r\nL 263.753039 212.787062 \r\nL 263.764492 213.698744 \r\nL 263.775945 170.767229 \r\nL 263.787398 214.756364 \r\nL 263.867569 214.756364 \r\nL 263.879022 214.756364 \r\nL 263.970646 204.09982 \r\nL 263.993552 207.049197 \r\nL 264.096629 214.756364 \r\nL 264.108082 214.571282 \r\nL 264.1768 208.528484 \r\nL 264.165347 214.756364 \r\nL 264.222612 209.57381 \r\nL 264.302783 214.756364 \r\nL 264.337142 214.576906 \r\nL 264.428766 214.756364 \r\nL 264.440219 211.133669 \r\nL 264.554749 214.756364 \r\nL 264.577655 214.756364 \r\nL 264.63492 212.130343 \r\nL 264.692185 213.577167 \r\nL 264.772356 214.756364 \r\nL 264.715091 210.731372 \r\nL 264.806715 214.536111 \r\nL 264.818168 214.647869 \r\nL 264.829621 214.267828 \r\nL 264.841074 211.571315 \r\nL 264.852527 214.756364 \r\nL 264.932698 214.583971 \r\nL 264.989963 214.756364 \r\nL 264.967057 214.465438 \r\nL 265.001416 214.547997 \r\nL 265.047228 209.724787 \r\nL 265.058681 214.756364 \r\nL 265.115946 213.041043 \r\nL 265.219023 214.756364 \r\nL 265.276288 214.586152 \r\nL 265.287741 207.084682 \r\nL 265.310647 214.712795 \r\nL 265.379365 214.70614 \r\nL 265.402271 214.756364 \r\nL 265.505349 209.986554 \r\nL 265.539708 206.271122 \r\nL 265.619879 214.756364 \r\nL 265.722956 205.40416 \r\nL 265.734409 213.90105 \r\nL 265.745862 214.756364 \r\nL 265.780221 209.337637 \r\nL 265.837486 214.510865 \r\nL 265.906204 212.825072 \r\nL 265.871845 214.756364 \r\nL 265.952016 213.224429 \r\nL 266.020734 214.756364 \r\nL 266.066546 213.96275 \r\nL 266.077999 213.98547 \r\nL 266.089452 213.822929 \r\nL 266.123811 213.349336 \r\nL 266.135264 214.719038 \r\nL 266.181076 214.466637 \r\nL 266.226888 212.526132 \r\nL 266.2727 214.756364 \r\nL 266.284153 214.756364 \r\nL 266.295606 214.519444 \r\nL 266.398683 204.214461 \r\nL 266.341418 214.756364 \r\nL 266.410136 212.025298 \r\nL 266.467401 207.07759 \r\nL 266.444495 214.756364 \r\nL 266.513213 211.708407 \r\nL 266.559025 214.756364 \r\nL 266.627743 214.348511 \r\nL 266.650649 213.671991 \r\nL 266.719367 214.756364 \r\nL 266.765179 213.082995 \r\nL 266.822444 214.756364 \r\nL 266.856803 214.14925 \r\nL 266.925521 214.756364 \r\nL 266.971333 214.756364 \r\nL 267.028598 208.104234 \r\nL 267.097316 212.911105 \r\nL 267.211846 214.756364 \r\nL 267.223299 207.440238 \r\nL 267.314924 213.398798 \r\nL 267.418001 214.756364 \r\nL 267.429454 214.14925 \r\nL 267.45236 213.26173 \r\nL 267.463813 210.047947 \r\nL 267.486719 214.756364 \r\nL 267.555437 214.756364 \r\nL 267.624155 213.439287 \r\nL 267.669967 213.642189 \r\nL 267.727232 214.645517 \r\nL 267.750138 212.328818 \r\nL 267.79595 188.097569 \r\nL 267.773044 214.756364 \r\nL 267.853215 214.756364 \r\nL 267.933386 213.51286 \r\nL 267.956292 214.601749 \r\nL 267.979198 214.756364 \r\nL 267.990651 208.579471 \r\nL 268.082275 214.756364 \r\nL 268.116634 213.374305 \r\nL 268.128087 214.325271 \r\nL 268.13954 198.68894 \r\nL 268.162446 214.756364 \r\nL 268.231164 214.756364 \r\nL 268.288429 211.472019 \r\nL 268.334241 212.747954 \r\nL 268.391506 206.476441 \r\nL 268.448771 214.756364 \r\nL 268.563301 214.70614 \r\nL 268.654925 212.751072 \r\nL 268.666378 214.756364 \r\nL 268.71219 214.756364 \r\nL 268.803814 211.735659 \r\nL 268.815267 214.485019 \r\nL 268.861079 214.756364 \r\nL 268.849626 214.403059 \r\nL 268.872532 214.536111 \r\nL 268.94125 210.758329 \r\nL 268.895438 214.756364 \r\nL 268.987062 212.653914 \r\nL 269.032874 214.756364 \r\nL 269.009968 212.614531 \r\nL 269.078686 213.95316 \r\nL 269.113045 214.756364 \r\nL 269.193217 210.869424 \r\nL 269.307747 214.756364 \r\nL 269.399371 213.478022 \r\nL 269.410824 214.756364 \r\nL 269.422277 214.756364 \r\nL 269.502448 211.596411 \r\nL 269.513901 166.208193 \r\nL 269.559713 214.672962 \r\nL 269.605525 214.298983 \r\nL 269.66279 214.756364 \r\nL 269.708602 211.603054 \r\nL 269.765867 214.756364 \r\nL 269.788773 212.587196 \r\nL 269.800226 174.675149 \r\nL 269.811679 214.756364 \r\nL 269.903303 199.966455 \r\nL 269.926209 199.328703 \r\nL 270.029286 214.756364 \r\nL 270.040739 214.756364 \r\nL 270.086551 212.584016 \r\nL 270.155269 212.976452 \r\nL 270.223987 214.756364 \r\nL 270.269799 214.642872 \r\nL 270.34997 211.693928 \r\nL 270.292705 214.756364 \r\nL 270.372876 214.756364 \r\nL 270.395782 214.756364 \r\nL 270.407235 214.020687 \r\nL 270.498859 214.756364 \r\nL 270.533218 214.756364 \r\nL 270.556124 213.721824 \r\nL 270.636295 214.756364 \r\nL 270.739372 212.722628 \r\nL 270.796637 205.471498 \r\nL 270.853902 214.756364 \r\nL 270.865355 214.756364 \r\nL 270.979885 213.640606 \r\nL 271.002791 213.543501 \r\nL 271.094416 214.756364 \r\nL 271.105869 214.542054 \r\nL 271.117322 214.756364 \r\nL 271.128775 210.781354 \r\nL 271.220399 214.756364 \r\nL 271.231852 214.756364 \r\nL 271.334929 208.409802 \r\nL 271.346382 214.361668 \r\nL 271.357835 214.361668 \r\nL 271.369288 214.756364 \r\nL 271.380741 212.849641 \r\nL 271.403647 214.426722 \r\nL 271.4151 211.239053 \r\nL 271.426553 214.756364 \r\nL 271.506724 214.756364 \r\nL 271.563989 214.756364 \r\nL 271.598348 207.04082 \r\nL 271.689972 208.901445 \r\nL 271.804502 214.756364 \r\nL 271.827408 212.946718 \r\nL 271.907579 214.756364 \r\nL 271.919032 214.756364 \r\nL 271.953391 212.412144 \r\nL 272.022109 214.756364 \r\nL 272.045015 214.756364 \r\nL 272.136639 211.616379 \r\nL 272.159545 214.219065 \r\nL 272.296981 214.756364 \r\nL 272.342793 214.756364 \r\nL 272.365699 214.509733 \r\nL 272.377152 214.756364 \r\nL 272.388605 209.91893 \r\nL 272.480229 211.849821 \r\nL 272.491682 214.756364 \r\nL 272.514588 211.203862 \r\nL 272.548947 214.353984 \r\nL 272.5604 172.133252 \r\nL 272.571853 214.756364 \r\nL 272.652024 193.584155 \r\nL 272.720742 214.756364 \r\nL 272.766554 212.949613 \r\nL 272.778007 214.725738 \r\nL 272.78946 161.54959 \r\nL 272.800913 214.756364 \r\nL 272.881084 214.267828 \r\nL 272.90399 214.756364 \r\nL 272.915443 214.651349 \r\nL 272.972709 147.575645 \r\nL 272.949802 214.756364 \r\nL 273.018521 214.756364 \r\nL 273.029974 214.756364 \r\nL 273.110145 213.271171 \r\nL 273.121598 172.905344 \r\nL 273.144504 214.756364 \r\nL 273.213222 202.345754 \r\nL 273.316299 214.756364 \r\nL 273.327752 213.779407 \r\nL 273.362111 214.756364 \r\nL 273.373564 212.493667 \r\nL 273.430829 213.621021 \r\nL 273.453735 211.087269 \r\nL 273.499547 214.756364 \r\nL 273.533906 214.559795 \r\nL 273.556812 214.756364 \r\nL 273.568265 213.992382 \r\nL 273.579718 214.327146 \r\nL 273.614077 206.034019 \r\nL 273.648436 214.756364 \r\nL 273.694248 213.504563 \r\nL 273.751513 214.756364 \r\nL 273.774419 212.237251 \r\nL 273.797325 214.188728 \r\nL 273.85459 204.397708 \r\nL 273.820231 214.756364 \r\nL 273.900402 214.497311 \r\nL 274.003479 214.756364 \r\nL 273.96912 213.73661 \r\nL 274.014932 214.572427 \r\nL 274.060744 214.445405 \r\nL 274.08365 214.756364 \r\nL 274.186727 211.014255 \r\nL 274.19818 213.198983 \r\nL 274.301257 214.756364 \r\nL 274.31271 213.478592 \r\nL 274.450146 214.756364 \r\nL 274.507411 208.111429 \r\nL 274.553223 213.078442 \r\nL 274.6563 212.75409 \r\nL 274.667753 214.756364 \r\nL 274.77083 210.790014 \r\nL 274.782283 212.908412 \r\nL 274.862455 214.756364 \r\nL 274.908267 214.625939 \r\nL 274.976985 214.260844 \r\nL 274.931173 214.756364 \r\nL 274.988438 214.756364 \r\nL 274.999891 214.756364 \r\nL 275.022797 214.060583 \r\nL 275.03425 214.333495 \r\nL 275.102968 207.405474 \r\nL 275.137327 214.756364 \r\nL 275.14878 214.756364 \r\nL 275.194592 211.898319 \r\nL 275.26331 213.20495 \r\nL 275.354934 214.756364 \r\nL 275.389293 214.388496 \r\nL 275.435105 214.756364 \r\nL 275.49237 213.683861 \r\nL 275.572541 211.99472 \r\nL 275.595447 214.756364 \r\nL 275.698524 208.824192 \r\nL 275.709977 213.765977 \r\nL 275.72143 213.819605 \r\nL 275.732883 209.08288 \r\nL 275.767242 214.756364 \r\nL 275.824507 214.756364 \r\nL 275.83596 212.914823 \r\nL 275.927584 214.423399 \r\nL 275.939037 214.345349 \r\nL 275.95049 214.756364 \r\nL 275.961943 214.717511 \r\nL 275.973396 211.37237 \r\nL 275.996302 214.756364 \r\nL 276.06502 213.671983 \r\nL 276.17955 214.756364 \r\nL 276.191003 214.717511 \r\nL 276.282627 213.733796 \r\nL 276.248268 214.756364 \r\nL 276.29408 214.370774 \r\nL 276.305533 214.756364 \r\nL 276.328439 213.703668 \r\nL 276.351345 214.298977 \r\nL 276.362798 210.310716 \r\nL 276.442969 214.756364 \r\nL 276.454422 214.756364 \r\nL 276.500234 213.208169 \r\nL 276.591858 198.893125 \r\nL 276.557499 214.756364 \r\nL 276.603311 210.937552 \r\nL 276.626217 210.10172 \r\nL 276.717841 214.756364 \r\nL 276.763654 214.756364 \r\nL 276.889637 205.888134 \r\nL 276.912543 214.756364 \r\nL 277.004167 213.629468 \r\nL 277.01562 134.379428 \r\nL 277.084338 214.726471 \r\nL 277.107244 213.472487 \r\nL 277.221774 214.756364 \r\nL 277.290492 209.252303 \r\nL 277.336304 213.980911 \r\nL 277.347757 212.984785 \r\nL 277.35921 194.106136 \r\nL 277.450834 214.756364 \r\nL 277.462287 214.604066 \r\nL 277.519552 214.756364 \r\nL 277.576817 210.606874 \r\nL 277.714253 214.756364 \r\nL 277.725706 214.481452 \r\nL 277.794424 214.756364 \r\nL 277.805877 214.661302 \r\nL 277.908954 213.438701 \r\nL 277.851689 214.756364 \r\nL 277.920407 213.749484 \r\nL 277.943313 212.725895 \r\nL 278.04639 214.756364 \r\nL 278.069296 214.756364 \r\nL 278.16092 211.528306 \r\nL 278.183826 212.747607 \r\nL 278.252544 214.756364 \r\nL 278.298356 214.298983 \r\nL 278.378527 214.756364 \r\nL 278.355621 212.623469 \r\nL 278.38998 213.787485 \r\nL 278.401433 212.842269 \r\nL 278.435792 214.756364 \r\nL 278.481604 214.191656 \r\nL 278.493057 214.497311 \r\nL 278.50451 214.221889 \r\nL 278.550322 208.009741 \r\nL 278.527416 214.756364 \r\nL 278.607587 214.756364 \r\nL 278.710665 213.13337 \r\nL 278.756477 212.419316 \r\nL 278.825195 214.756364 \r\nL 278.836648 211.449728 \r\nL 278.928272 214.100784 \r\nL 278.962631 212.651557 \r\nL 279.054255 214.756364 \r\nL 279.145879 213.431756 \r\nL 279.157332 214.325351 \r\nL 279.214597 214.756364 \r\nL 279.180238 213.677736 \r\nL 279.248956 214.680245 \r\nL 279.260409 206.78785 \r\nL 279.329127 214.756364 \r\nL 279.352033 214.756364 \r\nL 279.386392 214.756364 \r\nL 279.432204 211.187752 \r\nL 279.512375 214.048519 \r\nL 279.592546 214.756364 \r\nL 279.546734 212.890065 \r\nL 279.615452 214.050098 \r\nL 279.626905 213.811578 \r\nL 279.638358 214.756364 \r\nL 279.695623 214.494725 \r\nL 279.7987 214.756364 \r\nL 279.729982 213.312911 \r\nL 279.810153 214.62109 \r\nL 279.901777 212.103805 \r\nL 279.833059 214.756364 \r\nL 279.924683 213.264968 \r\nL 279.959042 214.756364 \r\nL 279.981948 211.909249 \r\nL 279.993401 200.133649 \r\nL 280.073572 214.756364 \r\nL 280.096478 207.347913 \r\nL 280.176649 204.349135 \r\nL 280.199555 214.756364 \r\nL 280.233914 200.685525 \r\nL 280.314085 211.006541 \r\nL 280.325538 214.69274 \r\nL 280.428615 213.534268 \r\nL 280.48588 214.756364 \r\nL 280.497334 214.711033 \r\nL 280.508787 196.41491 \r\nL 280.566052 214.756364 \r\nL 280.600411 214.525994 \r\nL 280.623317 213.493358 \r\nL 280.669129 214.756364 \r\nL 280.703488 214.530648 \r\nL 280.7493 214.756364 \r\nL 280.737847 214.154538 \r\nL 280.760753 214.725738 \r\nL 280.795112 212.112773 \r\nL 280.840924 214.756364 \r\nL 280.86383 214.756364 \r\nL 280.921095 214.756364 \r\nL 280.944001 210.545408 \r\nL 281.035625 214.062884 \r\nL 281.058531 214.756364 \r\nL 281.161608 205.979163 \r\nL 281.276138 214.756364 \r\nL 281.287591 214.756364 \r\nL 281.43648 211.692678 \r\nL 281.528104 214.756364 \r\nL 281.539557 207.022862 \r\nL 281.631181 214.756364 \r\nL 281.642634 214.084486 \r\nL 281.745711 214.422498 \r\nL 281.78007 214.756364 \r\nL 281.802976 214.638446 \r\nL 281.825882 213.10141 \r\nL 281.848788 214.756364 \r\nL 281.906053 214.756364 \r\nL 281.940412 210.749205 \r\nL 282.00913 214.513214 \r\nL 282.032036 214.317357 \r\nL 282.077848 214.756364 \r\nL 282.112207 209.674932 \r\nL 282.180925 213.449211 \r\nL 282.203831 210.139475 \r\nL 282.272549 214.756364 \r\nL 282.284002 149.936538 \r\nL 282.375626 213.245381 \r\nL 282.478704 213.057658 \r\nL 282.490157 214.756364 \r\nL 282.513063 214.756364 \r\nL 282.593234 214.123528 \r\nL 282.61614 214.270416 \r\nL 282.627593 214.756364 \r\nL 282.684858 201.19545 \r\nL 282.73067 214.536094 \r\nL 282.742123 214.621937 \r\nL 282.799388 209.245785 \r\nL 282.776482 214.756364 \r\nL 282.8452 214.583335 \r\nL 282.856653 214.467112 \r\nL 282.868106 214.756364 \r\nL 282.936824 214.608048 \r\nL 282.95973 213.709807 \r\nL 283.039901 214.756364 \r\nL 283.051354 214.504984 \r\nL 283.062807 214.756364 \r\nL 283.07426 210.505332 \r\nL 283.165884 214.551266 \r\nL 283.177337 214.756364 \r\nL 283.18879 214.001479 \r\nL 283.223149 214.703617 \r\nL 283.234602 211.67765 \r\nL 283.246055 214.756364 \r\nL 283.326226 213.235484 \r\nL 283.41785 214.756364 \r\nL 283.394944 209.746268 \r\nL 283.440756 214.409182 \r\nL 283.463662 211.648831 \r\nL 283.486568 214.756364 \r\nL 283.53238 214.05107 \r\nL 283.624004 214.756364 \r\nL 283.669816 209.695368 \r\nL 283.738534 214.160081 \r\nL 283.818705 214.756364 \r\nL 283.830158 213.216664 \r\nL 283.853064 214.6809 \r\nL 283.944688 211.265332 \r\nL 283.887423 214.756364 \r\nL 283.956141 214.756364 \r\nL 283.979047 213.78436 \r\nL 284.047765 214.312815 \r\nL 284.059218 210.233631 \r\nL 284.150842 214.668095 \r\nL 284.185201 214.756364 \r\nL 284.288279 205.001133 \r\nL 284.391356 214.756364 \r\nL 284.402809 214.10506 \r\nL 284.414262 213.604959 \r\nL 284.425715 214.756364 \r\nL 284.505886 214.323473 \r\nL 284.517339 214.668699 \r\nL 284.540245 212.895205 \r\nL 284.551698 209.855675 \r\nL 284.574604 214.756364 \r\nL 284.643322 214.031346 \r\nL 284.666228 213.927963 \r\nL 284.780758 214.756364 \r\nL 284.792211 214.708254 \r\nL 284.803664 214.756364 \r\nL 284.815117 214.118522 \r\nL 284.906741 214.756364 \r\nL 284.975459 214.756364 \r\nL 285.009818 211.957048 \r\nL 285.078536 214.756364 \r\nL 285.112895 214.756364 \r\nL 285.124348 213.848281 \r\nL 285.215972 214.756364 \r\nL 285.238878 214.756364 \r\nL 285.319049 213.154165 \r\nL 285.353408 214.304961 \r\nL 285.376314 213.922049 \r\nL 285.467938 214.756364 \r\nL 285.571015 195.362924 \r\nL 285.582468 212.055523 \r\nL 285.639733 214.756364 \r\nL 285.685545 214.714015 \r\nL 285.696998 205.68544 \r\nL 285.731357 214.756364 \r\nL 285.788622 213.774795 \r\nL 285.811528 214.756364 \r\nL 285.834434 212.913841 \r\nL 285.845887 199.60631 \r\nL 285.880246 214.756364 \r\nL 285.937511 212.696505 \r\nL 286.052041 214.756364 \r\nL 286.063494 214.545034 \r\nL 286.155119 214.72035 \r\nL 286.166572 214.756364 \r\nL 286.189478 214.5532 \r\nL 286.212384 214.726471 \r\nL 286.223837 209.938684 \r\nL 286.23529 214.756364 \r\nL 286.315461 214.756364 \r\nL 286.34982 213.996743 \r\nL 286.395632 209.628187 \r\nL 286.372726 214.732309 \r\nL 286.441444 213.762528 \r\nL 286.452897 214.712795 \r\nL 286.498709 211.179059 \r\nL 286.555974 214.392652 \r\nL 286.57888 213.97286 \r\nL 286.659051 198.655536 \r\nL 286.636145 214.756364 \r\nL 286.681957 213.624962 \r\nL 286.762128 214.756364 \r\nL 286.773581 210.90044 \r\nL 286.785034 214.168884 \r\nL 286.796487 162.66411 \r\nL 286.80794 214.756364 \r\nL 286.888111 209.645618 \r\nL 286.933923 214.756364 \r\nL 287.002641 214.10506 \r\nL 287.048453 211.145904 \r\nL 287.117171 214.756364 \r\nL 287.162983 212.667606 \r\nL 287.220248 214.756364 \r\nL 287.243154 214.756364 \r\nL 287.311872 208.620232 \r\nL 287.346231 214.282154 \r\nL 287.369137 214.70614 \r\nL 287.38059 213.42446 \r\nL 287.426402 214.477022 \r\nL 287.460761 214.756364 \r\nL 287.540932 212.3524 \r\nL 287.655462 214.756364 \r\nL 287.666915 214.735189 \r\nL 287.769992 212.200285 \r\nL 287.701274 214.756364 \r\nL 287.781445 213.928607 \r\nL 287.884522 214.756364 \r\nL 287.804351 213.920147 \r\nL 287.907428 214.613167 \r\nL 287.941787 213.748516 \r\nL 288.021958 214.756364 \r\nL 288.033411 214.756364 \r\nL 288.113583 211.776183 \r\nL 288.136489 214.607531 \r\nL 288.147942 214.756364 \r\nL 288.159395 214.712846 \r\nL 288.273925 201.667203 \r\nL 288.308284 214.756364 \r\nL 288.319737 121.959123 \r\nL 288.411361 214.542917 \r\nL 288.468626 214.756364 \r\nL 288.457173 213.995033 \r\nL 288.480079 214.664488 \r\nL 288.491532 209.17265 \r\nL 288.537344 214.756364 \r\nL 288.583156 214.756364 \r\nL 288.628968 214.756364 \r\nL 288.709139 213.126774 \r\nL 288.754951 213.90997 \r\nL 288.835122 214.756364 \r\nL 288.846575 213.43617 \r\nL 288.858028 214.530333 \r\nL 288.869481 213.496372 \r\nL 288.892387 214.756364 \r\nL 288.961105 214.756364 \r\nL 288.995464 214.756364 \r\nL 289.064182 213.269424 \r\nL 289.109994 214.260306 \r\nL 289.167259 214.756364 \r\nL 289.190165 213.264337 \r\nL 289.258883 207.68198 \r\nL 289.24743 214.756364 \r\nL 289.281789 212.378115 \r\nL 289.396319 214.756364 \r\nL 289.407772 214.756364 \r\nL 289.419225 178.70677 \r\nL 289.510849 214.756364 \r\nL 289.568114 214.756364 \r\nL 289.659738 212.189681 \r\nL 289.682644 214.14925 \r\nL 289.762815 214.756364 \r\nL 289.739909 212.61108 \r\nL 289.774268 214.331791 \r\nL 289.808627 214.756364 \r\nL 289.900251 209.19943 \r\nL 290.014782 214.756364 \r\nL 290.117859 212.516632 \r\nL 290.129312 214.10506 \r\nL 290.220936 214.756364 \r\nL 290.232389 214.412169 \r\nL 290.301107 213.711985 \r\nL 290.278201 214.756364 \r\nL 290.346919 213.963694 \r\nL 290.461449 214.756364 \r\nL 290.472902 214.756364 \r\nL 290.484355 210.281411 \r\nL 290.575979 214.756364 \r\nL 290.587432 214.756364 \r\nL 290.65615 212.138781 \r\nL 290.690509 214.756364 \r\nL 290.713415 214.756364 \r\nL 290.724868 213.735911 \r\nL 290.816492 214.735189 \r\nL 290.896663 212.898248 \r\nL 290.873757 214.756364 \r\nL 290.919569 214.303153 \r\nL 290.931022 196.538935 \r\nL 290.942475 214.756364 \r\nL 291.022646 214.735189 \r\nL 291.034099 211.570028 \r\nL 291.045552 214.756364 \r\nL 291.125723 214.623261 \r\nL 291.137176 214.62514 \r\nL 291.148629 214.541818 \r\nL 291.171535 202.33745 \r\nL 291.194441 214.756364 \r\nL 291.263159 214.014556 \r\nL 291.286065 214.756364 \r\nL 291.366236 203.680138 \r\nL 291.423501 214.756364 \r\nL 291.45786 192.312346 \r\nL 291.480766 213.031524 \r\nL 291.560937 214.756364 \r\nL 291.57239 210.877827 \r\nL 291.595296 214.638446 \r\nL 291.664014 214.756364 \r\nL 291.641108 214.470016 \r\nL 291.68692 214.655468 \r\nL 291.732732 213.627195 \r\nL 291.721279 214.756364 \r\nL 291.755638 214.559795 \r\nL 291.767091 192.927888 \r\nL 291.80145 214.756364 \r\nL 291.858716 212.572716 \r\nL 291.938887 211.572936 \r\nL 291.984699 214.756364 \r\nL 292.007605 208.229419 \r\nL 292.099229 213.612775 \r\nL 292.110682 213.004057 \r\nL 292.122135 214.756364 \r\nL 292.156494 214.755669 \r\nL 292.167947 184.981486 \r\nL 292.202306 214.756364 \r\nL 292.259571 214.756364 \r\nL 292.271024 214.756364 \r\nL 292.316836 201.411973 \r\nL 292.385554 213.361536 \r\nL 292.477178 211.045988 \r\nL 292.500084 214.756364 \r\nL 292.557349 211.231738 \r\nL 292.603161 214.756364 \r\nL 292.614614 214.756364 \r\nL 292.717691 200.48335 \r\nL 292.832221 214.756364 \r\nL 292.855127 214.756364 \r\nL 292.86658 210.122313 \r\nL 292.958204 214.756364 \r\nL 292.992563 214.756364 \r\nL 293.004016 193.543841 \r\nL 293.09564 214.289711 \r\nL 293.175811 212.92046 \r\nL 293.129999 214.756364 \r\nL 293.221623 213.037909 \r\nL 293.255982 214.756364 \r\nL 293.267435 180.579239 \r\nL 293.359059 214.756364 \r\nL 293.416324 214.716231 \r\nL 293.427777 210.147879 \r\nL 293.43923 214.756364 \r\nL 293.519401 214.351827 \r\nL 293.588119 214.756364 \r\nL 293.565213 212.120748 \r\nL 293.611025 214.735189 \r\nL 293.622478 197.76931 \r\nL 293.633931 214.756364 \r\nL 293.714103 213.433443 \r\nL 293.805727 212.547515 \r\nL 293.737009 214.756364 \r\nL 293.81718 213.730949 \r\nL 293.862992 214.756364 \r\nL 293.874445 214.332352 \r\nL 293.885898 206.213299 \r\nL 293.920257 214.756364 \r\nL 293.977522 214.756364 \r\nL 294.000428 213.354799 \r\nL 294.080599 214.756364 \r\nL 294.126411 214.756364 \r\nL 294.252394 213.169275 \r\nL 294.263847 213.030852 \r\nL 294.366924 214.756364 \r\nL 294.378377 214.355454 \r\nL 294.481454 212.259106 \r\nL 294.458548 214.756364 \r\nL 294.492907 213.758319 \r\nL 294.573078 212.332486 \r\nL 294.595984 214.756364 \r\nL 294.710514 208.008424 \r\nL 294.813591 214.756364 \r\nL 294.825044 214.672962 \r\nL 294.836497 214.756364 \r\nL 294.939574 202.892726 \r\nL 295.031198 214.756364 \r\nL 295.054104 213.088867 \r\nL 295.111369 214.756364 \r\nL 295.122822 201.177642 \r\nL 295.225899 209.599778 \r\nL 295.283164 203.439143 \r\nL 295.340429 214.756364 \r\nL 295.397694 212.772491 \r\nL 295.454959 214.524267 \r\nL 295.466412 214.756364 \r\nL 295.477865 213.833204 \r\nL 295.489318 211.736388 \r\nL 295.500771 214.756364 \r\nL 295.580942 214.756364 \r\nL 295.638208 213.78193 \r\nL 295.649661 214.756364 \r\nL 295.661114 206.204791 \r\nL 295.752738 214.571282 \r\nL 295.764191 214.533254 \r\nL 295.787097 214.756364 \r\nL 295.867268 211.986096 \r\nL 295.901627 208.77532 \r\nL 295.981798 214.756364 \r\nL 295.993251 214.756364 \r\nL 296.004704 204.835692 \r\nL 296.096328 214.756364 \r\nL 296.153593 202.337903 \r\nL 296.210858 213.719118 \r\nL 296.268123 212.354666 \r\nL 296.325388 214.756364 \r\nL 296.348294 213.968913 \r\nL 296.359747 213.632973 \r\nL 296.3712 214.524267 \r\nL 296.382653 202.770028 \r\nL 296.417012 214.756364 \r\nL 296.474277 214.756364 \r\nL 296.497183 214.118809 \r\nL 296.508636 214.756364 \r\nL 296.520089 195.606255 \r\nL 296.611713 206.27129 \r\nL 296.680431 214.730244 \r\nL 296.71479 212.688859 \r\nL 296.726243 185.954229 \r\nL 296.737696 214.756364 \r\nL 296.817867 214.441092 \r\nL 296.898038 211.015955 \r\nL 296.852226 214.756364 \r\nL 296.909491 213.518461 \r\nL 296.989662 214.756364 \r\nL 296.932397 213.393298 \r\nL 297.012568 214.678659 \r\nL 297.035474 205.413994 \r\nL 297.092739 214.756364 \r\nL 297.115645 214.756364 \r\nL 297.218722 212.667298 \r\nL 297.28744 211.129864 \r\nL 297.333252 214.756364 \r\nL 297.367611 213.457702 \r\nL 297.379064 214.756364 \r\nL 297.390517 194.496182 \r\nL 297.482142 214.470016 \r\nL 297.493595 214.468114 \r\nL 297.505048 208.339007 \r\nL 297.573766 214.756364 \r\nL 297.596672 214.262863 \r\nL 297.608125 213.749484 \r\nL 297.619578 214.756364 \r\nL 297.688296 214.663698 \r\nL 297.699749 214.756364 \r\nL 297.722655 212.593305 \r\nL 297.814279 214.309218 \r\nL 297.825732 214.756364 \r\nL 297.848638 214.640765 \r\nL 297.860091 206.398915 \r\nL 297.871544 214.756364 \r\nL 297.951715 213.966881 \r\nL 297.963168 214.756364 \r\nL 298.020433 211.229546 \r\nL 298.054792 214.488512 \r\nL 298.146416 212.971477 \r\nL 298.089151 214.756364 \r\nL 298.157869 213.878351 \r\nL 298.192228 211.491003 \r\nL 298.226587 214.547997 \r\nL 298.260946 209.764442 \r\nL 298.249493 214.756364 \r\nL 298.329664 212.994686 \r\nL 298.386929 214.756364 \r\nL 298.398382 210.243105 \r\nL 298.444194 214.14925 \r\nL 298.4671 214.756364 \r\nL 298.524365 212.416811 \r\nL 298.638895 214.756364 \r\nL 298.673254 212.453471 \r\nL 298.753425 213.166295 \r\nL 298.764878 214.756364 \r\nL 298.776331 195.898988 \r\nL 298.867955 214.330692 \r\nL 298.913767 214.756364 \r\nL 298.92522 214.551631 \r\nL 299.005391 210.893736 \r\nL 298.993938 214.756364 \r\nL 299.028297 214.756364 \r\nL 299.03975 214.652265 \r\nL 299.051203 214.756364 \r\nL 299.062656 209.350577 \r\nL 299.15428 214.756364 \r\nL 299.177186 214.756364 \r\nL 299.26881 213.932371 \r\nL 299.280263 214.756364 \r\nL 299.314622 214.70614 \r\nL 299.326075 214.643717 \r\nL 299.337528 214.756364 \r\nL 299.348981 214.756364 \r\nL 299.360435 211.542118 \r\nL 299.452059 214.756364 \r\nL 299.486418 214.756364 \r\nL 299.589495 210.390169 \r\nL 299.600948 214.121982 \r\nL 299.692572 214.756364 \r\nL 299.715478 176.09806 \r\nL 299.830008 214.756364 \r\nL 299.944538 211.019547 \r\nL 300.047615 214.756364 \r\nL 300.059068 213.59131 \r\nL 300.162145 214.756364 \r\nL 300.116333 211.495743 \r\nL 300.173598 214.716119 \r\nL 300.185051 214.756364 \r\nL 300.230863 210.264673 \r\nL 300.276675 214.756364 \r\nL 300.288128 207.650014 \r\nL 300.379752 209.58128 \r\nL 300.44847 214.756364 \r\nL 300.482829 211.921755 \r\nL 300.494282 209.919319 \r\nL 300.540094 214.426363 \r\nL 300.574453 213.780331 \r\nL 300.597359 214.756364 \r\nL 300.608812 214.59775 \r\nL 300.620265 207.806935 \r\nL 300.643171 214.756364 \r\nL 300.711889 214.756364 \r\nL 300.746248 214.494725 \r\nL 300.757701 214.524267 \r\nL 300.769154 182.227336 \r\nL 300.79206 214.756364 \r\nL 300.860778 212.130398 \r\nL 300.918043 214.756364 \r\nL 300.895137 205.491153 \r\nL 300.952402 214.406314 \r\nL 300.963855 199.133044 \r\nL 300.998214 214.756364 \r\nL 301.055479 214.601936 \r\nL 301.066932 210.179275 \r\nL 301.078385 214.756364 \r\nL 301.158556 213.791908 \r\nL 301.204368 213.072327 \r\nL 301.295993 214.756364 \r\nL 301.307446 212.672723 \r\nL 301.39907 214.756364 \r\nL 301.421976 214.756364 \r\nL 301.433429 213.845413 \r\nL 301.536506 214.034144 \r\nL 301.616677 213.533383 \r\nL 301.651036 214.756364 \r\nL 301.662489 214.756364 \r\nL 301.708301 211.356213 \r\nL 301.777019 214.343214 \r\nL 301.834284 213.498387 \r\nL 301.891549 214.756364 \r\nL 301.903002 214.756364 \r\nL 301.914455 207.670395 \r\nL 302.006079 211.294172 \r\nL 302.120609 214.756364 \r\nL 302.143515 213.344302 \r\nL 302.154968 189.202787 \r\nL 302.246592 214.756364 \r\nL 302.292404 214.162367 \r\nL 302.349669 214.756364 \r\nL 302.372575 214.629519 \r\nL 302.42984 214.756364 \r\nL 302.54437 210.625408 \r\nL 302.624541 214.756364 \r\nL 302.578729 208.430316 \r\nL 302.670353 213.805865 \r\nL 302.704712 202.428499 \r\nL 302.761977 214.756364 \r\nL 302.77343 210.651844 \r\nL 302.865054 214.756364 \r\nL 302.88796 214.547997 \r\nL 302.910866 208.525447 \r\nL 302.945225 214.756364 \r\nL 302.991037 214.726471 \r\nL 303.013943 214.756364 \r\nL 303.094114 210.133897 \r\nL 303.11702 214.518498 \r\nL 303.139927 214.756364 \r\nL 303.231551 203.609074 \r\nL 303.346081 214.756364 \r\nL 303.426252 214.2982 \r\nL 303.449158 214.756364 \r\nL 303.472064 214.717511 \r\nL 303.506423 214.756364 \r\nL 303.575141 212.711554 \r\nL 303.620953 214.756364 \r\nL 303.643859 212.129956 \r\nL 303.678218 213.719104 \r\nL 303.689671 208.763169 \r\nL 303.701124 214.756364 \r\nL 303.781295 214.70614 \r\nL 303.792748 214.756364 \r\nL 303.827107 212.779217 \r\nL 303.918731 212.854847 \r\nL 303.975996 214.756364 \r\nL 304.010355 212.759583 \r\nL 304.033261 214.343714 \r\nL 304.056167 214.010132 \r\nL 304.147791 214.756364 \r\nL 304.159244 214.756364 \r\nL 304.170697 214.131781 \r\nL 304.262321 214.756364 \r\nL 304.457022 214.756364 \r\nL 304.502834 213.962673 \r\nL 304.52574 214.740667 \r\nL 304.537193 209.351487 \r\nL 304.560099 214.756364 \r\nL 304.628817 214.210814 \r\nL 304.697535 214.756364 \r\nL 304.720441 214.106106 \r\nL 304.731894 212.670906 \r\nL 304.789159 214.756364 \r\nL 304.823518 214.635496 \r\nL 304.880783 214.668339 \r\nL 304.926595 212.286879 \r\nL 304.960954 198.932053 \r\nL 304.949501 214.756364 \r\nL 305.029673 212.919334 \r\nL 305.144203 214.756364 \r\nL 305.235827 214.756364 \r\nL 305.281639 211.214776 \r\nL 305.293092 214.756364 \r\nL 305.304545 189.817091 \r\nL 305.396169 214.756364 \r\nL 305.407622 214.756364 \r\nL 305.430528 213.757338 \r\nL 305.453434 214.756364 \r\nL 305.510699 182.080606 \r\nL 305.556511 214.756364 \r\nL 305.567964 208.502782 \r\nL 305.659588 214.14925 \r\nL 305.7054 214.756364 \r\nL 305.739759 212.505801 \r\nL 305.842836 214.750917 \r\nL 305.854289 213.765218 \r\nL 305.865742 213.543501 \r\nL 305.888648 214.505836 \r\nL 305.911554 213.551851 \r\nL 305.945913 212.111613 \r\nL 306.026084 214.756364 \r\nL 306.094802 214.1848 \r\nL 306.140614 214.245719 \r\nL 306.152067 214.756364 \r\nL 306.186426 205.665014 \r\nL 306.255144 214.756364 \r\nL 306.300956 214.756364 \r\nL 306.369674 212.161532 \r\nL 306.404033 214.756364 \r\nL 306.472751 214.756364 \r\nL 306.484204 211.663601 \r\nL 306.575828 214.756364 \r\nL 306.587281 214.756364 \r\nL 306.598734 210.247906 \r\nL 306.690358 213.238727 \r\nL 306.781982 214.756364 \r\nL 306.804888 214.19546 \r\nL 306.8507 214.756364 \r\nL 306.862153 213.757974 \r\nL 306.907966 212.770082 \r\nL 306.885059 214.756364 \r\nL 306.942325 214.307232 \r\nL 306.988137 213.901316 \r\nL 307.022496 214.756364 \r\nL 307.033949 213.112271 \r\nL 307.137026 214.262863 \r\nL 307.205744 214.756364 \r\nL 307.194291 213.696623 \r\nL 307.22865 214.187249 \r\nL 307.240103 214.097803 \r\nL 307.251556 198.65939 \r\nL 307.320274 214.756364 \r\nL 307.34318 214.485547 \r\nL 307.400445 198.58817 \r\nL 307.377539 214.756364 \r\nL 307.446257 214.70614 \r\nL 307.469163 214.756364 \r\nL 307.480616 203.169657 \r\nL 307.57224 213.499212 \r\nL 307.68677 214.756364 \r\nL 307.812753 210.842033 \r\nL 307.892924 214.756364 \r\nL 307.927283 213.58286 \r\nL 307.996001 213.24729 \r\nL 308.03036 214.756364 \r\nL 308.099078 212.764854 \r\nL 308.133437 213.356286 \r\nL 308.202155 212.005859 \r\nL 308.236514 214.756364 \r\nL 308.339591 204.458357 \r\nL 308.442668 214.756364 \r\nL 308.454121 211.829177 \r\nL 308.568651 214.756364 \r\nL 308.591557 214.756364 \r\nL 308.625916 213.346428 \r\nL 308.694634 214.756364 \r\nL 308.706087 214.756364 \r\nL 308.751899 184.583675 \r\nL 308.809165 214.555968 \r\nL 308.820618 214.716119 \r\nL 308.832071 214.401155 \r\nL 308.843524 206.362903 \r\nL 308.912242 214.756364 \r\nL 308.946601 211.941306 \r\nL 309.015319 214.756364 \r\nL 309.061131 214.535925 \r\nL 309.118396 203.107577 \r\nL 309.09549 214.756364 \r\nL 309.141302 214.097315 \r\nL 309.152755 181.626595 \r\nL 309.21002 214.756364 \r\nL 309.244379 214.756364 \r\nL 309.301644 214.756364 \r\nL 309.313097 213.533098 \r\nL 309.404721 214.297647 \r\nL 309.473439 214.182053 \r\nL 309.507798 214.756364 \r\nL 309.587969 211.200496 \r\nL 309.622328 212.835152 \r\nL 309.645234 212.052581 \r\nL 309.736858 214.756364 \r\nL 309.794123 213.538312 \r\nL 309.851388 214.415214 \r\nL 309.8972 213.729558 \r\nL 309.931559 214.756364 \r\nL 310.000277 211.303394 \r\nL 310.034636 213.855043 \r\nL 310.103354 214.654315 \r\nL 310.12626 214.402107 \r\nL 310.137713 213.071864 \r\nL 310.206431 214.735189 \r\nL 310.229337 214.125562 \r\nL 310.24079 214.756364 \r\nL 310.252243 213.287362 \r\nL 310.263696 213.385769 \r\nL 310.275149 206.153088 \r\nL 310.298055 214.735189 \r\nL 310.378226 208.374119 \r\nL 310.435491 205.627561 \r\nL 310.504209 214.756364 \r\nL 310.550021 210.051903 \r\nL 310.618739 212.924692 \r\nL 310.721817 214.756364 \r\nL 310.676005 211.509872 \r\nL 310.73327 214.550046 \r\nL 310.744723 214.535925 \r\nL 310.756176 213.991823 \r\nL 310.767629 214.756364 \r\nL 310.859253 214.347178 \r\nL 310.916518 214.756364 \r\nL 310.893612 212.884256 \r\nL 310.939424 214.647869 \r\nL 310.96233 205.18237 \r\nL 310.973783 214.756364 \r\nL 311.042501 214.366459 \r\nL 311.065407 213.196237 \r\nL 311.122672 214.756364 \r\nL 311.157031 212.988896 \r\nL 311.225749 214.756364 \r\nL 311.237202 214.756364 \r\nL 311.283014 214.396708 \r\nL 311.340279 214.756364 \r\nL 311.386091 214.756364 \r\nL 311.466262 211.620183 \r\nL 311.489168 214.756364 \r\nL 311.500621 214.667696 \r\nL 311.512074 214.756364 \r\nL 311.580792 212.061966 \r\nL 311.626604 213.856728 \r\nL 311.706775 214.756364 \r\nL 311.741134 214.735189 \r\nL 311.809852 192.111629 \r\nL 311.76404 214.756364 \r\nL 311.844211 214.661302 \r\nL 311.855664 214.756364 \r\nL 311.912929 199.770227 \r\nL 311.970194 211.859378 \r\nL 312.061818 214.756364 \r\nL 312.038912 210.365745 \r\nL 312.084724 213.645151 \r\nL 312.119083 214.756364 \r\nL 312.130536 167.260136 \r\nL 312.22216 214.756364 \r\nL 312.233613 214.709944 \r\nL 312.267972 214.756364 \r\nL 312.348143 211.143304 \r\nL 312.382502 213.541622 \r\nL 312.405408 210.164438 \r\nL 312.497032 214.756364 \r\nL 312.508485 214.756364 \r\nL 312.519938 214.497311 \r\nL 312.531391 204.795005 \r\nL 312.60011 214.756364 \r\nL 312.623016 214.756364 \r\nL 312.657375 213.727555 \r\nL 312.668828 209.405338 \r\nL 312.760452 214.756364 \r\nL 312.783358 214.756364 \r\nL 312.794811 212.907574 \r\nL 312.886435 214.638446 \r\nL 312.897888 214.621937 \r\nL 312.920794 214.756364 \r\nL 313.023871 213.163307 \r\nL 313.035324 213.178594 \r\nL 313.138401 214.756364 \r\nL 313.05823 212.772491 \r\nL 313.149854 214.718479 \r\nL 313.195666 210.958619 \r\nL 313.17276 214.756364 \r\nL 313.252931 214.256081 \r\nL 313.310196 213.895646 \r\nL 313.367461 214.756364 \r\nL 313.470538 212.277191 \r\nL 313.493444 212.896336 \r\nL 313.619427 214.756364 \r\nL 313.63088 214.756364 \r\nL 313.688145 213.589668 \r\nL 313.733957 214.310246 \r\nL 313.791222 214.756364 \r\nL 313.814128 213.634455 \r\nL 313.825581 214.401316 \r\nL 313.85994 212.001502 \r\nL 313.848487 214.756364 \r\nL 313.928658 214.196592 \r\nL 313.985923 214.756364 \r\nL 314.020282 214.655916 \r\nL 314.031735 213.218694 \r\nL 314.123359 214.756364 \r\nL 314.146265 214.756364 \r\nL 314.157718 214.162129 \r\nL 314.249342 214.756364 \r\nL 314.260795 200.478089 \r\nL 314.352419 214.584902 \r\nL 314.386778 213.538776 \r\nL 314.409684 214.756364 \r\nL 314.478403 212.672039 \r\nL 314.512762 214.14925 \r\nL 314.524215 214.756364 \r\nL 314.547121 211.501437 \r\nL 314.604386 214.668699 \r\nL 314.615839 213.055151 \r\nL 314.627292 214.756364 \r\nL 314.707463 214.137255 \r\nL 314.741822 212.795521 \r\nL 314.81054 214.756364 \r\nL 314.867805 195.681265 \r\nL 314.913617 210.556786 \r\nL 314.936523 214.756364 \r\nL 314.982335 200.274527 \r\nL 314.993788 212.406327 \r\nL 315.005241 179.384156 \r\nL 315.0396 214.756364 \r\nL 315.096865 212.287472 \r\nL 315.211395 214.756364 \r\nL 315.245754 214.653493 \r\nL 315.280113 210.687271 \r\nL 315.337378 214.756364 \r\nL 315.348831 214.292171 \r\nL 315.394643 214.756364 \r\nL 315.429002 213.841779 \r\nL 315.440455 210.807368 \r\nL 315.451908 214.756364 \r\nL 315.532079 214.756364 \r\nL 315.566438 214.756364 \r\nL 315.577891 211.408361 \r\nL 315.669515 214.62109 \r\nL 315.680968 214.616157 \r\nL 315.761139 208.131999 \r\nL 315.703874 214.756364 \r\nL 315.784045 213.818559 \r\nL 315.887122 214.756364 \r\nL 315.818404 213.755541 \r\nL 315.898575 214.209899 \r\nL 315.967293 213.389849 \r\nL 316.013105 214.756364 \r\nL 316.024558 214.756364 \r\nL 316.104729 209.839055 \r\nL 316.127635 211.776638 \r\nL 316.1849 208.735803 \r\nL 316.230712 214.756364 \r\nL 316.242165 212.433213 \r\nL 316.345243 213.046797 \r\nL 316.459773 214.756364 \r\nL 316.539944 212.365322 \r\nL 316.574303 213.842591 \r\nL 316.688833 214.756364 \r\nL 316.757551 208.577396 \r\nL 316.79191 214.756364 \r\nL 316.826269 214.756364 \r\nL 316.849175 211.541544 \r\nL 316.883534 214.756364 \r\nL 316.894987 179.285875 \r\nL 316.986611 212.856977 \r\nL 317.02097 214.49401 \r\nL 317.032423 212.503825 \r\nL 317.089688 212.670148 \r\nL 317.101141 209.578385 \r\nL 317.181312 214.756364 \r\nL 317.192765 213.757974 \r\nL 317.215671 214.756364 \r\nL 317.227124 206.509912 \r\nL 317.318748 214.756364 \r\nL 317.410372 213.715913 \r\nL 317.433278 214.209899 \r\nL 317.467637 214.756364 \r\nL 317.47909 199.350886 \r\nL 317.582167 200.925187 \r\nL 317.673791 214.756364 \r\nL 317.696697 212.099302 \r\nL 317.799774 214.756364 \r\nL 317.765415 208.319219 \r\nL 317.811227 214.74639 \r\nL 317.834133 214.756364 \r\nL 317.845586 214.563674 \r\nL 317.891398 214.756364 \r\nL 317.902851 211.159519 \r\nL 317.994475 214.756364 \r\nL 318.005928 214.756364 \r\nL 318.017381 213.08523 \r\nL 318.120458 213.715407 \r\nL 318.143364 209.745837 \r\nL 318.234989 214.756364 \r\nL 318.246442 214.756364 \r\nL 318.372425 213.367758 \r\nL 318.406784 209.702388 \r\nL 318.486955 214.756364 \r\nL 318.590032 211.225462 \r\nL 318.601485 212.33659 \r\nL 318.670203 214.756364 \r\nL 318.647297 206.796216 \r\nL 318.716015 214.120639 \r\nL 318.77328 214.70614 \r\nL 318.830545 210.939954 \r\nL 318.88781 214.756364 \r\nL 318.899263 210.242605 \r\nL 318.922169 213.138659 \r\nL 318.933622 189.321489 \r\nL 318.956528 214.756364 \r\nL 319.025246 213.564474 \r\nL 319.128323 214.756364 \r\nL 319.059605 213.097122 \r\nL 319.139776 214.530164 \r\nL 319.185588 214.756364 \r\nL 319.208494 214.115895 \r\nL 319.265759 214.710847 \r\nL 319.277212 211.052524 \r\nL 319.323024 214.756364 \r\nL 319.357383 27.411 \r\nL 319.426101 214.756364 \r\nL 319.46046 214.662579 \r\nL 319.494819 214.569855 \r\nL 319.517725 214.756364 \r\nL 319.529178 214.756364 \r\nL 319.586443 213.556912 \r\nL 319.632255 214.756364 \r\nL 319.678067 213.603815 \r\nL 319.700973 214.442239 \r\nL 319.712426 213.072705 \r\nL 319.735332 214.756364 \r\nL 319.758238 213.609935 \r\nL 319.769691 179.398964 \r\nL 319.781144 214.756364 \r\nL 319.872768 194.797083 \r\nL 319.987298 214.756364 \r\nL 320.021657 212.733079 \r\nL 320.090375 214.386201 \r\nL 320.113282 214.29235 \r\nL 320.124735 214.756364 \r\nL 320.136188 210.196021 \r\nL 320.227812 214.10506 \r\nL 320.285077 213.025203 \r\nL 320.342342 214.756364 \r\nL 320.388154 214.756364 \r\nL 320.433966 211.442503 \r\nL 320.514137 212.449546 \r\nL 320.628667 214.756364 \r\nL 320.708838 210.774074 \r\nL 320.743197 213.630174 \r\nL 320.766103 213.3686 \r\nL 320.846274 214.756364 \r\nL 320.892086 212.131667 \r\nL 320.949351 214.390283 \r\nL 320.960804 144.445075 \r\nL 320.972257 214.756364 \r\nL 321.063881 193.28443 \r\nL 321.178411 214.756364 \r\nL 321.281488 210.822204 \r\nL 321.384565 214.756364 \r\nL 321.396018 211.394529 \r\nL 321.487642 214.756364 \r\nL 321.522001 214.756364 \r\nL 321.544907 211.260225 \r\nL 321.647984 214.255984 \r\nL 321.693796 214.756364 \r\nL 321.705249 197.255223 \r\nL 321.796873 214.756364 \r\nL 321.888497 213.405402 \r\nL 321.89995 213.521655 \r\nL 321.911403 196.50692 \r\nL 321.922856 214.756364 \r\nL 322.003028 214.235717 \r\nL 322.037387 214.756364 \r\nL 322.117558 209.729704 \r\nL 322.140464 214.756364 \r\nL 322.151917 214.756364 \r\nL 322.16337 214.57222 \r\nL 322.209182 214.756364 \r\nL 322.300806 204.275335 \r\nL 322.415336 214.756364 \r\nL 322.426789 214.215446 \r\nL 322.50696 214.756364 \r\nL 322.518413 212.713598 \r\nL 322.610037 214.712795 \r\nL 322.62149 214.756364 \r\nL 322.655849 210.873745 \r\nL 322.73602 212.2775 \r\nL 322.781832 201.094976 \r\nL 322.85055 214.756364 \r\nL 322.862003 214.756364 \r\nL 322.873456 212.108009 \r\nL 322.96508 214.583359 \r\nL 323.022345 213.779529 \r\nL 323.045251 214.756364 \r\nL 323.056704 209.988701 \r\nL 323.148328 214.756364 \r\nL 323.19414 214.756364 \r\nL 323.285764 213.02923 \r\nL 323.297217 214.756364 \r\nL 323.320123 214.756364 \r\nL 323.4232 208.824975 \r\nL 323.434653 212.452943 \r\nL 323.480465 211.162894 \r\nL 323.549183 214.756364 \r\nL 323.560636 212.648982 \r\nL 323.65226 214.756364 \r\nL 323.663713 214.756364 \r\nL 323.755337 214.118809 \r\nL 323.76679 214.241291 \r\nL 323.824055 214.756364 \r\nL 323.835508 210.90766 \r\nL 323.927133 214.367461 \r\nL 324.03021 214.756364 \r\nL 324.007304 214.350942 \r\nL 324.041663 214.714015 \r\nL 324.053116 214.756364 \r\nL 324.14474 212.139392 \r\nL 324.156193 214.096562 \r\nL 324.179099 209.924281 \r\nL 324.270723 214.756364 \r\nL 324.282176 214.756364 \r\nL 324.350894 213.925796 \r\nL 324.385253 214.433271 \r\nL 324.453971 214.12771 \r\nL 324.511236 214.756364 \r\nL 324.522689 214.756364 \r\nL 324.625766 211.276781 \r\nL 324.637219 212.385045 \r\nL 324.728843 214.756364 \r\nL 324.751749 214.668699 \r\nL 324.763202 214.592148 \r\nL 324.774655 214.756364 \r\nL 324.889185 211.496357 \r\nL 324.957903 214.568185 \r\nL 324.992262 214.542917 \r\nL 325.026621 214.756364 \r\nL 325.106792 210.619372 \r\nL 325.221322 214.756364 \r\nL 325.312946 212.725198 \r\nL 325.347305 213.814241 \r\nL 325.393117 212.234965 \r\nL 325.427476 214.756364 \r\nL 325.438929 202.821702 \r\nL 325.530553 212.617815 \r\nL 325.63363 214.756364 \r\nL 325.576365 211.778424 \r\nL 325.656536 213.793592 \r\nL 325.667989 213.606432 \r\nL 325.690895 214.756364 \r\nL 325.702348 214.377178 \r\nL 325.759613 214.756364 \r\nL 325.771067 213.885171 \r\nL 325.793973 214.741193 \r\nL 325.828332 214.756364 \r\nL 325.89705 208.233629 \r\nL 325.931409 214.756364 \r\nL 325.977221 214.567066 \r\nL 325.988674 155.4102 \r\nL 326.000127 214.756364 \r\nL 326.080298 209.365572 \r\nL 326.149016 214.756364 \r\nL 326.12611 206.285331 \r\nL 326.171922 214.342051 \r\nL 326.252093 173.410687 \r\nL 326.194828 214.756364 \r\nL 326.274999 214.756364 \r\nL 326.297905 214.756364 \r\nL 326.423888 214.140459 \r\nL 326.526965 214.756364 \r\nL 326.4697 213.953004 \r\nL 326.538418 214.722084 \r\nL 326.549871 214.756364 \r\nL 326.664401 212.404394 \r\nL 326.756025 214.756364 \r\nL 326.778931 214.712846 \r\nL 326.824743 212.954255 \r\nL 326.847649 214.3227 \r\nL 326.859102 204.509332 \r\nL 326.870555 214.756364 \r\nL 326.950726 214.401155 \r\nL 327.04235 210.559689 \r\nL 326.973632 214.756364 \r\nL 327.053803 214.756364 \r\nL 327.076709 214.756364 \r\nL 327.191239 212.521506 \r\nL 327.202692 214.309852 \r\nL 327.237051 214.666176 \r\nL 327.248504 214.141405 \r\nL 327.340128 212.743855 \r\nL 327.282863 214.756364 \r\nL 327.351581 214.756364 \r\nL 327.38594 214.756364 \r\nL 327.408846 210.575927 \r\nL 327.454658 214.756364 \r\nL 327.466111 207.704735 \r\nL 327.557735 213.497266 \r\nL 327.569188 213.322249 \r\nL 327.580641 198.605354 \r\nL 327.592094 214.756364 \r\nL 327.672266 214.756364 \r\nL 327.844061 214.756364 \r\nL 327.855514 214.1848 \r\nL 327.947138 214.756364 \r\nL 327.970044 214.707392 \r\nL 327.99295 214.756364 \r\nL 328.084574 210.214435 \r\nL 328.176198 214.756364 \r\nL 328.199104 214.5229 \r\nL 328.244916 214.756364 \r\nL 328.256369 213.165031 \r\nL 328.359446 214.140459 \r\nL 328.45107 214.756364 \r\nL 328.485429 211.776319 \r\nL 328.5656 213.620926 \r\nL 328.691583 214.756364 \r\nL 328.703036 214.534776 \r\nL 328.714489 211.976445 \r\nL 328.737395 214.756364 \r\nL 328.817566 213.481253 \r\nL 328.90919 214.756364 \r\nL 328.840472 213.127285 \r\nL 328.920643 214.157336 \r\nL 329.000814 212.92271 \r\nL 328.955002 214.756364 \r\nL 329.02372 213.970782 \r\nL 329.069532 214.756364 \r\nL 329.092438 213.222469 \r\nL 329.115344 214.625885 \r\nL 329.218421 212.754359 \r\nL 329.161156 214.756364 \r\nL 329.229874 213.943357 \r\nL 329.241327 213.246911 \r\nL 329.25278 214.756364 \r\nL 329.321498 214.756364 \r\nL 329.470387 212.378023 \r\nL 329.516199 214.756364 \r\nL 329.527652 214.654315 \r\nL 329.539106 182.186403 \r\nL 329.584918 214.756364 \r\nL 329.63073 208.453008 \r\nL 329.699448 214.756364 \r\nL 329.74526 214.734465 \r\nL 329.836884 213.539645 \r\nL 329.768166 214.756364 \r\nL 329.848337 213.784382 \r\nL 329.85979 214.756364 \r\nL 329.894149 212.672458 \r\nL 329.962867 214.730244 \r\nL 330.043038 205.868553 \r\nL 329.997226 214.756364 \r\nL 330.065944 214.756364 \r\nL 330.08885 214.756364 \r\nL 330.100303 214.638446 \r\nL 330.123209 214.756364 \r\nL 330.134662 212.425531 \r\nL 330.226286 214.756364 \r\nL 330.249192 214.756364 \r\nL 330.272098 213.302626 \r\nL 330.352269 213.619273 \r\nL 330.398081 212.880058 \r\nL 330.443893 214.756364 \r\nL 330.455346 212.385718 \r\nL 330.54697 213.183551 \r\nL 330.592782 209.943348 \r\nL 330.627141 214.756364 \r\nL 330.684406 200.062503 \r\nL 330.730218 214.756364 \r\nL 330.753124 212.620694 \r\nL 330.833295 214.756364 \r\nL 330.844748 214.712795 \r\nL 330.89056 205.314052 \r\nL 330.867654 214.756364 \r\nL 330.947825 213.121074 \r\nL 331.027996 214.756364 \r\nL 331.062355 214.696579 \r\nL 331.073808 209.574031 \r\nL 331.085261 214.756364 \r\nL 331.165432 212.386735 \r\nL 331.291415 214.756364 \r\nL 331.337227 213.551546 \r\nL 331.417398 214.570107 \r\nL 331.428852 214.532416 \r\nL 331.451758 214.756364 \r\nL 331.463211 214.00283 \r\nL 331.554835 214.756364 \r\nL 331.589194 214.756364 \r\nL 331.657912 213.472487 \r\nL 331.703724 214.289548 \r\nL 331.795348 214.756364 \r\nL 331.772442 213.568561 \r\nL 331.806801 214.267828 \r\nL 331.829707 212.928811 \r\nL 331.852613 214.36215 \r\nL 331.864066 214.001381 \r\nL 331.932784 210.457322 \r\nL 331.898425 214.756364 \r\nL 331.967143 214.510865 \r\nL 331.990049 212.291611 \r\nL 332.024408 214.756364 \r\nL 332.07022 214.178471 \r\nL 332.18475 214.756364 \r\nL 332.230562 214.756364 \r\nL 332.253468 211.252612 \r\nL 332.345092 213.472487 \r\nL 332.436716 214.756364 \r\nL 332.448169 213.291079 \r\nL 332.459622 214.52152 \r\nL 332.471075 212.912085 \r\nL 332.516887 214.756364 \r\nL 332.562699 214.717511 \r\nL 332.574152 214.756364 \r\nL 332.585605 214.638446 \r\nL 332.654323 209.765154 \r\nL 332.64287 214.756364 \r\nL 332.688682 214.267828 \r\nL 332.768853 214.756364 \r\nL 332.883383 187.655885 \r\nL 332.906289 183.854703 \r\nL 332.997913 214.756364 \r\nL 333.055178 194.796319 \r\nL 333.10099 214.756364 \r\nL 333.158255 214.756364 \r\nL 333.204067 203.39406 \r\nL 333.272785 213.361462 \r\nL 333.398769 214.756364 \r\nL 333.524752 212.303708 \r\nL 333.604923 214.756364 \r\nL 333.639282 214.617389 \r\nL 333.696547 210.894591 \r\nL 333.685094 214.756364 \r\nL 333.742359 214.756364 \r\nL 333.765265 214.756364 \r\nL 333.776718 213.541258 \r\nL 333.868342 214.756364 \r\nL 333.959966 214.756364 \r\nL 333.971419 214.125384 \r\nL 334.063043 214.756364 \r\nL 334.177573 214.756364 \r\nL 334.292103 213.243378 \r\nL 334.326462 211.368323 \r\nL 334.39518 214.756364 \r\nL 334.50971 203.627019 \r\nL 334.578428 214.756364 \r\nL 334.555522 168.336163 \r\nL 334.62424 214.403151 \r\nL 334.635693 214.423272 \r\nL 334.727317 214.756364 \r\nL 334.670052 214.330692 \r\nL 334.73877 214.401155 \r\nL 334.761676 213.814621 \r\nL 334.830394 214.756364 \r\nL 334.8533 214.21193 \r\nL 334.933471 214.756364 \r\nL 334.956377 213.94421 \r\nL 334.96783 214.283787 \r\nL 334.979283 213.222654 \r\nL 334.990736 209.687029 \r\nL 335.013642 214.756364 \r\nL 335.08236 214.756364 \r\nL 335.105266 214.178369 \r\nL 335.185437 214.756364 \r\nL 335.277062 214.756364 \r\nL 335.288515 213.890479 \r\nL 335.299968 141.686622 \r\nL 335.322874 214.756364 \r\nL 335.391592 214.756364 \r\nL 335.403045 214.756364 \r\nL 335.517575 212.033186 \r\nL 335.529028 214.377128 \r\nL 335.551934 214.756364 \r\nL 335.563387 213.698744 \r\nL 335.57484 212.645539 \r\nL 335.597746 214.756364 \r\nL 335.655011 213.930935 \r\nL 335.758088 214.756364 \r\nL 335.735182 213.752107 \r\nL 335.769541 214.70614 \r\nL 335.780994 214.756364 \r\nL 335.849712 213.867974 \r\nL 335.884071 214.756364 \r\nL 335.906977 214.756364 \r\nL 335.952789 214.116597 \r\nL 336.010054 214.756364 \r\nL 336.03296 214.680245 \r\nL 336.044413 212.088738 \r\nL 336.078772 214.756364 \r\nL 336.14749 213.328543 \r\nL 336.158943 213.365778 \r\nL 336.181849 212.046041 \r\nL 336.273473 214.756364 \r\nL 336.284926 214.756364 \r\nL 336.410909 204.732338 \r\nL 336.525439 214.756364 \r\nL 336.559798 214.756364 \r\nL 336.571251 214.342051 \r\nL 336.662875 214.566841 \r\nL 336.685781 214.020687 \r\nL 336.754499 214.756364 \r\nL 336.83467 214.038491 \r\nL 336.857576 214.756364 \r\nL 336.9492 214.494725 \r\nL 336.960653 214.159419 \r\nL 336.972106 214.488512 \r\nL 336.983559 209.810151 \r\nL 337.075183 214.756364 \r\nL 337.09809 214.756364 \r\nL 337.109543 212.25491 \r\nL 337.201167 214.559795 \r\nL 337.224073 214.756364 \r\nL 337.246979 196.505447 \r\nL 337.338603 206.133493 \r\nL 337.430227 214.756364 \r\nL 337.453133 213.222201 \r\nL 337.476039 212.569382 \r\nL 337.510398 214.501263 \r\nL 337.521851 213.024595 \r\nL 337.602022 214.756364 \r\nL 337.624928 212.950508 \r\nL 337.659287 209.590842 \r\nL 337.705099 214.756364 \r\nL 337.716552 214.638446 \r\nL 337.739458 213.979205 \r\nL 337.78527 214.756364 \r\nL 337.831082 210.17445 \r\nL 337.8998 211.851422 \r\nL 338.025783 214.756364 \r\nL 338.071595 211.916483 \r\nL 338.140313 214.547997 \r\nL 338.254843 214.756364 \r\nL 338.266296 214.756364 \r\nL 338.323561 213.966614 \r\nL 338.369373 214.756364 \r\nL 338.541168 214.756364 \r\nL 338.655698 213.559095 \r\nL 338.747322 214.756364 \r\nL 338.758775 214.321858 \r\nL 338.793134 214.756364 \r\nL 338.884758 210.723796 \r\nL 338.999289 214.756364 \r\nL 339.010742 213.346249 \r\nL 339.102366 214.567242 \r\nL 339.125272 214.505836 \r\nL 339.216896 214.756364 \r\nL 339.331426 214.437603 \r\nL 339.400144 214.756364 \r\nL 339.411597 214.680245 \r\nL 339.42305 212.573368 \r\nL 339.434503 214.756364 \r\nL 339.514674 214.756364 \r\nL 339.53758 214.44825 \r\nL 339.549033 214.228291 \r\nL 339.571939 214.756364 \r\nL 339.629204 214.62109 \r\nL 339.640657 214.62109 \r\nL 339.732281 214.756364 \r\nL 339.743734 214.499661 \r\nL 339.789546 214.756364 \r\nL 339.800999 210.50111 \r\nL 339.892623 212.587899 \r\nL 339.961341 214.756364 \r\nL 339.972794 213.925796 \r\nL 339.984247 208.834693 \r\nL 340.018606 214.756364 \r\nL 340.075871 214.756364 \r\nL 340.133136 211.207652 \r\nL 340.178948 214.756364 \r\nL 340.201854 214.756364 \r\nL 340.213307 211.446249 \r\nL 340.304931 214.542054 \r\nL 340.316384 214.756364 \r\nL 340.327837 213.794673 \r\nL 340.33929 214.227937 \r\nL 340.350743 167.246165 \r\nL 340.408008 214.756364 \r\nL 340.442367 214.756364 \r\nL 340.556897 207.595967 \r\nL 340.671427 214.756364 \r\nL 340.717239 213.923145 \r\nL 340.79741 197.118992 \r\nL 340.740145 214.756364 \r\nL 340.820316 213.970782 \r\nL 340.843222 214.756364 \r\nL 340.854676 203.886115 \r\nL 340.957753 210.50818 \r\nL 340.992112 208.172761 \r\nL 341.072283 214.756364 \r\nL 341.083736 214.756364 \r\nL 341.141001 214.17576 \r\nL 341.17536 214.756364 \r\nL 341.186813 146.876546 \r\nL 341.278437 211.487699 \r\nL 341.392967 214.756364 \r\nL 341.427326 209.838766 \r\nL 341.496044 212.880058 \r\nL 341.587668 214.756364 \r\nL 341.610574 214.494079 \r\nL 341.644933 213.472487 \r\nL 341.667839 214.756364 \r\nL 341.679292 202.738959 \r\nL 341.770916 214.735189 \r\nL 341.782369 214.756364 \r\nL 341.828181 208.000806 \r\nL 341.885446 214.717446 \r\nL 341.908352 214.756364 \r\nL 341.919805 214.447738 \r\nL 341.931258 214.505836 \r\nL 341.942711 207.773303 \r\nL 341.954164 214.756364 \r\nL 342.045788 212.053295 \r\nL 342.125959 208.309518 \r\nL 342.137412 214.756364 \r\nL 342.148865 201.003699 \r\nL 342.240489 214.756364 \r\nL 342.251942 214.756364 \r\nL 342.297754 204.9856 \r\nL 342.355019 214.756364 \r\nL 342.400831 213.706559 \r\nL 342.458096 214.756364 \r\nL 342.469549 214.735189 \r\nL 342.526814 210.703891 \r\nL 342.515361 214.756364 \r\nL 342.584079 214.111728 \r\nL 342.652797 214.756364 \r\nL 342.606985 213.410017 \r\nL 342.687156 214.581318 \r\nL 342.801687 212.365793 \r\nL 342.916217 214.756364 \r\nL 342.984935 211.740687 \r\nL 343.030747 214.118522 \r\nL 343.065106 213.716166 \r\nL 343.122371 214.756364 \r\nL 343.145277 211.356377 \r\nL 343.225448 214.389646 \r\nL 343.282713 214.756364 \r\nL 343.305619 214.062223 \r\nL 343.374337 204.170759 \r\nL 343.328525 214.756364 \r\nL 343.408696 214.756364 \r\nL 343.454508 214.712795 \r\nL 343.465961 213.788937 \r\nL 343.50032 214.409964 \r\nL 343.511773 200.113396 \r\nL 343.557585 214.756364 \r\nL 343.603397 214.726471 \r\nL 343.626303 214.116597 \r\nL 343.637756 210.26238 \r\nL 343.649209 214.756364 \r\nL 343.72938 214.756364 \r\nL 343.763739 214.756364 \r\nL 343.821004 211.630978 \r\nL 343.878269 214.427586 \r\nL 343.889722 214.597201 \r\nL 343.901175 214.270065 \r\nL 343.912628 211.840299 \r\nL 343.935534 214.756364 \r\nL 344.015705 212.688023 \r\nL 344.1875 214.756364 \r\nL 344.267671 201.387889 \r\nL 344.290577 211.931218 \r\nL 344.382201 214.756364 \r\nL 344.405107 214.538841 \r\nL 344.462372 211.812335 \r\nL 344.428013 214.756364 \r\nL 344.508184 213.694266 \r\nL 344.588355 214.756364 \r\nL 344.553996 211.935496 \r\nL 344.622714 214.118522 \r\nL 344.67998 214.756364 \r\nL 344.691433 214.401155 \r\nL 344.783057 207.991262 \r\nL 344.714339 214.756364 \r\nL 344.79451 214.060388 \r\nL 344.805963 214.389646 \r\nL 344.828869 195.621281 \r\nL 344.886134 214.601113 \r\nL 344.90904 214.353984 \r\nL 344.943399 213.404469 \r\nL 344.966305 214.756364 \r\nL 344.989211 214.756364 \r\nL 345.080835 185.674077 \r\nL 345.092288 214.756364 \r\nL 345.103741 214.756364 \r\nL 345.115194 214.488487 \r\nL 345.126647 184.601463 \r\nL 345.149553 214.756364 \r\nL 345.218271 214.756364 \r\nL 345.229724 213.837201 \r\nL 345.241177 214.756364 \r\nL 345.355707 161.681298 \r\nL 345.470237 214.756364 \r\nL 345.516049 196.302959 \r\nL 345.573314 213.755031 \r\nL 345.584767 214.666686 \r\nL 345.59622 208.109917 \r\nL 345.664938 187.029644 \r\nL 345.619126 214.756364 \r\nL 345.699297 213.183558 \r\nL 345.733656 214.536111 \r\nL 345.745109 208.284874 \r\nL 345.779468 214.756364 \r\nL 345.836733 214.507757 \r\nL 345.871092 214.756364 \r\nL 345.882545 214.378366 \r\nL 345.928357 214.756364 \r\nL 345.985622 208.227428 \r\nL 346.031434 214.756364 \r\nL 346.042887 203.11541 \r\nL 346.05434 161.206235 \r\nL 346.100152 214.22463 \r\nL 346.145964 213.940792 \r\nL 346.157417 213.619094 \r\nL 346.180323 214.756364 \r\nL 346.226135 214.756364 \r\nL 346.271947 214.756364 \r\nL 346.2834 214.626204 \r\nL 346.352118 209.825206 \r\nL 346.363571 214.756364 \r\nL 346.386477 214.756364 \r\nL 346.39793 214.756364 \r\nL 346.432289 213.356011 \r\nL 346.501007 214.756364 \r\nL 346.558273 214.756364 \r\nL 346.569726 214.595727 \r\nL 346.66135 214.756364 \r\nL 346.707162 214.756364 \r\nL 346.730068 213.762734 \r\nL 346.810239 214.756364 \r\nL 346.901863 212.945804 \r\nL 346.913316 214.756364 \r\nL 346.982034 214.756364 \r\nL 347.016393 212.707417 \r\nL 347.085111 214.756364 \r\nL 347.142376 214.756364 \r\nL 347.234 214.141393 \r\nL 347.245453 214.756364 \r\nL 347.279812 214.756364 \r\nL 347.34853 211.641924 \r\nL 347.359983 210.513056 \r\nL 347.382889 214.756364 \r\nL 347.428701 214.466634 \r\nL 347.543231 214.756364 \r\nL 347.600496 214.129487 \r\nL 347.646308 214.756364 \r\nL 347.703573 214.756364 \r\nL 347.715026 212.901512 \r\nL 347.80665 214.756364 \r\nL 347.863915 214.756364 \r\nL 347.875368 214.255308 \r\nL 347.966992 214.739395 \r\nL 348.001351 214.756364 \r\nL 348.012804 214.687128 \r\nL 348.058616 182.498402 \r\nL 348.047163 214.756364 \r\nL 348.115881 214.44118 \r\nL 348.138787 214.756364 \r\nL 348.15024 214.345349 \r\nL 348.161693 212.316388 \r\nL 348.173146 214.227937 \r\nL 348.184599 163.987564 \r\nL 348.218958 214.756364 \r\nL 348.276223 214.256685 \r\nL 348.322035 214.756364 \r\nL 348.425113 208.172334 \r\nL 348.539643 214.756364 \r\nL 348.574002 214.756364 \r\nL 348.654173 213.060119 \r\nL 348.677079 214.034144 \r\nL 348.768703 214.756364 \r\nL 348.780156 214.559795 \r\nL 348.791609 213.389317 \r\nL 348.803062 214.756364 \r\nL 348.894686 213.901206 \r\nL 348.98631 214.756364 \r\nL 348.997763 213.510256 \r\nL 349.009216 213.574136 \r\nL 349.043575 211.85909 \r\nL 349.123746 214.756364 \r\nL 349.146652 214.756364 \r\nL 349.158105 213.421063 \r\nL 349.249729 214.756364 \r\nL 349.261182 214.756364 \r\nL 349.295541 208.482876 \r\nL 349.364259 214.756364 \r\nL 349.398618 214.750894 \r\nL 349.44443 213.006143 \r\nL 349.455883 214.154907 \r\nL 349.467336 210.154219 \r\nL 349.478789 214.756364 \r\nL 349.55896 214.756364 \r\nL 349.593319 214.655916 \r\nL 349.604772 213.695009 \r\nL 349.616225 214.756364 \r\nL 349.684943 214.756364 \r\n\" style=\"fill:none;stroke:#1f77b4;stroke-linecap:square;stroke-width:1.5;\"/>\r\n   </g>\r\n   <g id=\"patch_3\">\r\n    <path d=\"M 30.103125 224.64 \r\nL 30.103125 7.2 \r\n\" style=\"fill:none;stroke:#000000;stroke-linecap:square;stroke-linejoin:miter;stroke-width:0.8;\"/>\r\n   </g>\r\n   <g id=\"patch_4\">\r\n    <path d=\"M 364.903125 224.64 \r\nL 364.903125 7.2 \r\n\" style=\"fill:none;stroke:#000000;stroke-linecap:square;stroke-linejoin:miter;stroke-width:0.8;\"/>\r\n   </g>\r\n   <g id=\"patch_5\">\r\n    <path d=\"M 30.103125 224.64 \r\nL 364.903125 224.64 \r\n\" style=\"fill:none;stroke:#000000;stroke-linecap:square;stroke-linejoin:miter;stroke-width:0.8;\"/>\r\n   </g>\r\n   <g id=\"patch_6\">\r\n    <path d=\"M 30.103125 7.2 \r\nL 364.903125 7.2 \r\n\" style=\"fill:none;stroke:#000000;stroke-linecap:square;stroke-linejoin:miter;stroke-width:0.8;\"/>\r\n   </g>\r\n  </g>\r\n </g>\r\n <defs>\r\n  <clipPath id=\"p144cfb4414\">\r\n   <rect height=\"217.44\" width=\"334.8\" x=\"30.103125\" y=\"7.2\"/>\r\n  </clipPath>\r\n </defs>\r\n</svg>\r\n",
      "image/png": "[encoded data removed]"
     },
     "metadata": {
      "needs_background": "light"
     }
    }
   ],
   "source": [
    "plt.plot(clf.components_[0])"
   ]
  },
  {
   "cell_type": "code",
   "execution_count": 66,
   "metadata": {},
   "outputs": [
    {
     "output_type": "execute_result",
     "data": {
      "text/plain": [
       "43.712926057952785"
      ]
     },
     "metadata": {},
     "execution_count": 66
    }
   ],
   "source": [
    "clf.reconstruction_err_"
   ]
  },
  {
   "cell_type": "markdown",
   "metadata": {},
   "source": [
    "### NMF in summary"
   ]
  },
  {
   "cell_type": "markdown",
   "metadata": {},
   "source": [
    "Benefits: Fast and easy to use!\n",
    "\n",
    "Downsides: took years of research and expertise to create"
   ]
  },
  {
   "cell_type": "markdown",
   "metadata": {},
   "source": [
    "Notes:\n",
    "- For NMF, matrix needs to be at least as tall as it is wide, or we get an error with fit_transform\n",
    "- Can use df_min in CountVectorizer to only look at words that were in at least k of the split texts"
   ]
  },
  {
   "cell_type": "markdown",
   "metadata": {},
   "source": [
    "## Truncated SVD"
   ]
  },
  {
   "cell_type": "markdown",
   "metadata": {},
   "source": [
    "We saved a lot of time when we calculated NMF by only calculating the subset of columns we were interested in. Is there a way to get this benefit with SVD? Yes there is! It's called truncated SVD.  We are just interested in the vectors corresponding to the **largest** singular values."
   ]
  },
  {
   "cell_type": "markdown",
   "metadata": {},
   "source": [
    "<img src=\"images/svd_fb.png\" alt=\"\" style=\"width: 80%\"/>\n",
    "\n",
    "(source: [Facebook Research: Fast Randomized SVD](https://research.fb.com/fast-randomized-svd/))"
   ]
  },
  {
   "cell_type": "markdown",
   "metadata": {},
   "source": [
    "#### Shortcomings of classical algorithms for decomposition:"
   ]
  },
  {
   "cell_type": "markdown",
   "metadata": {},
   "source": [
    "- Matrices are \"stupendously big\"\n",
    "- Data are often **missing or inaccurate**.  Why spend extra computational resources when imprecision of input limits precision of the output?\n",
    "- **Data transfer** now plays a major role in time of algorithms.  Techniques the require fewer passes over the data may be substantially faster, even if they require more flops (flops = floating point operations).\n",
    "- Important to take advantage of **GPUs**.\n",
    "\n",
    "(source: [Halko](https://arxiv.org/abs/0909.4061))"
   ]
  },
  {
   "cell_type": "markdown",
   "metadata": {},
   "source": [
    "#### Advantages of randomized algorithms:"
   ]
  },
  {
   "cell_type": "markdown",
   "metadata": {},
   "source": [
    "- inherently stable\n",
    "- performance guarantees do not depend on subtle spectral properties\n",
    "- needed matrix-vector products can be done in parallel\n",
    "\n",
    "(source: [Halko](https://arxiv.org/abs/0909.4061))"
   ]
  },
  {
   "cell_type": "markdown",
   "metadata": {},
   "source": [
    "### Timing comparison"
   ]
  },
  {
   "cell_type": "code",
   "execution_count": 67,
   "metadata": {},
   "outputs": [
    {
     "output_type": "stream",
     "name": "stdout",
     "text": [
      "Wall time: 1min 4s\n"
     ]
    }
   ],
   "source": [
    "%time u, s, v = np.linalg.svd(vectors, full_matrices=False)"
   ]
  },
  {
   "cell_type": "code",
   "execution_count": 68,
   "metadata": {},
   "outputs": [
    {
     "output_type": "error",
     "ename": "ModuleNotFoundError",
     "evalue": "No module named 'fbpca'",
     "traceback": [
      "\u001b[1;31m---------------------------------------------------------------------------\u001b[0m",
      "\u001b[1;31mModuleNotFoundError\u001b[0m                       Traceback (most recent call last)",
      "\u001b[1;32m<ipython-input-68-a165e16435c2>\u001b[0m in \u001b[0;36m<module>\u001b[1;34m\u001b[0m\n\u001b[0;32m      1\u001b[0m \u001b[1;32mfrom\u001b[0m \u001b[0msklearn\u001b[0m \u001b[1;32mimport\u001b[0m \u001b[0mdecomposition\u001b[0m\u001b[1;33m\u001b[0m\u001b[1;33m\u001b[0m\u001b[0m\n\u001b[1;32m----> 2\u001b[1;33m \u001b[1;32mimport\u001b[0m \u001b[0mfbpca\u001b[0m\u001b[1;33m\u001b[0m\u001b[1;33m\u001b[0m\u001b[0m\n\u001b[0m",
      "\u001b[1;31mModuleNotFoundError\u001b[0m: No module named 'fbpca'"
     ]
    }
   ],
   "source": [
    "from sklearn import decomposition\n",
    "import fbpca"
   ]
  },
  {
   "cell_type": "code",
   "execution_count": 83,
   "metadata": {},
   "outputs": [
    {
     "output_type": "stream",
     "name": "stdout",
     "text": [
      "Wall time: 14.2 s\n"
     ]
    }
   ],
   "source": [
    "%time u, s, v = decomposition.randomized_svd(vectors, 10)"
   ]
  },
  {
   "cell_type": "markdown",
   "metadata": {},
   "source": [
    "Randomized SVD from Facebook's library fbpca:"
   ]
  },
  {
   "cell_type": "code",
   "execution_count": 84,
   "metadata": {},
   "outputs": [
    {
     "output_type": "error",
     "ename": "NameError",
     "evalue": "name 'fbpca' is not defined",
     "traceback": [
      "\u001b[1;31m---------------------------------------------------------------------------\u001b[0m",
      "\u001b[1;31mNameError\u001b[0m                                 Traceback (most recent call last)",
      "\u001b[1;32m<timed exec>\u001b[0m in \u001b[0;36m<module>\u001b[1;34m\u001b[0m\n",
      "\u001b[1;31mNameError\u001b[0m: name 'fbpca' is not defined"
     ]
    }
   ],
   "source": [
    "%time u, s, v = fbpca.pca(vectors, 10)"
   ]
  },
  {
   "cell_type": "markdown",
   "metadata": {},
   "source": [
    "For more on randomized SVD, check out my [PyBay 2017 talk](https://www.youtube.com/watch?v=7i6kBz1kZ-A&list=PLtmWHNX-gukLQlMvtRJ19s7-8MrnRV6h6&index=7).\n",
    "\n",
    "For significantly more on randomized SVD, check out the [Computational Linear Algebra course](https://github.com/fastai/numerical-linear-algebra)."
   ]
  },
  {
   "cell_type": "markdown",
   "metadata": {},
   "source": [
    "## End"
   ]
  }
 ],
 "metadata": {
  "kernelspec": {
   "name": "Python 3.7.4 64-bit ('base': conda)",
   "display_name": "Python 3.7.4 64-bit ('base': conda)",
   "metadata": {
    "interpreter": {
     "hash": "e2f8259e5b8ec92e1e315dc31f3298ed74c4ca164b953500ab12b988da14697a"
    }
   }
  },
  "language_info": {
   "codemirror_mode": {
    "name": "ipython",
    "version": 3
   },
   "file_extension": ".py",
   "mimetype": "text/x-python",
   "name": "python",
   "nbconvert_exporter": "python",
   "pygments_lexer": "ipython3",
   "version": "3.7.4-final"
  }
 },
 "nbformat": 4,
 "nbformat_minor": 2
}